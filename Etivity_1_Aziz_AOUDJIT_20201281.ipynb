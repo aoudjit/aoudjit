{
  "nbformat": 4,
  "nbformat_minor": 0,
  "metadata": {
    "colab": {
      "name": "Copy of Copy of Etivity_1_template.ipynb",
      "provenance": [],
      "collapsed_sections": [],
      "include_colab_link": true
    },
    "kernelspec": {
      "name": "python3",
      "display_name": "Python 3"
    },
    "language_info": {
      "name": "python"
    }
  },
  "cells": [
    {
      "cell_type": "markdown",
      "metadata": {
        "id": "view-in-github",
        "colab_type": "text"
      },
      "source": [
        "<a href=\"https://colab.research.google.com/github/aoudjit/aoudjit/blob/main/Etivity_1_Aziz_AOUDJIT_20201281.ipynb\" target=\"_parent\"><img src=\"https://colab.research.google.com/assets/colab-badge.svg\" alt=\"Open In Colab\"/></a>"
      ]
    },
    {
      "cell_type": "markdown",
      "metadata": {
        "id": "jxK1_8f1dvrc"
      },
      "source": [
        "<div>\n",
        "<img src=\"https://drive.google.com/uc?export=view&id=1vK33e_EqaHgBHcbRV_m38hx6IkG0blK_\" width=\"350\"/>\n",
        "</div> \n",
        "\n",
        "#**Artificial Intelligence - MSc**\n",
        "ET5003 - MACHINE LEARNING APPLICATIONS \n",
        "\n",
        "###Instructor: Enrique Naredo\n",
        "###ET5003_Etivity-1"
      ]
    },
    {
      "cell_type": "code",
      "metadata": {
        "id": "LqXD_IwUQuBF",
        "cellView": "form"
      },
      "source": [
        "#@title Current Date\n",
        "Today = '2021-08-22' #@param {type:\"date\"}\n"
      ],
      "execution_count": null,
      "outputs": []
    },
    {
      "cell_type": "code",
      "metadata": {
        "id": "uzDKau31OjVO",
        "cellView": "form"
      },
      "source": [
        "#@markdown ---\n",
        "#@markdown ### Enter your details here:\n",
        "Student_ID = \"20201281\" #@param {type:\"string\"}\n",
        "Student_full_name = \"aziz aoudjit\" #@param {type:\"string\"}\n",
        "#@markdown ---"
      ],
      "execution_count": null,
      "outputs": []
    },
    {
      "cell_type": "code",
      "metadata": {
        "id": "r39xGZckTpKx",
        "cellView": "form"
      },
      "source": [
        "#@title Notebook information\n",
        "Notebook_type = 'Example' #@param [\"Example\", \"Lab\", \"Practice\", \"Etivity\", \"Assignment\", \"Exam\"]\n",
        "Version = 'Draft' #@param [\"Draft\", \"Final\"] {type:\"raw\"}\n",
        "Submission = False #@param {type:\"boolean\"}"
      ],
      "execution_count": null,
      "outputs": []
    },
    {
      "cell_type": "markdown",
      "metadata": {
        "id": "80m304lUefG4"
      },
      "source": [
        "## MNIST dataset"
      ]
    },
    {
      "cell_type": "markdown",
      "metadata": {
        "id": "Bs8mHGcidHSa"
      },
      "source": [
        "\n",
        "\n",
        "The MNIST database  is a dataset of handwritten digits that has been and is extensively used in machine learning. There are $10$ classes, each image is $28\\times28$ pixels and, therefore, each input is $x_i\\in\\mathbb{R}^{784}$. "
      ]
    },
    {
      "cell_type": "markdown",
      "metadata": {
        "id": "ailycCq5epj2"
      },
      "source": [
        "## Task"
      ]
    },
    {
      "cell_type": "markdown",
      "metadata": {
        "id": "a-yNAxhUemjM"
      },
      "source": [
        "You have to extend the code to manage any arbitrary number of classes, in other words you have to implement a general-recipe multinomial logistic classifier and Bayesian multinomial logistic classifier.\n",
        "\n",
        "You must then select  3 digits at random and perform  the following task. \n",
        "\n",
        "1. Your goal is to use Bayesian multinomial logistic regression (as in the road-sign notebook) to solve this classification problem. \n",
        "\n",
        "2. You can downsize the training dataset (e.g., 40% training and 60%testing) if the computation of the posterior takes too much time in your computer.\n",
        "\n",
        "3. Use the posterior uncertainty to detect the instances (digits) in the test set that are hard to classify and remove them from the test-set.\n",
        "\n",
        "4. Then you need to compute again the accuracy of the general-recipe logistic regression on the remaining (non-difficult) instances and comment on the result.\n",
        "\n",
        "5. In practice, the task is to use uncertainty estimation to detect the difficult instances in the test-set. This is equivalent to refuse to classify all high-uncertainty instances or, in other words, when we are uncertain we say \"I don't know\" and we do not return any class. In this way, you will learn how uncertainty can be used to make safer decisions, by detecting the instances that are difficult to classify.\n"
      ]
    },
    {
      "cell_type": "markdown",
      "metadata": {
        "id": "nMRKRTQZe5fW"
      },
      "source": [
        "## Libraries"
      ]
    },
    {
      "cell_type": "code",
      "metadata": {
        "id": "IxusAui7AX_f"
      },
      "source": [
        "# Suppressing Warnings:\n",
        "import warnings\n",
        "warnings.filterwarnings(\"ignore\")"
      ],
      "execution_count": 2,
      "outputs": []
    },
    {
      "cell_type": "code",
      "metadata": {
        "id": "MQOfGMQpdHSb"
      },
      "source": [
        "# Import libraries\n",
        "from sklearn.linear_model import LogisticRegression\n",
        "from sklearn.metrics import accuracy_score\n",
        "from sklearn.model_selection import train_test_split\n",
        "import scipy.optimize as optimize\n",
        "from scipy.special import erf\n",
        "import pandas as pd\n",
        "import numpy as np\n",
        "import seaborn as sns\n",
        "from tqdm import tqdm\n",
        "from skimage.io import imread, imshow\n",
        "import matplotlib.image as mpimg\n",
        "import matplotlib.pyplot as plt\n",
        "import matplotlib\n",
        "%matplotlib inline\n",
        "import arviz as az\n",
        "from scipy.io import loadmat\n",
        "import pymc3 as pm\n",
        "import random\n",
        "from IPython.display import HTML\n",
        "import pickle\n",
        "import theano as tt\n",
        "import cv2\n",
        "from sklearn.utils import shuffle\n",
        "from skimage.color import rgb2gray"
      ],
      "execution_count": 3,
      "outputs": []
    },
    {
      "cell_type": "code",
      "metadata": {
        "id": "P5-qMSjpAQ-9"
      },
      "source": [
        "# Setting a seed:\n",
        "np.random.seed(123)"
      ],
      "execution_count": 4,
      "outputs": []
    },
    {
      "cell_type": "markdown",
      "metadata": {
        "id": "r4hSuwkUfVQb"
      },
      "source": [
        "## Dataset"
      ]
    },
    {
      "cell_type": "markdown",
      "metadata": {
        "id": "w99Pc66YdHSd"
      },
      "source": [
        "### Loading the MNIST dataset"
      ]
    },
    {
      "cell_type": "code",
      "metadata": {
        "colab": {
          "base_uri": "https://localhost:8080/"
        },
        "id": "CYFWAbXVzynp",
        "outputId": "683815de-fab1-4389-9ade-16dff1c72956"
      },
      "source": [
        "from google.colab import drive\n",
        "drive.mount('/content/drive')"
      ],
      "execution_count": 5,
      "outputs": [
        {
          "output_type": "stream",
          "name": "stdout",
          "text": [
            "Mounted at /content/drive\n"
          ]
        }
      ]
    },
    {
      "cell_type": "code",
      "metadata": {
        "colab": {
          "base_uri": "https://localhost:8080/"
        },
        "id": "g4rCnS4vdHSd",
        "outputId": "2e4959e0-821d-495e-a79d-72a9e1233cd8"
      },
      "source": [
        "# Path, copy the path from your Drive\n",
        "Path = '/content/drive/MyDrive/university/modules/ET5003/MNIS/'\n",
        "\n",
        "# MNIST Data\n",
        "train_data = Path + 'mnist_train.csv'\n",
        "test_data = Path + 'mnist_test.csv'\n",
        "\n",
        "# train data\n",
        "df_train = pd.read_csv(train_data)\n",
        "X_train = df_train.drop(\"label\",axis=1).values\n",
        "y_train = df_train.label.values\n",
        "print(X_train.shape)\n",
        "\n",
        "# test data\n",
        "df_test = pd.read_csv(test_data)\n",
        "X_test = df_test.drop(\"label\",axis=1).values\n",
        "y_test = df_test.label.values\n",
        "print(X_test.shape)"
      ],
      "execution_count": 6,
      "outputs": [
        {
          "output_type": "stream",
          "name": "stdout",
          "text": [
            "(60000, 784)\n",
            "(9701, 784)\n"
          ]
        }
      ]
    },
    {
      "cell_type": "code",
      "metadata": {
        "colab": {
          "base_uri": "https://localhost:8080/"
        },
        "id": "O2ubJ_WoAqBh",
        "outputId": "f05ed0c7-b1f8-4af8-d35b-9e83bd2a14c4"
      },
      "source": [
        "# Normalizing the Inputs:\n",
        "X_train = X_train/255\n",
        "X_test = X_test/255\n",
        "\n",
        "# Printing the new input range of values:\n",
        "minv = np.min(X_train)\n",
        "maxv = np.max(X_train)\n",
        "print(minv,maxv)"
      ],
      "execution_count": 7,
      "outputs": [
        {
          "output_type": "stream",
          "name": "stdout",
          "text": [
            "0.0 1.0\n"
          ]
        }
      ]
    },
    {
      "cell_type": "markdown",
      "metadata": {
        "id": "SR6HpkWndHSe"
      },
      "source": [
        "### Description of Data:"
      ]
    },
    {
      "cell_type": "code",
      "metadata": {
        "colab": {
          "base_uri": "https://localhost:8080/"
        },
        "id": "sibN1Vv1dHSf",
        "outputId": "f04d8e36-bf15-4605-f21f-bc6e778fc5e8"
      },
      "source": [
        "# Number of examples\n",
        "n_train =  len(X_train)\n",
        "n_test =  len(X_test)\n",
        "\n",
        "# Shape of an traffic sign image\n",
        "image_shape = X_train.shape[1]\n",
        "\n",
        "# unique classes/labels in the training dataset.\n",
        "alltotal = set(y_train)\n",
        "n_classes = len(alltotal)\n",
        "\n",
        "print(\"Number of Training examples =\", n_train)\n",
        "print(\"Number of Test examples =\", n_test)\n",
        "print(\"Image input shape =\", image_shape)\n",
        "print(\"Number of classes =\", n_classes)"
      ],
      "execution_count": 8,
      "outputs": [
        {
          "output_type": "stream",
          "name": "stdout",
          "text": [
            "Number of Training examples = 60000\n",
            "Number of Test examples = 9701\n",
            "Image input shape = 784\n",
            "Number of classes = 10\n"
          ]
        }
      ]
    },
    {
      "cell_type": "markdown",
      "metadata": {
        "id": "6HQDSvrRKZF6"
      },
      "source": [
        "### Class Distribution:"
      ]
    },
    {
      "cell_type": "code",
      "metadata": {
        "id": "XG8GdlpBKdCt",
        "colab": {
          "base_uri": "https://localhost:8080/",
          "height": 295
        },
        "outputId": "81574628-b1f7-44ac-c83a-67bece619e4a"
      },
      "source": [
        "fig, ax = plt.subplots()\n",
        "ind = np.arange(n_classes)\n",
        "\n",
        "n, bins, patches = ax.hist(y_train, n_classes)\n",
        "ax.set_xlabel('classes')\n",
        "ax.set_ylabel('counts')\n",
        "ax.set_title(r'Histogram of Digit images')\n",
        "plt.show()"
      ],
      "execution_count": 9,
      "outputs": [
        {
          "output_type": "display_data",
          "data": {
            "image/png": "[encoded data removed]",
            "text/plain": [
              "<Figure size 432x288 with 1 Axes>"
            ]
          },
          "metadata": {
            "needs_background": "light"
          }
        }
      ]
    },
    {
      "cell_type": "markdown",
      "metadata": {
        "id": "EyLWw3nsLCtk"
      },
      "source": [
        "## Downsampling"
      ]
    },
    {
      "cell_type": "markdown",
      "metadata": {
        "id": "2U1lFEwhLKBf"
      },
      "source": [
        "### Randomly selecting 3 of the 10 Digit Classes"
      ]
    },
    {
      "cell_type": "code",
      "metadata": {
        "id": "0EeRZZWdLRPT",
        "colab": {
          "base_uri": "https://localhost:8080/"
        },
        "outputId": "9be5cdb5-b92b-4d22-d0c8-98cb0bfc4e39"
      },
      "source": [
        "# We select the number of Classes we want:\n",
        "n_classes = [2,3,8]\n",
        "\n",
        "# Empty list to append the random digit classes we select:\n",
        "classes = []\n",
        "\n",
        "# We select 3 digits at random and make sure they are unique:\n",
        "for i in n_classes  :\n",
        "    \n",
        "    # Randomly drawing a digit from 0-9:\n",
        "    num2choose = np.random.randint(0,10)\n",
        "\n",
        "    # Append the digit if it's not already in our list of classes:\n",
        "    if num2choose not in classes: \n",
        "        classes.append(num2choose)\n",
        "        \n",
        "        \n",
        "# Sorting the Classes smallest to largest    \n",
        "classes=sorted(classes)\n",
        "# print classes selected\n",
        "print(classes)"
      ],
      "execution_count": 11,
      "outputs": [
        {
          "output_type": "stream",
          "name": "stdout",
          "text": [
            "[1, 3, 9]\n"
          ]
        }
      ]
    },
    {
      "cell_type": "code",
      "metadata": {
        "id": "2M8R5NqKMB_M"
      },
      "source": [
        "# The number of instances we'll keep for each of our 3 digits:\n",
        "inst_class = 5000\n",
        "inputs = []\n",
        "labels = []\n",
        "\n",
        "# Loop to randomly sample the instances for each digit:\n",
        "for r in classes:\n",
        "    imgs = X_train[np.where(y_train==r)[0],:]\n",
        "    inputs.append(imgs[np.random.permutation(imgs.shape[0]),:][0:inst_class,:])\n",
        "    labels.append(np.ones(inst_class)*r)\n",
        "    \n",
        "# Shaping inputs and labels in the right format    \n",
        "X_train = np.vstack(inputs).astype(np.float64)\n",
        "y_train = np.hstack(labels)"
      ],
      "execution_count": 12,
      "outputs": []
    },
    {
      "cell_type": "markdown",
      "metadata": {
        "id": "_6-YHrQQMicy"
      },
      "source": [
        "New Classes Distribution"
      ]
    },
    {
      "cell_type": "code",
      "metadata": {
        "id": "RA300COaMxWm"
      },
      "source": [
        "# new histogram"
      ],
      "execution_count": null,
      "outputs": []
    },
    {
      "cell_type": "code",
      "metadata": {
        "id": "eFgP4xugMvJm"
      },
      "source": [
        "# plot digits\n",
        "def plot_digits(instances, images_per_row=5, **options):\n",
        "    size = 28\n",
        "    images_per_row = min(len(instances), images_per_row)\n",
        "    images = [instance.reshape(size,size) for instance in instances]\n",
        "    n_rows = (len(instances) - 1) // images_per_row + 1\n",
        "    row_images = []\n",
        "    n_empty = n_rows * images_per_row - len(instances)\n",
        "    images.append(np.zeros((size, size * n_empty)))\n",
        "    for row in range(n_rows):\n",
        "        rimages = images[row * images_per_row : (row + 1) * images_per_row]\n",
        "        row_images.append(np.concatenate(rimages, axis=1))\n",
        "    image = np.concatenate(row_images, axis=0)\n",
        "    plt.imshow(image,  cmap='gist_yarg', **options)\n",
        "    plt.axis(\"off\")"
      ],
      "execution_count": 13,
      "outputs": []
    },
    {
      "cell_type": "code",
      "metadata": {
        "id": "zeEG-LGOM4fJ",
        "colab": {
          "base_uri": "https://localhost:8080/",
          "height": 115
        },
        "outputId": "1b010833-62b8-4f18-df72-272e84313f7c"
      },
      "source": [
        "# Show a few instances from each Digit:\n",
        "plt.figure(figsize=(8,8))\n",
        "\n",
        "# Selecting a few label indices from each of the 3 classes to show:\n",
        "label_indices = [1,125,221,9,31,22,8,33,25]\n",
        "\n",
        "# Plotting 'original' image\n",
        "plot_digits(X_train[label_indices,:],images_per_row=9)\n",
        "plt.title(\"Original\", fontsize=14)"
      ],
      "execution_count": 14,
      "outputs": [
        {
          "output_type": "execute_result",
          "data": {
            "text/plain": [
              "Text(0.5, 1.0, 'Original')"
            ]
          },
          "metadata": {},
          "execution_count": 14
        },
        {
          "output_type": "display_data",
          "data": {
            "image/png": "[encoded data removed]",
            "text/plain": [
              "<Figure size 576x576 with 1 Axes>"
            ]
          },
          "metadata": {
            "needs_background": "light"
          }
        }
      ]
    },
    {
      "cell_type": "markdown",
      "metadata": {
        "id": "FsAOnOcNNG_V"
      },
      "source": [
        "###  Splitting the Training data into both Training and Validation Sets:\n",
        "\n",
        "- Although this is the Training set, we can still set aside some samples (for instance 20%) of the 1,500 instances we have for Model Validation purposes.\n",
        "\n",
        "\n",
        "- With that Validation Set, we can then select the amount of Uncertainty we are happy with from our Model to use out of sample on other unseen data.\n",
        "\n",
        "\n",
        "- We can then test out how well our decision performs on the Test Set that we put aside earlier."
      ]
    },
    {
      "cell_type": "code",
      "metadata": {
        "id": "YdsmyVAtPXNn"
      },
      "source": [
        "### Split tha dataset in training and validation sets\n",
        "# choose the fraction of your validation data from the training set\n",
        "w = 0.40\n",
        "X_train, X_val, y_train, y_val = train_test_split(X_train, y_train, test_size=w, random_state=0)\n",
        " \n",
        "# Shuffling the training instaces around to randomize the order of inputs to the model:\n",
        "X_train, y_train = shuffle(X_train, y_train)"
      ],
      "execution_count": 15,
      "outputs": []
    },
    {
      "cell_type": "code",
      "metadata": {
        "id": "qXwJwP0iPxhi",
        "colab": {
          "base_uri": "https://localhost:8080/"
        },
        "outputId": "e9881aab-f74a-4d9a-f14d-a1b29171b78d"
      },
      "source": [
        "# print shape of your validation and training set\n",
        "print(X_train.shape)\n",
        "print(X_val.shape)\n",
        "\n",
        "\n"
      ],
      "execution_count": 16,
      "outputs": [
        {
          "output_type": "stream",
          "name": "stdout",
          "text": [
            "(9000, 784)\n",
            "(6000, 784)\n"
          ]
        }
      ]
    },
    {
      "cell_type": "markdown",
      "metadata": {
        "id": "aOroY1QoP8DY"
      },
      "source": [
        "### Encoding the Class labels for the Probabilistic ML Model:\n",
        "\n",
        "This is an example:\n",
        "\n",
        "- **[1,0,0]** for first digit\n",
        "- **[0,1,0]** for second digit\n",
        "- **[0,0,1]** for third digit"
      ]
    },
    {
      "cell_type": "markdown",
      "metadata": {
        "id": "rjUaqWTqQIcp"
      },
      "source": [
        "### General-Recipe ML"
      ]
    },
    {
      "cell_type": "code",
      "metadata": {
        "id": "QzgdivxfQNv5",
        "colab": {
          "base_uri": "https://localhost:8080/"
        },
        "outputId": "7914f84e-ae3a-416d-b540-e99444f9197f"
      },
      "source": [
        "# model\n",
        "model_log = LogisticRegression(random_state=0, max_iter=2000, C=100, solver='lbfgs', multi_class='multinomial').fit(X_train, y_train)\n",
        "\n",
        "# Classification:\n",
        "y_pred_log = model_log.predict(X_val)\n",
        "y_pred_logi_prob = model_log.predict_proba(X_val)\n",
        "\n",
        "# Maybe taking the maximum probability \n",
        "# in any of the classes for each observation\n",
        "prob_classmax = np.max(y_pred_logi_prob,axis=1)\n",
        "\n",
        "# Computing the Accuracy:\n",
        "accuracy_score(y_pred_log, y_val)"
      ],
      "execution_count": 17,
      "outputs": [
        {
          "output_type": "execute_result",
          "data": {
            "text/plain": [
              "0.9753333333333334"
            ]
          },
          "metadata": {},
          "execution_count": 17
        }
      ]
    },
    {
      "cell_type": "markdown",
      "metadata": {
        "id": "3uQG6JsOQxH5"
      },
      "source": [
        "### Probabilistic Multinomial Logistic Regression:"
      ]
    },
    {
      "cell_type": "code",
      "metadata": {
        "id": "W3jzczJzRAtT"
      },
      "source": [
        "import sklearn.preprocessing\n",
        "## We use LabelBinarizer to transfor classes into counts\n",
        "# neg_label=0, pos_label=1 \n",
        "y_2_bin = sklearn.preprocessing.LabelBinarizer().fit_transform(y_train.reshape(-1,1))\n",
        "nf = X_train.shape[1]\n",
        "# number of classes\n",
        "nc = len(classes)\n",
        "# floatX = float32\n",
        "floatX = tt.config.floatX\n",
        "\n",
        "init_b = np.random.randn(nf, nc-1).astype(floatX)\n",
        "init_a = np.random.randn(nc-1).astype(floatX)\n",
        "\n",
        "\n",
        "with pm.Model() as multi_logistic:\n",
        "    # Prior\n",
        "    β = pm.Normal('beta', 0, sigma=100, shape=(nf, nc-1), testval=init_b)\n",
        "    α = pm.Normal('alpha', 0, sigma=100, shape=(nc-1,), testval=init_a)\n",
        "    \n",
        "    # we need to consider nc-1 features because the model is not identifiable\n",
        "    # the softmax turns a vector into a probability that sums up to one\n",
        "    # therefore we add zeros to go back to dimension nc\n",
        "    # so that softmax returns a vector of dimension nc\n",
        "    β1  = tt.tensor.concatenate([np.zeros((nf,1)),β ],axis=1)\n",
        "    α1  = tt.tensor.concatenate([[0],α ],)\n",
        "    \n",
        "    # Likelihood\n",
        "    mu = pm.math.matrix_dot(X_train,β1) + α1\n",
        "    # It doesn't work if the problem is binary\n",
        "    p = tt.tensor.nnet.nnet.softmax(mu)\n",
        "    observed = pm.Multinomial('likelihood', p=p, n=1, observed=y_2_bin)\n"
      ],
      "execution_count": 18,
      "outputs": []
    },
    {
      "cell_type": "markdown",
      "metadata": {
        "id": "irlmUNw7Q5YL"
      },
      "source": [
        "The Multinomial Logistic Regression has some parameters:\n",
        "\n",
        "- $\\alpha$, which is the intercept term:\n",
        "\n",
        "- $\\beta$, which is a vector of coefficients which give a weighting to the importance of each input feature:\n"
      ]
    },
    {
      "cell_type": "code",
      "metadata": {
        "id": "1o7mbKWmRhz5",
        "colab": {
          "base_uri": "https://localhost:8080/"
        },
        "outputId": "10e19146-1ae5-4e28-fd75-d62ec21419b3"
      },
      "source": [
        "y_2_bin"
      ],
      "execution_count": 19,
      "outputs": [
        {
          "output_type": "execute_result",
          "data": {
            "text/plain": [
              "array([[0, 1, 0],\n",
              "       [0, 0, 1],\n",
              "       [0, 0, 1],\n",
              "       ...,\n",
              "       [0, 0, 1],\n",
              "       [0, 0, 1],\n",
              "       [0, 0, 1]])"
            ]
          },
          "metadata": {},
          "execution_count": 19
        }
      ]
    },
    {
      "cell_type": "code",
      "metadata": {
        "id": "aj6Uzc05Rhtr",
        "colab": {
          "base_uri": "https://localhost:8080/",
          "height": 70
        },
        "outputId": "cde658b3-caf1-4a54-b6b2-9e2bf75c78c8"
      },
      "source": [
        "with multi_logistic:\n",
        "    #approx = pm.fit(300000, method='advi') # takes longer\n",
        "    approx = pm.fit(3000, method='advi')"
      ],
      "execution_count": 20,
      "outputs": [
        {
          "output_type": "stream",
          "name": "stderr",
          "text": [
            "WARNING (theano.tensor.blas): We did not find a dynamic library in the library_dir of the library we use for blas. If you use ATLAS, make sure to compile it with dynamics library.\n"
          ]
        },
        {
          "output_type": "display_data",
          "data": {
            "text/html": [
              "\n",
              "    <div>\n",
              "        <style>\n",
              "            /* Turns off some styling */\n",
              "            progress {\n",
              "                /* gets rid of default border in Firefox and Opera. */\n",
              "                border: none;\n",
              "                /* Needs to be in here for Safari polyfill so background images work as expected. */\n",
              "                background-size: auto;\n",
              "            }\n",
              "            .progress-bar-interrupted, .progress-bar-interrupted::-webkit-progress-bar {\n",
              "                background: #F44336;\n",
              "            }\n",
              "        </style>\n",
              "      <progress value='3000' class='' max='3000' style='width:300px; height:20px; vertical-align: middle;'></progress>\n",
              "      100.00% [3000/3000 02:16<00:00 Average Loss = 13,005]\n",
              "    </div>\n",
              "    "
            ],
            "text/plain": [
              "<IPython.core.display.HTML object>"
            ]
          },
          "metadata": {}
        },
        {
          "output_type": "stream",
          "name": "stderr",
          "text": [
            "Finished [100%]: Average Loss = 12,965\n"
          ]
        }
      ]
    },
    {
      "cell_type": "code",
      "metadata": {
        "id": "2MFH4gwlRhrB",
        "colab": {
          "base_uri": "https://localhost:8080/",
          "height": 282
        },
        "outputId": "0d65b0d1-ad8a-42c0-efd4-e3c8b0bbe819"
      },
      "source": [
        "plt.plot(approx.hist)"
      ],
      "execution_count": null,
      "outputs": [
        {
          "output_type": "execute_result",
          "data": {
            "text/plain": [
              "[<matplotlib.lines.Line2D at 0x7f8e886205d0>]"
            ]
          },
          "metadata": {},
          "execution_count": 43
        },
        {
          "output_type": "display_data",
          "data": {
            "image/png": "[encoded data removed]",
            "text/plain": [
              "<Figure size 432x288 with 1 Axes>"
            ]
          },
          "metadata": {
            "needs_background": "light"
          }
        }
      ]
    },
    {
      "cell_type": "code",
      "metadata": {
        "id": "WNmJvYc4Rho7",
        "colab": {
          "base_uri": "https://localhost:8080/",
          "height": 243
        },
        "outputId": "6e9b7449-2a90-4f86-f152-6eb489df9f5e"
      },
      "source": [
        "dd = 300\n",
        "posterior = approx.sample(draws=dd)\n",
        "## The softmax function transforms each element of a collection by computing the exponential\n",
        "#  of each element divided by the sum of the exponentials of all the elements.\n",
        "from scipy.special import softmax\n",
        "\n",
        "#select an image in the test set\n",
        "i = 10 \n",
        "#i = random.randint(0, dd)\n",
        "\n",
        "#select a sample in the posterior\n",
        "s = 100 \n",
        "#s = random.randint(0, dd)\n",
        "\n",
        "\n",
        "beta  = np.hstack([np.zeros((nf,1)),  posterior['beta'][s,:] ])\n",
        "alpha = np.hstack([[0],  posterior['alpha'][s,:] ])\n",
        "image = X_val[i,:].reshape(28,28)\n",
        "plt.figure(figsize=(2,2))\n",
        "plt.imshow(image,cmap=\"Greys_r\")\n",
        "np.set_printoptions(suppress=True)\n",
        "\n",
        "print(\"test image #\" + str(i))\n",
        "print(\"posterior sample #\" + str(s))\n",
        "print(\"true class=\", y_val[i])\n",
        "print(\"classes: \" + str(classes))\n",
        "print(\"estimated prob=\",softmax((np.array([X_val[i,:].dot(beta) + alpha])))[0,:])"
      ],
      "execution_count": 21,
      "outputs": [
        {
          "output_type": "stream",
          "name": "stdout",
          "text": [
            "test image #10\n",
            "posterior sample #100\n",
            "true class= 9.0\n",
            "classes: [1, 3, 9]\n",
            "estimated prob= [0.         0.00000001 0.99999999]\n"
          ]
        },
        {
          "output_type": "display_data",
          "data": {
            "image/png": "[encoded data removed]",
            "text/plain": [
              "<Figure size 144x144 with 1 Axes>"
            ]
          },
          "metadata": {
            "needs_background": "light"
          }
        }
      ]
    },
    {
      "cell_type": "code",
      "metadata": {
        "id": "XXh5GXJsRhmr",
        "cellView": "code"
      },
      "source": [
        "#@title Default title text\n",
        "# Bayesian prediction\n",
        "# return the class that has the highest posterior probability\n",
        "y_pred_Bayesian=[]\n",
        "\n",
        "for i in range(X_val.shape[0]):\n",
        "    val=np.zeros((1,len(classes)))\n",
        "    \n",
        "    for s in range(posterior['beta'].shape[0]):\n",
        "        beta = np.hstack([np.zeros((nf,1)),  posterior['beta'][s,:] ])\n",
        "        alpha = np.hstack([[0],  posterior['alpha'][s,:] ])     \n",
        "        val = val + softmax((np.array([X_val[i,:].dot(beta) + alpha])))\n",
        "    \n",
        "    mean_probability = val/posterior['beta'].shape[0]\n",
        "    y_pred_Bayesian.append( np.argmax(mean_probability))"
      ],
      "execution_count": 22,
      "outputs": []
    },
    {
      "cell_type": "code",
      "metadata": {
        "colab": {
          "base_uri": "https://localhost:8080/"
        },
        "id": "UFg0oJIKC_ZZ",
        "outputId": "587a2f2a-b488-4d9f-8c3e-4db8c3ad5500"
      },
      "source": [
        "print(y_pred_Bayesian)"
      ],
      "execution_count": 23,
      "outputs": [
        {
          "output_type": "stream",
          "name": "stdout",
          "text": [
            "[0, 2, 2, 0, 1, 0, 2, 2, 1, 0, 2, 1, 0, 2, 0, 2, 0, 2, 2, 1, 2, 1, 1, 0, 0, 0, 2, 1, 1, 1, 1, 2, 1, 2, 2, 1, 2, 1, 2, 1, 2, 1, 2, 2, 0, 2, 1, 2, 2, 2, 2, 2, 1, 1, 2, 0, 0, 0, 2, 1, 2, 2, 1, 1, 0, 2, 1, 1, 1, 0, 2, 0, 1, 0, 2, 2, 1, 2, 0, 2, 2, 0, 0, 1, 2, 2, 2, 1, 1, 0, 0, 1, 0, 1, 2, 0, 1, 0, 0, 1, 1, 0, 1, 2, 2, 1, 0, 2, 2, 0, 1, 2, 1, 1, 1, 0, 2, 0, 1, 1, 2, 1, 0, 2, 0, 0, 0, 0, 2, 2, 2, 1, 1, 1, 2, 1, 2, 0, 1, 0, 1, 2, 1, 1, 0, 1, 0, 1, 1, 0, 0, 1, 1, 2, 2, 1, 2, 0, 0, 1, 0, 1, 2, 0, 0, 0, 1, 2, 2, 1, 2, 2, 1, 1, 1, 2, 1, 1, 2, 0, 2, 1, 2, 0, 0, 2, 2, 1, 2, 2, 0, 1, 2, 2, 1, 0, 0, 0, 2, 1, 1, 2, 1, 1, 2, 0, 2, 0, 2, 1, 2, 2, 0, 1, 0, 0, 2, 0, 2, 0, 1, 2, 2, 0, 0, 2, 2, 2, 2, 1, 1, 2, 1, 0, 2, 0, 0, 2, 1, 2, 1, 2, 2, 2, 2, 0, 1, 0, 0, 0, 1, 1, 1, 2, 2, 2, 1, 2, 2, 2, 2, 2, 0, 1, 2, 1, 1, 1, 0, 1, 0, 0, 2, 2, 2, 1, 2, 0, 0, 2, 2, 0, 1, 1, 0, 0, 0, 2, 1, 1, 2, 0, 1, 2, 0, 0, 1, 1, 1, 1, 0, 0, 2, 1, 1, 1, 2, 1, 0, 0, 0, 2, 0, 2, 2, 2, 0, 1, 0, 0, 2, 1, 2, 0, 2, 1, 2, 1, 1, 2, 1, 2, 2, 0, 0, 0, 1, 2, 2, 1, 2, 1, 1, 2, 1, 0, 0, 2, 1, 0, 1, 1, 2, 1, 2, 2, 2, 2, 0, 0, 0, 0, 1, 0, 0, 0, 2, 2, 0, 1, 0, 2, 0, 0, 2, 2, 1, 0, 0, 1, 2, 0, 2, 0, 2, 0, 2, 2, 2, 2, 1, 0, 0, 2, 1, 0, 1, 2, 1, 1, 2, 0, 0, 0, 0, 1, 0, 1, 1, 2, 0, 1, 0, 0, 1, 0, 2, 0, 2, 0, 1, 0, 1, 0, 1, 1, 0, 1, 1, 2, 1, 1, 1, 1, 0, 0, 2, 1, 1, 1, 2, 0, 1, 1, 1, 2, 2, 0, 0, 1, 2, 2, 1, 2, 0, 2, 1, 0, 2, 0, 2, 0, 1, 0, 0, 1, 0, 0, 0, 2, 0, 2, 2, 2, 2, 2, 1, 0, 2, 0, 1, 2, 1, 1, 1, 0, 2, 1, 0, 1, 1, 0, 0, 0, 1, 1, 2, 2, 0, 2, 1, 1, 1, 1, 2, 0, 1, 0, 2, 0, 2, 2, 0, 0, 2, 2, 0, 2, 1, 2, 1, 2, 1, 1, 1, 1, 0, 1, 1, 2, 2, 0, 2, 2, 2, 2, 1, 2, 2, 2, 1, 2, 1, 0, 0, 0, 1, 2, 0, 1, 2, 2, 2, 2, 0, 1, 1, 1, 0, 0, 0, 1, 0, 1, 0, 2, 0, 1, 0, 2, 0, 1, 0, 1, 0, 2, 2, 0, 2, 1, 2, 2, 2, 0, 2, 2, 1, 2, 1, 2, 2, 1, 0, 1, 0, 1, 1, 1, 0, 2, 0, 2, 1, 1, 0, 0, 0, 1, 2, 0, 1, 0, 1, 1, 0, 0, 0, 2, 0, 2, 1, 0, 2, 1, 1, 0, 0, 2, 1, 0, 2, 0, 2, 2, 0, 1, 1, 0, 0, 0, 1, 1, 0, 2, 0, 1, 1, 0, 2, 1, 1, 0, 2, 1, 2, 1, 1, 2, 1, 2, 2, 1, 0, 1, 1, 0, 2, 1, 2, 1, 2, 1, 2, 1, 0, 2, 1, 1, 0, 2, 2, 1, 1, 0, 0, 1, 2, 1, 0, 0, 2, 1, 0, 2, 2, 2, 0, 2, 2, 1, 1, 2, 1, 2, 2, 1, 1, 0, 1, 1, 2, 1, 1, 0, 1, 0, 1, 1, 0, 1, 1, 1, 2, 0, 0, 0, 1, 1, 0, 2, 0, 1, 0, 2, 1, 2, 0, 0, 1, 1, 0, 0, 1, 0, 1, 2, 1, 2, 0, 0, 2, 1, 0, 2, 0, 0, 2, 1, 2, 0, 0, 1, 2, 2, 1, 0, 0, 0, 1, 0, 1, 0, 1, 2, 1, 0, 1, 1, 2, 0, 2, 0, 2, 1, 0, 2, 0, 2, 2, 0, 2, 2, 2, 2, 1, 0, 1, 2, 1, 0, 1, 2, 0, 0, 2, 2, 0, 0, 0, 1, 0, 0, 0, 2, 0, 2, 2, 2, 0, 0, 1, 0, 1, 2, 0, 1, 2, 2, 1, 2, 2, 2, 1, 0, 0, 2, 0, 1, 0, 2, 2, 2, 0, 0, 1, 1, 1, 1, 0, 2, 0, 2, 0, 0, 0, 2, 2, 2, 2, 2, 1, 0, 0, 1, 1, 1, 1, 1, 0, 2, 2, 2, 1, 2, 0, 0, 0, 0, 1, 2, 0, 2, 2, 1, 2, 1, 0, 2, 1, 1, 2, 1, 2, 2, 1, 0, 1, 0, 0, 2, 1, 0, 0, 2, 2, 1, 0, 1, 0, 0, 2, 1, 0, 2, 0, 0, 0, 1, 2, 1, 1, 2, 2, 2, 0, 1, 2, 0, 1, 2, 0, 2, 2, 0, 1, 2, 1, 2, 2, 2, 0, 2, 2, 0, 0, 1, 1, 2, 2, 2, 1, 2, 2, 2, 0, 0, 0, 2, 2, 2, 1, 1, 1, 2, 0, 2, 1, 1, 0, 0, 1, 0, 0, 2, 0, 0, 2, 0, 0, 1, 2, 1, 2, 2, 1, 0, 1, 1, 2, 2, 2, 0, 2, 2, 1, 2, 2, 0, 0, 0, 0, 1, 0, 0, 1, 2, 0, 0, 2, 2, 0, 0, 1, 2, 0, 0, 2, 2, 2, 2, 0, 0, 1, 0, 0, 0, 1, 0, 1, 0, 0, 1, 1, 2, 2, 0, 2, 1, 0, 0, 2, 0, 1, 2, 2, 0, 0, 2, 1, 1, 1, 1, 1, 0, 1, 1, 1, 1, 1, 0, 0, 2, 0, 0, 0, 2, 1, 0, 2, 2, 2, 1, 0, 0, 1, 1, 1, 2, 2, 1, 2, 0, 0, 2, 0, 1, 0, 1, 1, 0, 1, 1, 2, 1, 2, 0, 2, 0, 2, 0, 2, 2, 2, 2, 1, 1, 1, 1, 2, 1, 2, 2, 0, 0, 2, 0, 1, 1, 2, 1, 0, 2, 1, 1, 1, 2, 1, 1, 2, 2, 0, 1, 0, 0, 1, 2, 1, 1, 2, 0, 1, 1, 2, 0, 1, 2, 2, 1, 2, 0, 0, 1, 2, 1, 0, 2, 1, 1, 1, 1, 0, 2, 0, 1, 0, 2, 2, 0, 0, 1, 0, 2, 1, 2, 1, 2, 2, 2, 1, 1, 2, 2, 1, 1, 1, 0, 1, 2, 2, 0, 1, 1, 0, 1, 2, 0, 0, 2, 2, 2, 2, 0, 2, 1, 2, 2, 2, 1, 2, 1, 1, 2, 2, 1, 0, 2, 2, 2, 1, 1, 2, 1, 2, 1, 2, 1, 0, 2, 0, 2, 1, 0, 0, 2, 1, 2, 1, 0, 2, 1, 0, 2, 0, 1, 1, 0, 1, 1, 2, 1, 2, 1, 2, 0, 1, 1, 2, 2, 2, 0, 2, 0, 0, 2, 0, 0, 1, 0, 2, 0, 2, 1, 1, 0, 2, 0, 0, 2, 2, 0, 0, 0, 2, 2, 1, 2, 2, 1, 2, 2, 0, 2, 2, 1, 1, 0, 1, 1, 1, 1, 0, 2, 1, 0, 2, 1, 2, 2, 0, 2, 2, 1, 1, 2, 2, 1, 2, 2, 0, 2, 2, 2, 2, 1, 0, 0, 0, 2, 1, 1, 0, 1, 2, 2, 1, 0, 1, 1, 1, 0, 0, 1, 2, 1, 1, 0, 1, 1, 0, 0, 2, 0, 1, 2, 0, 0, 1, 1, 0, 0, 1, 1, 0, 1, 1, 2, 0, 2, 2, 1, 2, 1, 1, 0, 0, 2, 2, 2, 1, 2, 1, 2, 0, 1, 1, 1, 2, 0, 1, 2, 1, 0, 2, 0, 2, 1, 2, 2, 1, 0, 2, 0, 0, 0, 0, 2, 1, 0, 0, 2, 2, 0, 2, 0, 0, 0, 1, 1, 0, 1, 1, 2, 1, 1, 2, 0, 0, 2, 2, 2, 1, 1, 1, 1, 1, 0, 1, 1, 0, 1, 1, 0, 1, 0, 0, 1, 0, 0, 0, 0, 1, 1, 0, 1, 1, 2, 1, 2, 0, 1, 1, 0, 1, 0, 2, 2, 0, 2, 1, 2, 2, 0, 1, 0, 1, 1, 0, 1, 0, 1, 1, 0, 0, 0, 0, 1, 0, 2, 0, 2, 2, 2, 0, 0, 1, 0, 0, 1, 2, 0, 0, 2, 2, 2, 2, 2, 2, 0, 1, 1, 0, 1, 0, 0, 0, 1, 0, 0, 1, 0, 2, 1, 1, 1, 0, 0, 0, 0, 1, 1, 0, 1, 2, 1, 0, 1, 1, 1, 1, 1, 0, 1, 1, 2, 0, 1, 0, 1, 0, 1, 0, 1, 0, 0, 1, 0, 0, 0, 1, 2, 0, 2, 1, 0, 1, 1, 0, 0, 0, 2, 0, 0, 2, 1, 0, 1, 0, 1, 0, 0, 2, 1, 1, 1, 1, 2, 1, 0, 0, 1, 0, 2, 1, 1, 2, 2, 0, 0, 2, 0, 2, 1, 1, 0, 1, 0, 0, 0, 2, 0, 2, 2, 2, 2, 0, 2, 1, 1, 1, 1, 2, 2, 0, 1, 0, 1, 2, 0, 1, 0, 0, 0, 2, 1, 2, 1, 1, 1, 0, 0, 2, 1, 1, 1, 1, 0, 1, 0, 0, 0, 1, 2, 1, 1, 0, 2, 0, 2, 1, 2, 1, 2, 2, 1, 2, 0, 1, 2, 0, 2, 2, 0, 2, 0, 0, 1, 2, 1, 1, 1, 1, 1, 1, 1, 0, 2, 0, 2, 0, 1, 0, 1, 1, 0, 0, 2, 2, 0, 0, 2, 2, 1, 1, 1, 0, 0, 1, 0, 0, 2, 1, 1, 0, 0, 1, 0, 1, 2, 0, 2, 2, 1, 1, 0, 1, 2, 2, 2, 0, 2, 1, 0, 0, 2, 0, 0, 2, 1, 1, 0, 2, 0, 0, 2, 2, 1, 2, 0, 2, 2, 1, 1, 0, 0, 0, 0, 0, 2, 1, 0, 0, 1, 0, 2, 2, 1, 1, 2, 2, 2, 2, 0, 0, 1, 1, 1, 2, 0, 0, 2, 2, 0, 1, 1, 2, 2, 2, 0, 0, 1, 2, 0, 2, 1, 1, 1, 2, 2, 1, 2, 0, 1, 1, 1, 2, 2, 1, 0, 0, 0, 0, 0, 1, 1, 1, 2, 2, 0, 2, 0, 1, 1, 2, 1, 1, 2, 2, 2, 0, 0, 1, 0, 0, 1, 2, 2, 1, 0, 1, 2, 1, 2, 2, 2, 2, 1, 1, 2, 2, 1, 0, 2, 0, 2, 2, 2, 1, 2, 1, 0, 0, 0, 1, 2, 1, 1, 0, 0, 0, 0, 2, 2, 2, 2, 2, 2, 2, 2, 0, 0, 1, 1, 2, 1, 1, 2, 2, 2, 0, 2, 1, 0, 2, 1, 1, 0, 2, 0, 1, 2, 0, 1, 2, 1, 1, 1, 0, 1, 2, 0, 2, 1, 2, 0, 1, 2, 2, 2, 0, 1, 0, 1, 0, 2, 1, 2, 1, 0, 1, 0, 0, 0, 1, 1, 1, 1, 1, 0, 2, 1, 2, 0, 1, 0, 1, 0, 0, 2, 0, 1, 2, 0, 1, 1, 2, 1, 0, 2, 0, 1, 2, 2, 1, 0, 0, 1, 2, 2, 1, 1, 0, 2, 0, 2, 1, 1, 2, 2, 2, 2, 2, 2, 1, 2, 2, 2, 0, 2, 2, 1, 0, 2, 1, 2, 1, 2, 2, 1, 2, 2, 0, 2, 0, 2, 1, 1, 1, 0, 0, 0, 0, 1, 2, 1, 1, 0, 2, 0, 0, 1, 0, 2, 1, 1, 2, 2, 0, 1, 0, 2, 1, 0, 0, 1, 2, 2, 2, 2, 2, 0, 0, 1, 0, 1, 0, 1, 1, 2, 2, 0, 1, 0, 2, 2, 1, 1, 1, 0, 1, 1, 1, 1, 2, 2, 1, 2, 2, 2, 1, 2, 2, 0, 2, 0, 2, 2, 1, 1, 1, 0, 2, 1, 1, 0, 2, 1, 0, 1, 1, 1, 1, 1, 2, 1, 1, 2, 0, 2, 1, 0, 1, 1, 0, 0, 1, 1, 1, 1, 0, 2, 0, 0, 0, 0, 2, 1, 1, 0, 1, 0, 2, 2, 1, 1, 2, 1, 0, 0, 1, 2, 2, 1, 2, 1, 1, 2, 0, 0, 2, 0, 0, 0, 2, 2, 2, 0, 1, 0, 2, 0, 0, 2, 0, 1, 0, 2, 0, 1, 2, 2, 1, 0, 0, 2, 0, 0, 0, 0, 0, 0, 1, 0, 2, 0, 2, 2, 0, 1, 0, 0, 1, 2, 2, 0, 1, 0, 1, 2, 2, 1, 2, 0, 0, 0, 1, 0, 2, 1, 0, 1, 1, 2, 2, 1, 0, 1, 0, 1, 0, 1, 1, 2, 1, 1, 1, 2, 0, 2, 2, 0, 0, 0, 2, 2, 1, 2, 2, 0, 2, 2, 0, 1, 1, 1, 2, 2, 1, 2, 2, 2, 1, 1, 1, 2, 2, 0, 0, 1, 2, 0, 2, 0, 0, 2, 1, 0, 2, 2, 0, 0, 1, 1, 2, 0, 1, 1, 0, 1, 1, 0, 1, 2, 2, 2, 1, 1, 1, 1, 0, 0, 0, 0, 1, 1, 0, 1, 0, 2, 2, 2, 1, 0, 2, 1, 1, 2, 1, 0, 1, 1, 0, 1, 2, 0, 0, 1, 1, 0, 0, 0, 0, 2, 2, 1, 1, 2, 1, 2, 0, 0, 0, 2, 0, 1, 2, 2, 1, 1, 1, 0, 2, 0, 0, 0, 0, 1, 1, 1, 1, 0, 0, 2, 1, 0, 0, 2, 0, 1, 2, 0, 1, 2, 1, 0, 2, 2, 2, 0, 2, 1, 0, 1, 0, 2, 2, 2, 0, 1, 1, 2, 2, 0, 0, 1, 1, 1, 2, 1, 0, 2, 0, 2, 0, 0, 1, 1, 0, 1, 1, 0, 2, 2, 2, 1, 1, 2, 1, 0, 2, 2, 1, 0, 0, 1, 2, 2, 2, 1, 1, 0, 2, 0, 0, 2, 0, 0, 0, 1, 0, 0, 2, 1, 2, 1, 2, 1, 1, 0, 1, 0, 1, 0, 1, 1, 1, 2, 2, 2, 0, 0, 0, 2, 2, 1, 2, 2, 2, 1, 2, 0, 1, 1, 2, 0, 0, 0, 0, 1, 0, 2, 0, 0, 2, 2, 0, 2, 2, 0, 1, 1, 0, 2, 0, 2, 2, 1, 2, 2, 2, 1, 1, 0, 1, 1, 1, 2, 2, 2, 1, 0, 0, 0, 1, 0, 2, 1, 1, 1, 2, 1, 2, 0, 2, 1, 1, 0, 2, 2, 1, 0, 2, 2, 0, 0, 2, 2, 2, 0, 2, 1, 2, 1, 1, 1, 1, 2, 0, 1, 0, 0, 1, 0, 0, 0, 2, 0, 2, 0, 1, 0, 0, 0, 1, 0, 0, 1, 1, 0, 1, 2, 0, 0, 2, 1, 2, 1, 0, 2, 0, 0, 2, 2, 0, 1, 2, 2, 1, 1, 0, 1, 0, 2, 0, 0, 1, 1, 2, 2, 1, 2, 0, 2, 1, 1, 2, 0, 0, 0, 1, 2, 0, 1, 0, 1, 1, 2, 0, 1, 0, 1, 0, 1, 0, 2, 1, 1, 1, 0, 2, 1, 1, 0, 1, 0, 0, 1, 0, 1, 1, 1, 1, 1, 0, 1, 2, 1, 2, 0, 2, 1, 0, 2, 1, 1, 2, 0, 1, 2, 2, 1, 0, 2, 0, 2, 1, 0, 2, 2, 1, 1, 1, 0, 2, 1, 2, 2, 1, 1, 0, 0, 2, 1, 1, 1, 1, 1, 2, 0, 2, 1, 1, 0, 0, 1, 2, 2, 0, 1, 0, 1, 1, 0, 2, 0, 1, 1, 2, 2, 0, 2, 2, 2, 2, 1, 0, 2, 0, 1, 1, 0, 2, 2, 1, 2, 0, 1, 2, 2, 1, 1, 1, 1, 0, 1, 1, 1, 2, 1, 2, 1, 2, 2, 1, 2, 0, 1, 0, 2, 1, 2, 2, 2, 1, 0, 0, 2, 1, 0, 2, 1, 0, 2, 0, 0, 1, 1, 1, 0, 1, 2, 2, 2, 0, 2, 2, 2, 0, 2, 0, 0, 2, 1, 2, 1, 1, 0, 2, 0, 2, 1, 2, 0, 1, 2, 2, 1, 2, 2, 2, 0, 2, 2, 0, 0, 1, 1, 1, 2, 2, 2, 2, 2, 1, 1, 2, 1, 2, 2, 1, 2, 2, 2, 2, 0, 1, 0, 2, 2, 1, 1, 2, 2, 2, 2, 2, 2, 2, 2, 2, 2, 0, 0, 0, 0, 2, 0, 1, 0, 1, 1, 1, 1, 0, 1, 0, 1, 2, 0, 2, 2, 1, 1, 0, 1, 0, 1, 2, 0, 1, 0, 1, 2, 0, 1, 0, 2, 2, 0, 0, 1, 1, 0, 0, 1, 2, 2, 0, 1, 2, 2, 1, 2, 2, 0, 0, 1, 2, 2, 0, 1, 1, 1, 2, 1, 2, 0, 2, 1, 2, 0, 2, 2, 1, 1, 1, 1, 1, 1, 0, 0, 0, 0, 2, 1, 2, 2, 1, 0, 0, 1, 2, 2, 2, 1, 1, 0, 1, 1, 0, 2, 0, 1, 2, 0, 2, 1, 1, 2, 0, 2, 0, 1, 0, 0, 0, 0, 2, 1, 0, 2, 1, 0, 1, 1, 1, 0, 2, 2, 2, 2, 2, 1, 0, 2, 2, 0, 1, 2, 1, 1, 1, 1, 2, 0, 2, 1, 2, 0, 0, 2, 0, 0, 2, 1, 2, 1, 0, 1, 1, 2, 0, 2, 1, 0, 2, 2, 1, 1, 1, 2, 0, 2, 1, 2, 2, 2, 1, 2, 1, 0, 2, 0, 1, 2, 2, 2, 2, 2, 2, 2, 0, 0, 1, 2, 2, 2, 2, 2, 1, 2, 1, 2, 1, 1, 2, 2, 1, 0, 2, 0, 2, 0, 2, 0, 0, 0, 1, 2, 0, 0, 1, 1, 1, 1, 1, 1, 2, 1, 0, 2, 0, 2, 1, 1, 2, 0, 1, 0, 2, 0, 2, 1, 2, 2, 0, 1, 0, 1, 1, 1, 1, 0, 0, 0, 2, 1, 0, 2, 1, 2, 0, 0, 2, 0, 2, 1, 1, 1, 1, 1, 1, 1, 2, 1, 0, 0, 2, 0, 2, 2, 0, 2, 1, 1, 2, 2, 0, 1, 1, 0, 2, 0, 1, 2, 0, 1, 1, 1, 2, 0, 2, 2, 1, 2, 0, 2, 1, 0, 2, 0, 1, 1, 2, 0, 1, 0, 0, 0, 0, 2, 1, 1, 2, 2, 2, 0, 2, 0, 0, 0, 1, 0, 0, 1, 1, 1, 2, 1, 1, 0, 1, 1, 1, 0, 0, 2, 1, 0, 0, 1, 1, 2, 0, 1, 2, 0, 0, 0, 2, 0, 1, 0, 2, 2, 1, 2, 2, 0, 2, 0, 0, 2, 1, 2, 2, 1, 0, 1, 0, 2, 1, 1, 0, 1, 2, 1, 0, 0, 0, 1, 0, 0, 0, 1, 0, 0, 0, 2, 0, 2, 1, 2, 0, 1, 1, 1, 2, 2, 1, 2, 2, 0, 1, 2, 0, 2, 0, 2, 0, 0, 1, 2, 0, 2, 2, 0, 1, 1, 2, 1, 1, 2, 1, 1, 0, 0, 1, 2, 1, 1, 0, 0, 0, 0, 2, 1, 2, 0, 1, 2, 2, 0, 1, 2, 0, 2, 1, 1, 0, 2, 2, 2, 0, 0, 2, 0, 2, 1, 2, 0, 2, 0, 0, 1, 0, 1, 2, 0, 2, 1, 2, 1, 1, 0, 0, 2, 1, 2, 1, 2, 2, 1, 1, 2, 1, 1, 0, 1, 2, 1, 1, 2, 1, 2, 0, 2, 2, 2, 2, 1, 2, 2, 2, 0, 0, 2, 0, 2, 1, 2, 0, 0, 2, 1, 1, 0, 2, 0, 2, 0, 0, 0, 2, 1, 2, 1, 1, 1, 2, 1, 0, 2, 2, 2, 0, 0, 1, 2, 2, 2, 0, 2, 0, 0, 0, 0, 1, 0, 0, 2, 2, 0, 0, 2, 0, 1, 2, 2, 0, 1, 0, 0, 2, 2, 2, 0, 0, 2, 2, 2, 0, 2, 2, 0, 2, 1, 2, 0, 2, 1, 1, 1, 1, 2, 1, 1, 1, 1, 2, 2, 2, 0, 2, 1, 1, 0, 1, 2, 0, 0, 1, 1, 2, 2, 0, 0, 1, 2, 1, 2, 2, 0, 1, 1, 2, 1, 1, 1, 0, 1, 2, 2, 0, 1, 2, 2, 0, 1, 0, 0, 1, 2, 0, 1, 2, 0, 1, 2, 2, 1, 2, 0, 2, 0, 0, 2, 1, 1, 0, 0, 0, 1, 0, 1, 2, 0, 0, 2, 0, 1, 2, 2, 2, 0, 0, 2, 2, 2, 1, 2, 0, 0, 0, 1, 0, 0, 1, 1, 1, 2, 2, 1, 2, 1, 1, 2, 2, 1, 0, 0, 2, 0, 1, 1, 2, 2, 0, 1, 2, 1, 0, 0, 2, 2, 0, 0, 1, 1, 0, 1, 2, 0, 1, 0, 2, 0, 2, 1, 2, 2, 1, 1, 0, 0, 2, 1, 2, 0, 2, 2, 0, 1, 1, 0, 2, 0, 0, 2, 0, 1, 2, 1, 2, 1, 0, 0, 1, 2, 0, 0, 2, 2, 1, 0, 1, 1, 1, 1, 0, 0, 0, 2, 1, 2, 2, 1, 1, 1, 1, 0, 0, 1, 1, 1, 2, 1, 2, 2, 2, 1, 2, 1, 0, 2, 2, 2, 0, 1, 0, 0, 0, 0, 2, 1, 2, 0, 0, 2, 2, 1, 0, 0, 0, 2, 1, 2, 0, 2, 2, 1, 1, 0, 1, 1, 2, 2, 0, 0, 0, 1, 0, 0, 2, 2, 1, 0, 2, 1, 2, 2, 1, 1, 1, 2, 0, 1, 2, 0, 2, 1, 2, 1, 2, 2, 2, 2, 2, 2, 0, 0, 2, 2, 2, 2, 0, 0, 1, 1, 0, 1, 0, 0, 0, 1, 0, 2, 2, 1, 0, 2, 1, 0, 2, 1, 1, 1, 2, 2, 2, 1, 0, 0, 2, 2, 2, 0, 2, 2, 0, 2, 0, 2, 1, 2, 2, 1, 2, 1, 0, 1, 0, 0, 0, 1, 0, 1, 2, 0, 1, 1, 0, 1, 0, 0, 0, 2, 0, 2, 1, 2, 1, 2, 0, 0, 0, 1, 1, 1, 2, 1, 2, 2, 2, 2, 1, 0, 2, 1, 1, 1, 1, 0, 1, 1, 0, 1, 2, 1, 1, 0, 0, 2, 0, 2, 0, 1, 1, 0, 1, 2, 1, 2, 2, 1, 2, 0, 1, 1, 0, 1, 1, 1, 2, 1, 2, 0, 1, 2, 0, 1, 0, 1, 0, 2, 2, 1, 0, 2, 0, 1, 2, 0, 1, 0, 0, 2, 1, 2, 2, 0, 0, 2, 2, 0, 1, 2, 1, 1, 2, 1, 0, 1, 1, 2, 1, 2, 2, 1, 1, 2, 0, 0, 0, 0, 1, 0, 0, 1, 1, 1, 1, 0, 0, 0, 2, 1, 2, 2, 2, 0, 2, 0, 1, 2, 2, 1, 1, 1, 1, 1, 0, 2, 2, 0, 2, 2, 1, 0, 0, 2, 2, 1, 1, 0, 2, 1, 2, 2, 1, 0, 2, 1, 0, 2, 0, 0, 1, 2, 2, 0, 1, 1, 1, 0, 0, 2, 0, 0, 1, 0, 1, 0, 1, 0, 1, 1, 0, 1, 2, 2, 0, 0, 2, 1, 1, 1, 2, 1, 1, 2, 1, 1, 1, 2, 1, 2, 0, 1, 0, 0, 1, 0, 2, 2, 1, 1, 1, 2, 2, 0, 0, 1, 0, 2, 1, 1, 1, 2, 1, 0, 1, 1, 1, 0, 1, 2, 2, 1, 0, 2, 2, 2, 2, 0, 2, 2, 2, 1, 2, 1, 0, 1, 1, 1, 2, 0, 2, 0, 1, 1, 2, 2, 2, 0, 1, 0, 2, 0, 2, 2, 0, 1, 1, 0, 2, 1, 2, 0, 2, 1, 1, 2, 2, 2, 2, 2, 2, 2, 0, 1, 1, 2, 0, 2, 0, 0, 1, 1, 1, 0, 1, 1, 2, 2, 0, 1, 1, 1, 0, 1, 1, 2, 2, 0, 1, 0, 0, 1, 0, 1, 0, 0, 2, 2, 0, 1, 0, 2, 0, 2, 1, 2, 0, 1, 2, 1, 0, 0, 2, 1, 1, 2, 0, 2, 1, 2, 0, 0, 2, 2, 1, 1, 0, 1, 1, 1, 2, 0, 1, 0, 0, 1, 1, 2, 0, 0, 0, 2, 0, 2, 2, 0, 2, 0, 2, 2, 1, 0, 0, 1, 0, 2, 2, 0, 1, 1, 1, 1, 0, 2, 0, 0, 1, 1, 0, 2, 0, 2, 1, 1, 1, 0, 1, 0, 1, 1, 1, 2, 0, 0, 0, 0, 0, 1, 2, 2, 2, 2, 1, 2, 1, 0, 0, 2, 2, 2, 0, 1, 0, 2, 2, 1, 2, 1, 0, 1, 1, 2, 2, 0, 2, 1, 1, 1, 0, 1, 2, 1, 1, 0, 2, 2, 2, 1, 2, 1, 0, 0, 0, 0, 0, 2, 0, 0, 0, 2, 0, 1, 0, 2, 2, 0, 0, 0, 1, 2, 0, 0, 1, 1, 0, 1, 1, 0, 2, 1, 0, 2, 0, 1, 2, 2, 1, 2, 1, 1, 2, 1, 0, 1, 1, 2, 1, 1, 0, 2, 0, 2, 2, 0, 0, 0, 1, 2, 1, 1, 1, 1, 1, 0, 0, 0, 0, 0, 2, 2, 2, 2, 0, 1, 1, 2, 2, 1, 1, 1, 2, 1, 0, 2, 1, 2, 0, 0, 0, 2, 0, 0, 1, 2, 1, 0, 2, 2, 2, 2, 2, 1, 0, 2, 1, 1, 1, 2, 0, 2, 0, 2, 1, 2, 1, 1, 0, 2, 2, 1, 0, 2, 1, 2, 1, 0, 1, 0, 0, 0, 2, 2, 1, 1, 2, 2, 2, 1, 1, 0, 0, 0, 1, 0, 1, 1, 0, 2, 1, 2, 2, 1, 0, 2, 1, 2, 0, 2, 0, 1, 2, 1, 1, 1, 2, 2, 2, 1, 2, 2, 0, 1, 2, 0, 0, 1, 0, 2, 2, 0, 1, 0, 1, 0, 2, 2, 0, 2, 1, 1, 0, 2, 2, 1, 0, 0, 1, 2, 2, 0, 2, 0, 0, 1, 0, 0, 2, 2, 2, 0, 0, 0, 0, 2, 2, 2, 0, 2, 2, 2, 1, 1, 1, 1, 1, 0, 0, 2, 0, 2, 2, 0, 2, 2, 1, 2, 0, 0, 0, 1, 1, 1, 0, 1, 1, 1, 0, 2, 2, 0, 2, 2, 2, 2, 2, 2, 1, 0, 1, 1, 0, 1, 1, 1, 0, 2, 1, 2, 2, 0, 2, 1, 0, 1, 1, 0, 0, 0, 0, 0, 1, 2, 2, 0, 1, 1, 0, 1, 1, 0, 1, 0, 0, 0, 2, 0, 1, 2, 1, 2, 0, 0, 2, 0, 2, 1, 0, 2, 2, 1, 2, 2, 2, 2, 2, 1, 0, 1, 1, 0, 1, 2, 2, 0, 1, 2, 0, 2, 2, 0, 0, 2, 2, 2, 2, 0, 0, 2, 1, 0, 0, 2, 1, 1, 1, 0, 2, 1, 1, 0, 0, 2, 0, 0, 1, 1, 1, 2, 2, 0, 0, 2, 2, 1, 2, 2, 1, 2, 2, 2, 1, 0, 0, 1, 0, 1, 0, 1, 0, 0, 2, 0, 0, 2, 0, 0, 0, 1, 0, 2, 0, 2, 1, 2, 0, 2, 1, 0, 2, 2, 2, 0, 0, 1, 0, 2, 1, 1, 0, 0, 0, 0, 1, 0, 2, 0, 0, 1, 2, 2, 1, 0, 1, 1, 2, 0, 1, 2, 1, 1, 1, 0, 1, 1, 1, 2, 2, 1, 0, 0, 0, 1, 0, 2, 0, 0, 1, 2, 0, 2, 1, 0, 2, 1, 2, 0, 0, 2, 2, 0, 0, 0, 0, 1, 0, 1, 0, 0, 2, 2, 1, 0, 2, 2, 0, 1, 2, 1, 0, 2, 0, 0, 2, 2, 1, 2, 1, 0, 2, 0, 0, 2, 0, 0, 0, 2, 2, 1, 1, 1, 2, 1, 2, 2, 0, 0, 1, 1, 1, 2, 0, 0, 1, 1, 1, 0, 2, 1, 2, 1, 1, 0, 0, 1, 0, 0, 0, 0, 1, 1, 1, 1, 0, 2, 1, 1, 2, 0, 0, 1, 0, 0, 2, 1, 0, 1, 2, 2, 2, 1, 1, 0, 0, 2, 0, 2, 2, 1, 1, 2, 1, 1, 2, 1, 1, 2, 1, 2, 2, 1, 0, 2, 2, 1, 2, 2, 0, 0, 1, 2, 2, 1, 2, 2, 1, 0, 0, 1, 0, 0, 2, 1, 2, 1, 0, 0, 2, 0, 0, 0, 2, 1, 0, 2, 1, 1, 1, 2, 2, 0, 0, 2, 1, 0, 0, 2, 0, 2, 0, 2, 0, 2, 0, 1, 0, 2, 1, 1, 0, 2, 1, 2, 0, 1, 0, 1, 0, 1, 2, 0, 2, 2, 0, 0, 0, 2, 0, 1, 0, 0, 2, 1, 0, 1, 1, 1, 1, 0, 0, 2, 2, 0, 0, 1, 2, 2, 1, 1, 0, 1, 0, 0, 0, 0, 2, 0, 0, 2, 1, 0, 1, 0, 0, 2, 2, 1, 2, 1, 1, 0, 2, 1, 2, 1, 0, 1, 1, 0, 0, 0, 2, 1, 2, 0, 2, 0, 2, 1, 1, 0, 0, 1, 1, 2, 0, 2, 0, 0, 2, 1, 0, 0, 2, 2, 0, 1, 2, 2, 1, 2, 0, 2, 2, 2, 0, 2, 1, 0, 1, 1, 1, 1, 1, 2, 0, 2, 0, 1, 1, 0, 2, 1, 2, 1, 2, 0, 0, 0, 2, 1, 1, 2, 1, 1, 0, 0, 2, 2, 0, 2, 0, 1, 2, 1, 2, 1, 0, 2, 2, 0, 1, 2, 1, 1, 0, 0, 1, 1, 2, 0, 0, 1, 2, 1, 2, 2, 0, 2, 0, 1, 2, 0, 2, 2, 2, 0, 1, 1, 1, 0, 0, 2, 2, 2, 0, 1, 0, 0, 0, 2, 2, 1, 2, 2, 2, 2, 1, 1, 2, 0, 1, 2, 2, 2, 0, 1, 0, 2, 2, 0, 2, 0, 2, 1, 1, 1, 1, 2, 1, 2, 0, 1, 2, 1, 1, 0, 1, 1, 2, 2, 0, 1, 0, 2, 2, 1, 2, 1, 0, 1, 2, 2, 1, 1, 1, 0, 2, 1, 0, 1, 1, 2, 1, 2, 1, 2, 2, 2, 2, 1, 1, 2, 2, 1, 2, 2, 0, 0, 0, 2, 0, 0, 2, 1, 1, 0, 2, 2, 2, 0, 1, 1, 1, 1, 2, 1, 0, 1, 2, 2, 1, 2, 1, 1, 2, 2, 0, 2, 0, 2, 2, 2, 1, 1, 1, 2, 0, 2, 1, 2, 1, 2, 1, 2, 2, 1, 1, 2, 1, 0, 1, 2, 0, 1, 1, 0, 0, 0, 1, 1, 0, 0, 1, 0, 2, 0, 2, 2, 1, 0, 0, 0, 1, 0, 0, 2, 0, 0, 2, 0, 2, 2, 2, 1, 1, 0, 1, 2, 2, 0, 1, 2, 0, 1, 0, 2, 2, 0, 1, 1, 2, 0, 1, 1, 2, 1, 2, 2, 1, 2, 1, 0, 1, 2, 1, 2, 2, 2, 0, 0, 0, 2, 1, 0, 1, 0, 1, 2, 1, 1, 2, 0, 0, 0, 0, 0, 2, 2, 0, 0, 1, 2, 0, 2, 2, 2, 0, 1, 2, 2, 1, 1, 2, 2, 1, 0, 0, 2, 1, 1, 1, 0, 1, 0, 1, 1, 0, 2, 2, 0, 2, 1, 2, 2, 1, 0, 2, 2, 0, 0, 0, 1, 0, 0, 2, 0, 1, 0, 0, 1, 1, 0, 2, 0, 2, 2, 2, 1, 2, 2, 2, 2, 1, 2, 2, 0, 2, 1, 2, 1, 0, 1, 2, 2, 2, 0, 1, 0, 1, 2, 1, 2, 0, 0, 2, 1, 1, 0, 0, 0, 1, 2, 2, 1, 1, 2, 2, 1, 0, 1, 0, 2, 0, 1, 0, 0, 2, 0, 0, 1, 1, 1, 2, 2, 2, 2, 1, 0, 2, 0, 2, 0, 0, 2, 2, 2, 1, 1, 2, 2, 0, 0, 1, 0, 2, 1, 2, 1, 1, 1, 1, 1, 2, 1, 0, 1, 2, 2, 1, 1, 1, 0, 1, 0, 0, 1, 0, 2, 0, 0, 2, 0, 0, 1, 1, 1, 2, 2, 2, 0, 1, 0, 1, 1, 0, 2, 0, 0, 1, 1, 0, 2, 2, 0, 0, 2, 2, 2, 0, 1, 0, 2, 0, 0, 2, 1, 2, 0, 2, 2, 2, 2, 1, 2, 0, 2, 2, 1, 1, 1, 2, 1, 0, 2, 2, 1, 1, 1, 0, 0, 1, 2, 2, 1, 2, 1, 0, 1, 1, 2, 1, 2, 1, 2, 1, 1, 1, 1, 1, 2, 2, 0, 1, 1, 0, 0, 2, 1, 0, 0, 0, 2, 0, 2, 2, 2, 2, 0, 0, 2, 1, 2, 0, 2, 1, 1, 1, 0, 1, 2, 2, 1, 1, 1, 2, 0, 2, 0, 2, 2, 1, 2, 1, 1, 0, 2, 0, 0, 0, 0, 1, 0, 0, 2, 0, 1, 1, 0, 1, 1, 2, 0, 1, 2, 1, 0, 1, 0, 1, 2, 2, 0, 2, 1, 2, 2, 1, 2, 2, 1, 0, 2, 1, 0, 0, 2, 1, 2, 2, 2, 2, 0, 1, 0, 1, 1, 2, 2, 1, 1, 0, 0, 0, 2, 1, 2, 2, 1, 1, 0, 0, 2, 2, 1, 0, 2, 0, 0, 2, 0, 1, 0, 0, 1, 1, 2, 0, 1, 0, 2, 2, 2, 1, 2, 0, 1, 0, 1, 1, 2, 0, 1, 2, 1, 0, 2, 0, 2, 2, 1, 1, 1, 2, 1, 2, 2, 0, 2, 2, 0, 1, 2, 0, 2, 0, 1, 0, 0, 1, 1, 0, 0, 0, 1, 1, 0, 0, 1, 0, 1, 1, 0, 2, 0, 1, 0, 2, 0, 1, 2, 0, 0, 1, 0, 2, 1, 2, 0, 1, 2, 2, 0, 1, 1, 2, 0, 0, 2, 1, 1, 1, 2, 0, 2, 1, 2, 1, 1, 2, 0, 0, 2, 2, 0, 0, 2, 1, 2, 2, 2, 1, 1, 1, 1, 1, 2, 1, 0, 0, 2, 2, 0, 0, 1, 2, 0, 1, 0, 0, 0, 2, 2, 0, 2, 1, 1, 1, 2, 1, 1, 0, 1, 2, 0, 2, 1, 0, 1, 2, 0, 2, 2, 2, 0, 1, 1, 0, 1, 2, 0, 0, 0, 0, 2, 1, 0, 2, 1, 2, 2, 2, 2, 2, 0, 2, 1, 0, 2, 0, 1, 2, 1, 1, 1, 1, 1, 2, 2, 2, 2, 2, 1, 1, 2, 0, 2, 1, 1, 0, 2, 0, 0, 2, 1, 1, 2, 1, 2, 0, 1, 0, 2, 0, 2, 2, 2, 1, 1, 2, 1, 1, 0, 0, 0, 2, 2, 0, 0, 1, 1, 2, 0, 0, 2, 0, 2, 0, 2, 0, 0, 0, 1, 0, 2, 2, 1, 0, 2, 2, 2, 2, 0, 0, 0, 1, 2, 0, 2, 1, 1, 2, 2, 1, 1, 1, 2, 2, 2, 1, 1, 1, 2, 0, 2, 0, 2, 1, 1, 1, 0, 2, 2, 1, 2, 1, 2, 2, 0, 1, 0, 2, 0, 0, 1, 0, 2, 0, 1, 1, 1, 1, 1, 1, 2, 1, 1, 0, 0, 1, 2, 1, 0, 1, 2, 1, 2, 1, 2, 0, 2, 2, 2, 0, 0, 2, 2, 1, 2, 1, 0, 1, 2, 0, 2, 2, 1, 1, 2, 1, 0, 0, 2, 0, 0, 1, 2, 0, 2, 0, 2, 1, 1, 2, 1, 2, 2, 1, 2, 1, 2, 0, 1, 0, 0, 0, 2, 0, 0, 1, 0, 1, 0, 1, 1, 2, 2, 1, 1, 1, 2, 0, 1, 0, 2, 1, 2, 1, 0, 1, 2, 0, 0, 2, 2, 0, 1, 0, 1, 0, 2, 0, 1, 2, 0]\n"
          ]
        }
      ]
    },
    {
      "cell_type": "code",
      "metadata": {
        "colab": {
          "base_uri": "https://localhost:8080/"
        },
        "id": "MGNugNSDDAWo",
        "outputId": "febeba16-8415-4208-9dd3-10626e1d087c"
      },
      "source": [
        "print(classes)"
      ],
      "execution_count": 24,
      "outputs": [
        {
          "output_type": "stream",
          "name": "stdout",
          "text": [
            "[1, 3, 9]\n"
          ]
        }
      ]
    },
    {
      "cell_type": "code",
      "metadata": {
        "colab": {
          "base_uri": "https://localhost:8080/"
        },
        "id": "PobUL4TZDAvv",
        "outputId": "4810186c-b326-4b87-e4e9-90a938a0fff9"
      },
      "source": [
        "# prediction array (using classes)\n",
        "nn = 10 # just an example\n",
        "np.array(classes)[y_pred_Bayesian[0:nn]]"
      ],
      "execution_count": 25,
      "outputs": [
        {
          "output_type": "execute_result",
          "data": {
            "text/plain": [
              "array([1, 9, 9, 1, 3, 1, 9, 9, 3, 1])"
            ]
          },
          "metadata": {},
          "execution_count": 25
        }
      ]
    },
    {
      "cell_type": "code",
      "metadata": {
        "colab": {
          "base_uri": "https://localhost:8080/"
        },
        "id": "T_LFr2qADBFw",
        "outputId": "b37dc570-0cb7-4013-eb62-9e342c2e781e"
      },
      "source": [
        "print(\"Accuracy=\", accuracy_score(np.array(classes)[y_pred_Bayesian], y_val))"
      ],
      "execution_count": 26,
      "outputs": [
        {
          "output_type": "stream",
          "name": "stdout",
          "text": [
            "Accuracy= 0.9476666666666667\n"
          ]
        }
      ]
    },
    {
      "cell_type": "code",
      "metadata": {
        "id": "uaDdVXheDBf4"
      },
      "source": [
        "y_predB=[]\n",
        "\n",
        "for i in range(X_val.shape[0]):\n",
        "    #print(i)\n",
        "    val=[]\n",
        "\n",
        "    for s in range(posterior['beta'].shape[0]):\n",
        "        beta = np.hstack([np.zeros((nf,1)),  posterior['beta'][s,:] ])\n",
        "        alpha = np.hstack([[0],  posterior['alpha'][s,:] ])\n",
        "        val.append(softmax((np.array([X_val[i,:].dot(beta) + alpha])))[0,:])\n",
        "\n",
        "    #mean probability\n",
        "    valmean = np.mean(val,axis=0)\n",
        "    #class with maximum mean probability\n",
        "    classmax = np.argmax(valmean)\n",
        "    #ranks\n",
        "    ranks = np.array(val.copy())\n",
        "    ranks   = ranks  *0 #init\n",
        "    colmax = np.argmax(np.array(val),axis=1)\n",
        "    ranks[np.arange(0,len(colmax)),colmax]=1\n",
        "     \n",
        "    y_predB.append( [classmax, valmean[classmax], np.std(ranks,axis=0)[classmax]])\n",
        "\n",
        "    \n",
        "y_predB= np.array(y_predB)"
      ],
      "execution_count": 27,
      "outputs": []
    },
    {
      "cell_type": "code",
      "metadata": {
        "colab": {
          "base_uri": "https://localhost:8080/"
        },
        "id": "hjjwe7TzDcrj",
        "outputId": "b8a6c713-9076-49ca-ec29-f8432a280512"
      },
      "source": [
        "# prediction array\n",
        "mm = 10\n",
        "y_predB[0:mm,:]"
      ],
      "execution_count": 28,
      "outputs": [
        {
          "output_type": "execute_result",
          "data": {
            "text/plain": [
              "array([[0.        , 0.90942017, 0.23748684],\n",
              "       [2.        , 0.99388584, 0.08137704],\n",
              "       [2.        , 0.9736106 , 0.15095989],\n",
              "       [0.        , 0.78228047, 0.4       ],\n",
              "       [1.        , 0.9722505 , 0.16110728],\n",
              "       [0.        , 0.85511795, 0.33993463],\n",
              "       [2.        , 0.98623847, 0.11469767],\n",
              "       [2.        , 0.99751284, 0.05763872],\n",
              "       [1.        , 0.78092489, 0.40491426],\n",
              "       [0.        , 0.48068259, 0.49945526]])"
            ]
          },
          "metadata": {},
          "execution_count": 28
        }
      ]
    },
    {
      "cell_type": "code",
      "metadata": {
        "colab": {
          "base_uri": "https://localhost:8080/"
        },
        "id": "FXC0TZABDdDg",
        "outputId": "b6884041-28a7-4e0d-8b92-f507b5c200a5"
      },
      "source": [
        "difficult = np.argsort(-y_predB[:,2])\n",
        "y_predB[difficult[0:mm],:]"
      ],
      "execution_count": 29,
      "outputs": [
        {
          "output_type": "execute_result",
          "data": {
            "text/plain": [
              "array([[2.        , 0.49724864, 0.5       ],\n",
              "       [1.        , 0.49943636, 0.5       ],\n",
              "       [2.        , 0.50130024, 0.5       ],\n",
              "       [1.        , 0.51104535, 0.5       ],\n",
              "       [1.        , 0.49738242, 0.5       ],\n",
              "       [1.        , 0.51509664, 0.49998889],\n",
              "       [1.        , 0.48662863, 0.49998889],\n",
              "       [1.        , 0.49529635, 0.49998889],\n",
              "       [1.        , 0.5111249 , 0.49998889],\n",
              "       [0.        , 0.51778809, 0.49998889]])"
            ]
          },
          "metadata": {},
          "execution_count": 29
        }
      ]
    },
    {
      "cell_type": "code",
      "metadata": {
        "colab": {
          "base_uri": "https://localhost:8080/"
        },
        "id": "b-gTG3G8DdU5",
        "outputId": "92248595-e490-4b66-c254-8543fb5f0157"
      },
      "source": [
        "#probability of general-recipe logistic regression in wrong instances\n",
        "prob_classmax[y_pred_log != y_val]"
      ],
      "execution_count": 30,
      "outputs": [
        {
          "output_type": "execute_result",
          "data": {
            "text/plain": [
              "array([0.9998478 , 0.60832233, 0.7826636 , 0.99999987, 0.71117024,\n",
              "       0.9983015 , 0.82516105, 0.99999882, 0.99878563, 0.99972346,\n",
              "       0.99613124, 0.87514192, 0.95920926, 0.91401878, 0.97955974,\n",
              "       0.71305737, 0.7562538 , 0.99958087, 0.92375703, 0.94584253,\n",
              "       1.        , 0.99989785, 0.9999941 , 0.59350134, 0.99999776,\n",
              "       0.99588672, 0.99587398, 0.99999911, 0.99758072, 0.99999848,\n",
              "       0.99999999, 0.87471536, 0.88611444, 0.94335321, 0.55016054,\n",
              "       0.93893954, 0.99999533, 0.99488233, 0.95684589, 0.9732403 ,\n",
              "       0.50808406, 0.93922359, 0.99570707, 0.99928096, 1.        ,\n",
              "       0.9943367 , 0.99434562, 0.9983419 , 0.74062741, 0.66064584,\n",
              "       0.99879703, 0.9993796 , 0.5681732 , 0.98943725, 0.79721422,\n",
              "       0.99949149, 1.        , 0.68963944, 0.98417271, 0.96287342,\n",
              "       0.99996706, 0.78520003, 0.55272058, 0.99991827, 0.95433201,\n",
              "       0.67838466, 0.99675211, 0.69661584, 0.64503816, 0.99858858,\n",
              "       0.87055055, 1.        , 0.89047403, 0.99999976, 0.99966154,\n",
              "       0.95923434, 0.99519619, 0.97837735, 0.99308625, 0.60024728,\n",
              "       0.83464359, 0.52587014, 0.60980849, 1.        , 0.98773907,\n",
              "       0.99999999, 0.99797995, 0.69533937, 0.99998084, 0.9999997 ,\n",
              "       0.99814422, 0.6644512 , 0.99999893, 0.99015077, 0.99340348,\n",
              "       0.9049337 , 0.99999697, 0.67548833, 0.94172461, 0.995919  ,\n",
              "       0.99881254, 0.95115979, 0.99999999, 0.51822685, 0.99957757,\n",
              "       0.99980959, 0.8043308 , 0.9748789 , 0.98936119, 0.87422848,\n",
              "       0.99917968, 0.69215534, 0.62741923, 0.99956244, 0.709335  ,\n",
              "       0.95893045, 0.95768223, 0.99953088, 0.99995002, 0.9990678 ,\n",
              "       0.82707694, 0.81240019, 0.84667658, 0.99999974, 0.9999799 ,\n",
              "       0.99572116, 0.94961041, 0.99472024, 0.99990166, 0.74505412,\n",
              "       0.99818051, 0.98647768, 0.99949389, 0.82080308, 0.89017736,\n",
              "       0.99893723, 0.92178174, 0.99271445, 0.73303323, 0.88928016,\n",
              "       0.99999999, 0.99999989, 0.59688033, 0.97249302, 0.63165735,\n",
              "       0.66593847, 0.89513696, 0.95716435])"
            ]
          },
          "metadata": {},
          "execution_count": 30
        }
      ]
    },
    {
      "cell_type": "code",
      "metadata": {
        "colab": {
          "base_uri": "https://localhost:8080/"
        },
        "id": "FNbiI0CADdl6",
        "outputId": "989f5125-442d-489f-f2cb-efdc54a5afb3"
      },
      "source": [
        "y_predB[y_pred_log != y_val,:]"
      ],
      "execution_count": 31,
      "outputs": [
        {
          "output_type": "execute_result",
          "data": {
            "text/plain": [
              "array([[1.        , 0.72892925, 0.4404417 ],\n",
              "       [1.        , 0.98684096, 0.11469767],\n",
              "       [2.        , 0.70237658, 0.44221664],\n",
              "       [1.        , 0.49966609, 0.49982219],\n",
              "       [1.        , 0.87546461, 0.32881944],\n",
              "       [2.        , 0.99066982, 0.08137704],\n",
              "       [2.        , 0.80545397, 0.3923009 ],\n",
              "       [0.        , 0.81223739, 0.37853519],\n",
              "       [0.        , 0.50349768, 0.49995555],\n",
              "       [1.        , 0.71979184, 0.44735022],\n",
              "       [2.        , 0.68677806, 0.46249324],\n",
              "       [0.        , 0.52986108, 0.49714742],\n",
              "       [2.        , 0.76554986, 0.41647996],\n",
              "       [1.        , 0.82717746, 0.36030851],\n",
              "       [1.        , 0.54850843, 0.49865374],\n",
              "       [0.        , 0.97938259, 0.1280191 ],\n",
              "       [1.        , 0.75293375, 0.43492017],\n",
              "       [1.        , 0.93492524, 0.23748684],\n",
              "       [0.        , 0.65888013, 0.45969797],\n",
              "       [1.        , 0.98026893, 0.11469767],\n",
              "       [2.        , 0.78661257, 0.40730824],\n",
              "       [2.        , 0.56394183, 0.49183331],\n",
              "       [1.        , 0.97588499, 0.16110728],\n",
              "       [0.        , 0.93466509, 0.20360637],\n",
              "       [2.        , 0.99950757, 0.        ],\n",
              "       [0.        , 0.54295353, 0.49811868],\n",
              "       [2.        , 0.91575822, 0.26606181],\n",
              "       [2.        , 0.94361772, 0.21794495],\n",
              "       [2.        , 0.97793603, 0.1280191 ],\n",
              "       [2.        , 0.79231839, 0.38964371],\n",
              "       [1.        , 0.87015192, 0.32102267],\n",
              "       [1.        , 0.99818626, 0.        ],\n",
              "       [0.        , 0.99016209, 0.08137704],\n",
              "       [1.        , 0.76461241, 0.42083251],\n",
              "       [1.        , 0.70710846, 0.45220448],\n",
              "       [1.        , 0.68537503, 0.45969797],\n",
              "       [1.        , 0.93046574, 0.24944383],\n",
              "       [1.        , 0.75412641, 0.41867516],\n",
              "       [2.        , 0.93153628, 0.23748684],\n",
              "       [0.        , 0.88729994, 0.29550334],\n",
              "       [1.        , 0.99638373, 0.05763872],\n",
              "       [1.        , 0.75639018, 0.4330127 ],\n",
              "       [1.        , 0.99994473, 0.        ],\n",
              "       [1.        , 0.96269479, 0.19595918],\n",
              "       [2.        , 0.99999958, 0.        ],\n",
              "       [1.        , 0.55268236, 0.49781746],\n",
              "       [0.        , 0.73647794, 0.43492017],\n",
              "       [0.        , 0.90807277, 0.2712932 ],\n",
              "       [1.        , 0.55807878, 0.49408726],\n",
              "       [1.        , 0.9786206 , 0.1280191 ],\n",
              "       [1.        , 0.96548336, 0.16110728],\n",
              "       [1.        , 0.71987506, 0.44395946],\n",
              "       [1.        , 0.4696939 , 0.49945526],\n",
              "       [2.        , 0.90300183, 0.26068286],\n",
              "       [2.        , 0.4819919 , 0.49945526],\n",
              "       [2.        , 0.67292314, 0.47256981],\n",
              "       [1.        , 0.64204297, 0.47901519],\n",
              "       [1.        , 0.64312812, 0.47590849],\n",
              "       [1.        , 0.51509664, 0.49998889],\n",
              "       [1.        , 0.7680078 , 0.42295258],\n",
              "       [2.        , 0.57849126, 0.49408726],\n",
              "       [1.        , 0.9994225 , 0.        ],\n",
              "       [0.        , 0.60715254, 0.48538644],\n",
              "       [1.        , 0.91262141, 0.2763854 ],\n",
              "       [2.        , 0.89243729, 0.29550334],\n",
              "       [2.        , 0.79131273, 0.38418745],\n",
              "       [1.        , 0.85322967, 0.34698703],\n",
              "       [1.        , 0.66641056, 0.46384863],\n",
              "       [2.        , 0.75555276, 0.42708313],\n",
              "       [2.        , 0.76820357, 0.3923009 ],\n",
              "       [1.        , 0.83237418, 0.35041246],\n",
              "       [1.        , 0.54415562, 0.49811868],\n",
              "       [2.        , 0.77099175, 0.41647996],\n",
              "       [1.        , 0.98378608, 0.14      ],\n",
              "       [0.        , 0.53295553, 0.49909919],\n",
              "       [2.        , 0.71116008, 0.44735022],\n",
              "       [1.        , 0.98964776, 0.09949874],\n",
              "       [1.        , 0.97758468, 0.14      ],\n",
              "       [2.        , 0.95061965, 0.21092389],\n",
              "       [2.        , 0.6296445 , 0.48189441],\n",
              "       [1.        , 0.87009284, 0.30868898],\n",
              "       [2.        , 0.86073082, 0.34349511],\n",
              "       [0.        , 0.4270964 , 0.49677851],\n",
              "       [1.        , 0.86580977, 0.33259919],\n",
              "       [2.        , 0.63380591, 0.48      ],\n",
              "       [2.        , 0.85771989, 0.33993463],\n",
              "       [1.        , 0.81113858, 0.38418745],\n",
              "       [2.        , 0.42688132, 0.49811868],\n",
              "       [0.        , 0.91703014, 0.26068286],\n",
              "       [1.        , 0.8311469 , 0.36660606],\n",
              "       [2.        , 0.9280441 , 0.24356154],\n",
              "       [0.        , 0.68387433, 0.4552899 ],\n",
              "       [2.        , 0.8600584 , 0.34698703],\n",
              "       [1.        , 0.93522316, 0.20360637],\n",
              "       [1.        , 0.85577809, 0.35377331],\n",
              "       [2.        , 0.50099734, 0.49989999],\n",
              "       [1.        , 0.69369136, 0.4552899 ],\n",
              "       [2.        , 0.83454309, 0.35041246],\n",
              "       [1.        , 0.86631085, 0.32496154],\n",
              "       [2.        , 0.85214163, 0.33630343],\n",
              "       [2.        , 0.91397313, 0.26606181],\n",
              "       [2.        , 0.99751056, 0.        ],\n",
              "       [1.        , 0.64080743, 0.47901519],\n",
              "       [1.        , 0.99613199, 0.        ],\n",
              "       [2.        , 0.73804429, 0.44395946],\n",
              "       [0.        , 0.69380647, 0.45061686],\n",
              "       [0.        , 0.64794296, 0.47590849],\n",
              "       [2.        , 0.64506439, 0.47590849],\n",
              "       [1.        , 0.91932235, 0.2763854 ],\n",
              "       [1.        , 0.47629964, 0.49781746],\n",
              "       [1.        , 0.61905005, 0.48      ],\n",
              "       [1.        , 0.95123916, 0.18794207],\n",
              "       [0.        , 0.97576926, 0.15095989],\n",
              "       [2.        , 0.88051635, 0.29550334],\n",
              "       [1.        , 0.55444479, 0.49507575],\n",
              "       [1.        , 0.88232916, 0.32102267],\n",
              "       [0.        , 0.94940673, 0.21092389],\n",
              "       [2.        , 0.64539551, 0.47590849],\n",
              "       [0.        , 0.54200472, 0.49839743],\n",
              "       [1.        , 0.4163394 , 0.49056657],\n",
              "       [2.        , 0.84891453, 0.33259919],\n",
              "       [1.        , 0.35928768, 0.48      ],\n",
              "       [1.        , 0.99479929, 0.08137704],\n",
              "       [2.        , 0.91137458, 0.28134597],\n",
              "       [2.        , 0.9100116 , 0.26068286],\n",
              "       [2.        , 0.94578752, 0.21794495],\n",
              "       [2.        , 0.70758174, 0.44735022],\n",
              "       [0.        , 0.80289125, 0.38693956],\n",
              "       [1.        , 0.91448137, 0.2763854 ],\n",
              "       [2.        , 0.67707606, 0.46249324],\n",
              "       [1.        , 0.8670197 , 0.33993463],\n",
              "       [0.        , 0.46768538, 0.49888765],\n",
              "       [2.        , 0.51974317, 0.49909919],\n",
              "       [0.        , 0.93103179, 0.20360637],\n",
              "       [0.        , 0.8294187 , 0.33993463],\n",
              "       [2.        , 0.56104164, 0.49507575],\n",
              "       [0.        , 0.8227555 , 0.372678  ],\n",
              "       [1.        , 0.80913797, 0.38138636],\n",
              "       [1.        , 0.99911407, 0.        ],\n",
              "       [1.        , 0.99681575, 0.05763872],\n",
              "       [1.        , 0.82122575, 0.38138636],\n",
              "       [1.        , 0.73856721, 0.43107102],\n",
              "       [0.        , 0.60330335, 0.4869862 ],\n",
              "       [2.        , 0.59706069, 0.4861984 ],\n",
              "       [2.        , 0.71744774, 0.43679387],\n",
              "       [2.        , 0.87811179, 0.29550334],\n",
              "       [1.        , 0.60359117, 0.4869862 ],\n",
              "       [2.        , 0.77638692, 0.40730824]])"
            ]
          },
          "metadata": {},
          "execution_count": 31
        }
      ]
    },
    {
      "cell_type": "code",
      "metadata": {
        "colab": {
          "base_uri": "https://localhost:8080/"
        },
        "id": "cSrSDeLIDo7S",
        "outputId": "a2988fcd-1481-43d8-f8fe-5307f405995b"
      },
      "source": [
        "## Difficult & easy instances\n",
        "\n",
        "easy = np.argsort(y_predB[:,2])\n",
        "print(\"Accuracy in easy instances =\", accuracy_score(y_pred_log[easy[0:100]], y_val[easy[0:100]]))\n",
        "\n",
        "difficult = np.argsort(-y_predB[:,2])\n",
        "print(\"Accuracy in difficult instances =\", accuracy_score(y_pred_log[difficult[0:100]], y_val[difficult[0:100]]))"
      ],
      "execution_count": 32,
      "outputs": [
        {
          "output_type": "stream",
          "name": "stdout",
          "text": [
            "Accuracy in easy instances = 1.0\n",
            "Accuracy in difficult instances = 0.93\n"
          ]
        }
      ]
    },
    {
      "cell_type": "code",
      "metadata": {
        "colab": {
          "base_uri": "https://localhost:8080/",
          "height": 357
        },
        "id": "YnjwVtnyDpn6",
        "outputId": "dbfab3c7-5459-4639-8fb7-132d0789bfc2"
      },
      "source": [
        "# show 10 random 'easy' images\n",
        "fig, axs = plt.subplots(2,5, figsize=(15, 6))\n",
        "fig.subplots_adjust(hspace = .2, wspace=.001)\n",
        "axs = axs.ravel()\n",
        "\n",
        "for i in range(10):\n",
        "    index = easy[i]\n",
        "    image = X_val[index,:].reshape(28,28)\n",
        "    axs[i].axis('off')\n",
        "    axs[i].imshow(image,cmap=\"Greys_r\")"
      ],
      "execution_count": 33,
      "outputs": [
        {
          "output_type": "display_data",
          "data": {
            "image/png": "[encoded data removed]",
            "text/plain": [
              "<Figure size 1080x432 with 10 Axes>"
            ]
          },
          "metadata": {
            "needs_background": "light"
          }
        }
      ]
    },
    {
      "cell_type": "code",
      "metadata": {
        "colab": {
          "base_uri": "https://localhost:8080/",
          "height": 357
        },
        "id": "78Q2IXaLDp5q",
        "outputId": "eb5f8bff-a2e4-414c-81cc-0240acc0aa39"
      },
      "source": [
        "# show 10 random 'difficult' images\n",
        "fig, axs = plt.subplots(2,5, figsize=(15, 6))\n",
        "fig.subplots_adjust(hspace = .2, wspace=.001)\n",
        "axs = axs.ravel()\n",
        "for i in range(10):\n",
        "    index = difficult[i]\n",
        "    image = X_val[index,:].reshape(28,28)\n",
        "    axs[i].axis('off')\n",
        "    axs[i].imshow(image,cmap=\"Greys_r\")"
      ],
      "execution_count": 34,
      "outputs": [
        {
          "output_type": "display_data",
          "data": {
            "image/png": "[encoded data removed]",
            "text/plain": [
              "<Figure size 1080x432 with 10 Axes>"
            ]
          },
          "metadata": {
            "needs_background": "light"
          }
        }
      ]
    },
    {
      "cell_type": "code",
      "metadata": {
        "id": "4dbVTQFsDqRK"
      },
      "source": [
        ""
      ],
      "execution_count": null,
      "outputs": []
    },
    {
      "cell_type": "code",
      "metadata": {
        "id": "9__RTruuDqfy"
      },
      "source": [
        ""
      ],
      "execution_count": null,
      "outputs": []
    },
    {
      "cell_type": "code",
      "metadata": {
        "id": "uBQgA6XtDqtz"
      },
      "source": [
        ""
      ],
      "execution_count": null,
      "outputs": []
    },
    {
      "cell_type": "markdown",
      "metadata": {
        "id": "NcshsLOGRPrk"
      },
      "source": [
        "## Summary"
      ]
    },
    {
      "cell_type": "markdown",
      "metadata": {
        "id": "XTc4pYKGRR60"
      },
      "source": [
        "Populate this section with all of your findings and comments fron the discussion with your peers."
      ]
    }
  ]
}