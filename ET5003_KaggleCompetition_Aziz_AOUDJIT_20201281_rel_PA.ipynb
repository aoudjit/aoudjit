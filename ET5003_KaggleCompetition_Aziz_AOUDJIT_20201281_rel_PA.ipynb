{
  "nbformat": 4,
  "nbformat_minor": 0,
  "metadata": {
    "colab": {
      "name": "ET5003_KaggleCompetition_Aziz_AOUDJIT_20201281.ipynb",
      "provenance": [],
      "collapsed_sections": [],
      "include_colab_link": true
    },
    "kernelspec": {
      "name": "python3",
      "display_name": "Python 3"
    },
    "language_info": {
      "name": "python"
    }
  },
  "cells": [
    {
      "cell_type": "markdown",
      "metadata": {
        "id": "view-in-github",
        "colab_type": "text"
      },
      "source": [
        "<a href=\"https://colab.research.google.com/github/aoudjit/aoudjit/blob/main/ET5003_KaggleCompetition_Aziz_AOUDJIT_20201281_rel_PA.ipynb\" target=\"_parent\"><img src=\"https://colab.research.google.com/assets/colab-badge.svg\" alt=\"Open In Colab\"/></a>"
      ]
    },
    {
      "cell_type": "markdown",
      "metadata": {
        "id": "930vlW5BrOtq"
      },
      "source": [
        "<div>\n",
        "<img src=\"https://drive.google.com/uc?export=view&id=1vK33e_EqaHgBHcbRV_m38hx6IkG0blK_\" width=\"350\"/>\n",
        "</div> \n",
        "\n",
        "#**Artificial Intelligence - MSc**\n",
        "##ET5003 - MACHINE LEARNING APPLICATIONS \n",
        "\n",
        "###Instructor: Enrique Naredo\n",
        "###ET5003_KaggleCompetition"
      ]
    },
    {
      "cell_type": "code",
      "metadata": {
        "id": "LqXD_IwUQuBF",
        "cellView": "form"
      },
      "source": [
        "#@title Current Date\n",
        "Today = '2021-10-05' #@param {type:\"date\"}\n"
      ],
      "execution_count": null,
      "outputs": []
    },
    {
      "cell_type": "code",
      "metadata": {
        "id": "uzDKau31OjVO",
        "cellView": "form"
      },
      "source": [
        "#@markdown ---\n",
        "#@markdown ### Enter your details here:\n",
        "Team_Number = \"Team 3\\\"\" #@param {type:\"string\"}\n",
        "Student_ID&Name = \"20201281_Aziz AOUDJIT\" #@param {type:\"string\"}\n",
        "Student_ID&Name = \"20201281_Aziz AOUDJIT\" #@param {type:\"string\"}\n",
        "Student_ID&Name = \"\" #@param {type:\"string\"}\n",
        "Student_ID&Name = \"\" #@param {type:\"string\"}\n",
        "Student_ID&Name = \"\" #@param {type:\"string\"}\n",
        "#@markdown ---"
      ],
      "execution_count": null,
      "outputs": []
    },
    {
      "cell_type": "code",
      "metadata": {
        "id": "r39xGZckTpKx",
        "cellView": "form"
      },
      "source": [
        "#@title Notebook information\n",
        "Notebook_type = 'Etivity' #@param [\"Example\", \"Lab\", \"Practice\", \"Etivity\", \"Assignment\", \"Exam\"]\n",
        "Version = Final #@param [\"Draft\", \"Final\"] {type:\"raw\"}\n",
        "Submission = False #@param {type:\"boolean\"}"
      ],
      "execution_count": null,
      "outputs": []
    },
    {
      "cell_type": "markdown",
      "metadata": {
        "id": "_A0Z6S-r6DpA"
      },
      "source": [
        "# INTRODUCTION"
      ]
    },
    {
      "cell_type": "markdown",
      "metadata": {
        "id": "d2vlkUAJ7Pz7"
      },
      "source": [
        "Your introduction here."
      ]
    },
    {
      "cell_type": "markdown",
      "metadata": {
        "id": "aajlS0WCJ8pm"
      },
      "source": [
        "***The goal is to use advanced Machine Learning methods to predict House price.***"
      ]
    },
    {
      "cell_type": "markdown",
      "metadata": {
        "id": "Wg7VCbX77eAA"
      },
      "source": [
        "## Imports"
      ]
    },
    {
      "cell_type": "code",
      "metadata": {
        "id": "iFFLThrpwibd"
      },
      "source": [
        "# Suppressing Warnings:\n",
        "import warnings\n",
        "warnings.filterwarnings(\"ignore\")"
      ],
      "execution_count": 1,
      "outputs": []
    },
    {
      "cell_type": "code",
      "metadata": {
        "id": "k96-GLUGE2ux"
      },
      "source": [
        "# standard libraries\n",
        "import pandas as pd\n",
        "import numpy as np\n",
        "import matplotlib.pyplot as plt\n",
        "%matplotlib inline"
      ],
      "execution_count": 2,
      "outputs": []
    },
    {
      "cell_type": "code",
      "metadata": {
        "id": "sYPJU_Y6O6Dq"
      },
      "source": [
        "# to plot\n",
        "import matplotlib.colors\n",
        "from mpl_toolkits.mplot3d import Axes3D\n",
        "\n",
        "# to generate classification, regression and clustering datasets\n",
        "import sklearn.datasets as dt\n",
        "\n",
        "# to create data frames\n",
        "from pandas import DataFrame\n",
        "\n",
        "# to generate data from an existing dataset\n",
        "from sklearn.neighbors import KernelDensity\n",
        "from sklearn.model_selection import GridSearchCV"
      ],
      "execution_count": 3,
      "outputs": []
    },
    {
      "cell_type": "code",
      "metadata": {
        "id": "mxMYIOx1FONV"
      },
      "source": [
        "# Scikit-learn is an open source machine learning library \n",
        "# that supports supervised and unsupervised learning\n",
        "# https://scikit-learn.org/stable/\n",
        "from sklearn.model_selection import train_test_split\n",
        "from sklearn.feature_extraction.text import CountVectorizer\n",
        "from sklearn.naive_bayes import MultinomialNB\n",
        "from sklearn.metrics import accuracy_score, confusion_matrix"
      ],
      "execution_count": 4,
      "outputs": []
    },
    {
      "cell_type": "code",
      "metadata": {
        "id": "YLlFHWx4j7W6"
      },
      "source": [
        "# Regular expression operations\n",
        "#https://docs.python.org/3/library/re.html\n",
        "import re \n",
        "\n",
        "# Natural Language Toolkit\n",
        "# https://www.nltk.org/install.html\n",
        "import nltk\n",
        "\n",
        "# Stemming maps different forms of the same word to a common “stem” \n",
        "# https://pypi.org/project/snowballstemmer/\n",
        "from nltk.stem import SnowballStemmer\n",
        "\n",
        "# https://www.nltk.org/book/ch02.html\n",
        "from nltk.corpus import stopwords\n",
        "\n",
        "# https://scikit-learn.org/stable/modules/generated/sklearn.preprocessing.StandardScaler.html\n",
        "from sklearn.preprocessing import StandardScaler"
      ],
      "execution_count": 5,
      "outputs": []
    },
    {
      "cell_type": "code",
      "metadata": {
        "colab": {
          "base_uri": "https://localhost:8080/"
        },
        "id": "5cfDHD9BXh0s",
        "outputId": "22c6efd6-787d-4741-e23a-df32e3107ec0"
      },
      "source": [
        "!pip install gpy"
      ],
      "execution_count": 6,
      "outputs": [
        {
          "output_type": "stream",
          "name": "stdout",
          "text": [
            "Collecting gpy\n",
            "  Downloading GPy-1.10.0.tar.gz (959 kB)\n",
            "\u001b[K     |████████████████████████████████| 959 kB 5.1 MB/s \n",
            "\u001b[?25hRequirement already satisfied: numpy>=1.7 in /usr/local/lib/python3.7/dist-packages (from gpy) (1.19.5)\n",
            "Requirement already satisfied: six in /usr/local/lib/python3.7/dist-packages (from gpy) (1.15.0)\n",
            "Collecting paramz>=0.9.0\n",
            "  Downloading paramz-0.9.5.tar.gz (71 kB)\n",
            "\u001b[K     |████████████████████████████████| 71 kB 8.8 MB/s \n",
            "\u001b[?25hRequirement already satisfied: cython>=0.29 in /usr/local/lib/python3.7/dist-packages (from gpy) (0.29.24)\n",
            "Requirement already satisfied: scipy>=1.3.0 in /usr/local/lib/python3.7/dist-packages (from gpy) (1.4.1)\n",
            "Requirement already satisfied: decorator>=4.0.10 in /usr/local/lib/python3.7/dist-packages (from paramz>=0.9.0->gpy) (4.4.2)\n",
            "Building wheels for collected packages: gpy, paramz\n",
            "  Building wheel for gpy (setup.py) ... \u001b[?25l\u001b[?25hdone\n",
            "  Created wheel for gpy: filename=GPy-1.10.0-cp37-cp37m-linux_x86_64.whl size=2565106 sha256=1eefc3613cdd8fe0d4a844c3f97268c3c7215c6a68d825ed6804bc24a32bd2f3\n",
            "  Stored in directory: /root/.cache/pip/wheels/f7/18/28/dd1ce0192a81b71a3b086fd952511d088b21e8359ea496860a\n",
            "  Building wheel for paramz (setup.py) ... \u001b[?25l\u001b[?25hdone\n",
            "  Created wheel for paramz: filename=paramz-0.9.5-py3-none-any.whl size=102565 sha256=f7844622d105f5aab4e784f28edc7b1ce07a13513c5497f1e145ab17577778bf\n",
            "  Stored in directory: /root/.cache/pip/wheels/c8/95/f5/ce28482da28162e6028c4b3a32c41d147395825b3cd62bc810\n",
            "Successfully built gpy paramz\n",
            "Installing collected packages: paramz, gpy\n",
            "Successfully installed gpy-1.10.0 paramz-0.9.5\n"
          ]
        }
      ]
    },
    {
      "cell_type": "code",
      "metadata": {
        "id": "SwGh2bagw4kg"
      },
      "source": [
        "import GPy as GPy\n",
        "import numpy as np\n",
        "import pylab as pb\n",
        "import pymc3 as pm\n",
        "import arviz as az"
      ],
      "execution_count": 7,
      "outputs": []
    },
    {
      "cell_type": "code",
      "metadata": {
        "id": "Qt9kpgTazNls"
      },
      "source": [
        "from nltk.corpus import stopwords\n",
        "import pandas as pd\n",
        "import numpy as np\n",
        "from nltk import sent_tokenize,word_tokenize\n",
        "from string import punctuation\n",
        "from nltk.stem import PorterStemmer\n",
        "from sklearn.feature_extraction.text import CountVectorizer, TfidfVectorizer\n",
        "from sklearn import svm\n",
        "from sklearn.svm import SVC, LinearSVC, LinearSVR\n",
        "import re\n",
        "from nltk.stem import WordNetLemmatizer\n",
        "import nltk\n",
        "import math\n",
        "from sklearn.metrics import classification_report\n",
        "from sklearn.metrics import f1_score\n",
        "from sklearn.metrics import accuracy_score \n",
        "from sklearn.metrics import confusion_matrix\n",
        "from nltk.corpus import wordnet\n",
        "from sklearn.naive_bayes import MultinomialNB\n",
        "from sklearn.linear_model import LinearRegression\n",
        "from sklearn.gaussian_process import GaussianProcessRegressor\n",
        "from sklearn.gaussian_process.kernels import DotProduct, WhiteKernel\n",
        "import matplotlib.pyplot as plt\n",
        "from sklearn.tree import DecisionTreeRegressor\n",
        "from sklearn.ensemble import AdaBoostRegressor\n",
        "from sklearn.metrics import r2_score"
      ],
      "execution_count": 8,
      "outputs": []
    },
    {
      "cell_type": "code",
      "metadata": {
        "id": "6MUJdlxSPSMM"
      },
      "source": [
        "# Define the seed so that results can be reproduced\n",
        "seed = 11\n",
        "rand_state = 11\n",
        "\n",
        "# Define the color maps for plots\n",
        "color_map = plt.cm.get_cmap('RdYlBu')\n",
        "color_map_discrete = matplotlib.colors.LinearSegmentedColormap.from_list(\"\", [\"red\",\"cyan\",\"magenta\",\"blue\"])"
      ],
      "execution_count": 9,
      "outputs": []
    },
    {
      "cell_type": "markdown",
      "metadata": {
        "id": "XvFsiRxb6V55"
      },
      "source": [
        "# Common functions"
      ]
    },
    {
      "cell_type": "code",
      "metadata": {
        "id": "UCq93vZD6WRz"
      },
      "source": [
        "\n",
        "def distance(coord1, coord2):\n",
        "    R = 6372800  # Earth radius in meters\n",
        "    lat1, lon1 = coord1\n",
        "    lat2, lon2 = coord2\n",
        "    \n",
        "    phi1, phi2 = math.radians(lat1), math.radians(lat2) \n",
        "    dphi       = math.radians(lat2 - lat1)\n",
        "    dlambda    = math.radians(lon2 - lon1)\n",
        "    \n",
        "    a = math.sin(dphi/2)**2 + \\\n",
        "        math.cos(phi1)*math.cos(phi2)*math.sin(dlambda/2)**2\n",
        "    \n",
        "    return 2*R*math.atan2(math.sqrt(a), math.sqrt(1 - a))/1000"
      ],
      "execution_count": 10,
      "outputs": []
    },
    {
      "cell_type": "code",
      "metadata": {
        "id": "iaGx6xTP6hea"
      },
      "source": [
        "def similarity(listWords):\n",
        "    result={}\n",
        "    feat1=\"Feat1\"\n",
        "    for word1 in listWords:\n",
        "        for word2 in listWords:\n",
        "            #print(word1)\n",
        "            wordFromList1 = wordnet.synsets(word1)\n",
        "            wordFromList2 = wordnet.synsets(word2)\n",
        "            if wordFromList1 and wordFromList2: \n",
        "                s = wordFromList1[0].wup_similarity(wordFromList2[0])\n",
        "                #print(s)\n",
        "                if s != None:\n",
        "                   if s>0.70 and s!=1.0:\n",
        "                      if feat1 in result:\n",
        "                         result[feat1] = result[feat1] + ' ' + word2\n",
        "                      else:\n",
        "                         result[feat1] = word2 \n",
        "    return result"
      ],
      "execution_count": 302,
      "outputs": []
    },
    {
      "cell_type": "code",
      "metadata": {
        "id": "osM35RNoJMyH"
      },
      "source": [
        "def similarity_word(word,listWords):\n",
        "    result={}\n",
        "    feat=\"Feat_\"+word\n",
        "    for word1 in listWords:\n",
        "            wordFromList1 = wordnet.synsets(word)\n",
        "            wordFromList2 = wordnet.synsets(word1)\n",
        "            if wordFromList1 and wordFromList2: \n",
        "                s = wordFromList1[0].wup_similarity(wordFromList2[0])\n",
        "                #print(s)\n",
        "                if s != None:\n",
        "                   if s>=0.70:\n",
        "                      if feat in result:\n",
        "                         result[feat] = result[feat] + ' ' + word1\n",
        "                      else:\n",
        "                         result[feat] = word1 \n",
        "    return result"
      ],
      "execution_count": 344,
      "outputs": []
    },
    {
      "cell_type": "code",
      "metadata": {
        "id": "RDbavDbz6hiR"
      },
      "source": [
        "def distanceEncoder(distance):\n",
        "    try:\n",
        "        if distance<5 : \n",
        "            return \"urban\"\n",
        "        if distance<10 :\n",
        "            return \"outurban\"\n",
        "        if distance<20 : \n",
        "            return \"extraouturban\"\n",
        "        if distance>=20 :\n",
        "            return \"farest\"\n",
        "    except:\n",
        "        return \"farest\""
      ],
      "execution_count": 39,
      "outputs": []
    },
    {
      "cell_type": "code",
      "metadata": {
        "id": "ldOkMQ4J6hmc"
      },
      "source": [
        "class NlpPipeline():\n",
        "    \n",
        "    def __init__(self, data, excluded_words):\n",
        "        self.data = data \n",
        "        self.excluded_words= excluded_words\n",
        "        self.corpus = {}\n",
        "        \n",
        "    def tokenize(self,raw):\n",
        "        tokens = []\n",
        "        for sent in sent_tokenize(raw):\n",
        "            sent=sent.lower()\n",
        "            sent=sent.replace('-','')\n",
        "            sub_tokens=word_tokenize(sent)\n",
        "            for w in sub_tokens:\n",
        "                tokens.append(''.join(w))\n",
        "        #print(tokens)\n",
        "        stopwords_en = set(stopwords.words('english'))\n",
        "        #words = [word for word in tokens]\n",
        "        words=[word for word in tokens if word not in stopwords_en ]\n",
        "        words=[word for word in words if not re.search(\"^\\(|\\)$\", word)   ]\n",
        "        words=[word for word in words if  not re.search(\"[0-9].[0-9]+[m]|[0-9]+[m]\", word)]\n",
        "        words=[word for word in words if  not re.search(\"^[0-9]+[a-z]*\", word)]\n",
        "        words=[word for word in words if  len(word)>=4]\n",
        "        #print(words)\n",
        "        \n",
        "        stopwords_en_with_punct=stopwords_en.union(set(punctuation))\n",
        "        words=[word for word in words if word not in stopwords_en_with_punct ]\n",
        "        words=[word for word in words if word not in self.excluded_words ]\n",
        "        \n",
        "        return words\n",
        "    \n",
        "    def stem(self,tokens):\n",
        "        stopwords_en = set(stopwords.words('english'))\n",
        "        stemmer=PorterStemmer()\n",
        "        stemmize_words=[]\n",
        "        for word in tokens:\n",
        "            stem = stemmer.stem(word)\n",
        "            if stem not in stopwords_en and  stem not in self.excluded_words and len(stem)>=4:\n",
        "                stemmize_words.append(stem)\n",
        "        return stemmize_words\n",
        "        \n",
        "    def lemmatize(self,tokens):\n",
        "        lemmatize_words=[]\n",
        "        lemmatizer=WordNetLemmatizer()\n",
        "        for word in tokens:\n",
        "            if word not in self.excluded_words:\n",
        "                lemmatize_words.append(lemmatizer.lemmatize(word))\n",
        "        return lemmatize_words\n",
        "    \n",
        "    def PosTag(self,tokens):\n",
        "        tagged_words=nltk.pos_tag(tokens)\n",
        "        return tagged_words\n",
        "\n",
        "        \n",
        "    def ner(self,tagged_words):\n",
        "        chunk_words=nltk.ne_chunk(tagged_words, binary=True)\n",
        "        entity_names=[]\n",
        "        for tree in chunk_words.subtrees():\n",
        "            #print(tree)\n",
        "            entity_names.extend(self.extract_entity(tree))\n",
        "        #print(entity_names)\n",
        "        return entity_names\n",
        "    \n",
        "    def extract_entity(self,t):\n",
        "        entity_names=[]\n",
        "        if hasattr(t,'label') and t.label():\n",
        "            if t.label()=='S':\n",
        "            \n",
        "               for child in t:\n",
        "                   # if child[1]=='JJS' or child[1]=='JJR' or child[1]=='JJ' or child[1]=='NN':\n",
        "                        entity_names.append(''.join(child[0]))\n",
        "                   # else:\n",
        "                      #  for child in t:\n",
        "                          #  entity_names.extend(self.extract_entity(child))\n",
        "            else:\n",
        "                for child in t:\n",
        "                    entity_names.extend(extract_entity(child))\n",
        "        return entity_names\n",
        "    \n",
        "    def build(self):\n",
        "        models = []\n",
        "        full_tokens=[]\n",
        "        data=self.data.values.reshape(-1,1)\n",
        "        #print(self.data.shape)\n",
        "        for i in range(data.shape[0]):\n",
        "            sent=data[i]\n",
        "            tokens=self.tokenize(sent[0])\n",
        "            \n",
        "            #tokens=self.stem(tokens)\n",
        "            \n",
        "            tokens=self.lemmatize(tokens)\n",
        "           # tokens= ' '.join(dict.fromkeys(str(tokens).split()))\n",
        "\n",
        "            tagged_words=self.PosTag(tokens)\n",
        "            #print(tagged_words)\n",
        "            entities = self.ner(tagged_words)\n",
        "            model = ''\n",
        "            for token in entities:\n",
        "                model = model + ' ' + token\n",
        "                if  token in self.corpus:\n",
        "                   self.corpus[token] = self.corpus[token] + 1\n",
        "                else: \n",
        "                   self.corpus[token] = 1\n",
        "            \n",
        "            models.append(model)\n",
        "\n",
        "            \n",
        "        return models"
      ],
      "execution_count": 335,
      "outputs": []
    },
    {
      "cell_type": "code",
      "metadata": {
        "id": "HMIJbCXs6hqk"
      },
      "source": [
        "def outliners(feature):\n",
        "    fig = plt.figure(figsize=(10,4))\n",
        "\n",
        "    ax = fig.add_subplot(1, 2, 1)\n",
        "    ax.set_title(\"Boxplot of \" + feature)\n",
        "    ax.set_xlabel(feature)\n",
        "    ax.set_ylabel('Number of Applicants')\n",
        "    dftrain.boxplot(column=[feature])\n",
        "\n",
        "    plt.show()"
      ],
      "execution_count": 14,
      "outputs": []
    },
    {
      "cell_type": "code",
      "metadata": {
        "id": "5SYWoaXu6hud"
      },
      "source": [
        "# Posterior predictive checks (PPCs)\n",
        "def ppc(alpha,beta,sigma, X,  nsamples=500):\n",
        "    #we select nsamples random samples from the posterior\n",
        "    ind = np.random.randint(0,beta.shape[0],size=nsamples)\n",
        "    alphai = alpha[ind]\n",
        "    betai = beta[ind,:]\n",
        "    sigmai = sigma[ind]\n",
        "\n",
        "    Ypred = np.zeros((nsamples,X.shape[0]))\n",
        "    for i in range(X.shape[0]):\n",
        "        #we generate data from linear model\n",
        "        y_pred = alphai + np.dot(betai, X[i:i+1,:].T).T +np.random.randn(len(sigmai))*sigmai\n",
        "        Ypred[:,i]=y_pred[0,:]\n",
        "    return Ypred"
      ],
      "execution_count": 15,
      "outputs": []
    },
    {
      "cell_type": "code",
      "metadata": {
        "id": "h-nHooxi60xo"
      },
      "source": [
        "def plot(Ypred,ylog):\n",
        "\n",
        "# plot prediction shape\n",
        "  for i in range(Ypred.shape[0]):\n",
        "    az.plot_dist( Ypred[i,:],color='r',plot_kwargs={\"linewidth\": 0.2})\n",
        "# label\n",
        "  az.plot_dist(Ypred[i,:],color='r',plot_kwargs={\"linewidth\": 0.2}, label=\"prediction\")\n",
        "\n",
        "# true observations\n",
        "  az.plot_dist(ylog,label='true observations');\n",
        "  plt.legend()\n",
        "  plt.xlabel(\"log(y) - output variable\")\n",
        "  plt.ylabel(\"density plot\");"
      ],
      "execution_count": 16,
      "outputs": []
    },
    {
      "cell_type": "code",
      "metadata": {
        "id": "sPM9vgI660_i"
      },
      "source": [
        "def clusters(Xf_train,Xf_test,yf_train,cluster_number):\n",
        "  Xn = Xf_train[clusters_train==cluster_number,:]\n",
        "  Xtestn = Xf_test[clusters_test==cluster_number,:]\n",
        "\n",
        "  ylog = np.log(yf_train.astype('float')[clusters_train==cluster_number,:])\n",
        "  yscaller = StandardScaler().fit(ylog)\n",
        "  yn = yscaller.transform(ylog) \n",
        "  return Xn,yn,yscaller,ylog,Xtestn  "
      ],
      "execution_count": 202,
      "outputs": []
    },
    {
      "cell_type": "code",
      "metadata": {
        "id": "xAap2OL-61OY"
      },
      "source": [
        "def predict_posterior(Xn,yn,yscaller,nsamples):\n",
        "\n",
        "  with pm.Model() as model:\n",
        "  # prior over the parameters of linear regression\n",
        "    alpha = pm.Normal('alpha', mu=0, sigma=30)\n",
        "  # we have a beta for each column of Xn0\n",
        "    beta = pm.Normal('beta', mu=0, sigma=30, shape=Xn.shape[1])\n",
        "  # prior over the variance of the noise\n",
        "    sigma = pm.HalfCauchy('sigma_n', 5)\n",
        "  # linear regression relationship\n",
        "  #linear regression model in matrix form\n",
        "    mu = alpha + pm.math.dot(beta, Xn.T)\n",
        "  # likelihood, be sure that observed is a 1d vector\n",
        "    like = pm.Normal('like', mu=mu, sigma=sigma, observed=yn[:,0])\n",
        "    approximation = pm.fit(60000,method='advi')\n",
        "\n",
        "# samples from the posterior  \n",
        "    posterior = approximation.sample(2500,include_transformed=True)\n",
        "    Ypred = yscaller.inverse_transform(ppc(posterior['alpha'],posterior['beta'],posterior['sigma_n'],Xn,  nsamples=nsamples))\n",
        "    return Ypred,posterior"
      ],
      "execution_count": 18,
      "outputs": []
    },
    {
      "cell_type": "code",
      "metadata": {
        "id": "FYiQEVnq7Th3"
      },
      "source": [
        "def print_performance(X_test,y_test,scaller,posterior,num_cluster): \n",
        "   y_pred_BLR = np.exp(scaller.inverse_transform(np.mean(posterior['alpha']) \n",
        "              + np.dot(np.mean(posterior['beta'],axis=0), X_test.T)))\n",
        "   print(\"Size Cluster\",num_cluster,\":\", np.sum(clusters_test==num_cluster), \", MAE Cluster\",num_cluster,\":\",\n",
        "      (np.mean(abs(y_pred_BLR - y_test[clusters_test==num_cluster]))))\n",
        "   print(\"MAPE Cluster\",num_cluster,\":\",(np.mean(abs(y_pred_BLR - y_test[clusters_test==num_cluster]) /y_test[clusters_test==num_cluster])))\n",
        "   #print(y_pred_BLR.shape,\":\",np.array(y_test[clusters_test==num_cluster]).shape)\n",
        "   return y_pred_BLR"
      ],
      "execution_count": 19,
      "outputs": []
    },
    {
      "cell_type": "code",
      "metadata": {
        "id": "wBlYXjQl9aJ_"
      },
      "source": [
        "def calculate_mean_square_error(actual, pred): \n",
        "    actual, pred = np.array(actual), np.array(pred)\n",
        "    return np.sqrt(np.mean(np.square((actual - pred) / actual))) * 100"
      ],
      "execution_count": 20,
      "outputs": []
    },
    {
      "cell_type": "markdown",
      "metadata": {
        "id": "WL91ShB19RPw"
      },
      "source": [
        "# DATASET"
      ]
    },
    {
      "cell_type": "markdown",
      "metadata": {
        "id": "ESg5DGKWJSOf"
      },
      "source": [
        "Extract from this [paper](https://ieeexplore.ieee.org/document/9300074):\n",
        "\n",
        "* House prices are a significant impression of the economy, and its value ranges are of great concerns for the clients and property dealers. \n",
        "\n",
        "* Housing price escalate every year that eventually reinforced the need of strategy or technique that could predict house prices in future. \n",
        "\n",
        "* There are certain factors that influence house prices including physical conditions, locations, number of bedrooms and others.\n"
      ]
    },
    {
      "cell_type": "markdown",
      "metadata": {
        "id": "a8Y2pf50FlYL"
      },
      "source": [
        "1. [Download the dataset](https://github.com/UL-CS6134/CS6134_SEM1_2021-2/tree/main/Week-5). \n",
        "\n",
        "2. Upload the dataset into your folder.\n",
        "\n"
      ]
    },
    {
      "cell_type": "markdown",
      "metadata": {
        "id": "FMkdCQEmKTof"
      },
      "source": [
        "The challenge is to predict the final price of each house."
      ]
    },
    {
      "cell_type": "markdown",
      "metadata": {
        "id": "2PMoPLlUJ1Ly"
      },
      "source": [
        "## Training & Test Data"
      ]
    },
    {
      "cell_type": "code",
      "metadata": {
        "id": "loLTHklwKGnV"
      },
      "source": [
        ""
      ],
      "execution_count": 20,
      "outputs": []
    },
    {
      "cell_type": "markdown",
      "metadata": {
        "id": "ztBkSZluye87"
      },
      "source": [
        "### Train dataset"
      ]
    },
    {
      "cell_type": "code",
      "metadata": {
        "id": "4rosmH4665uJ",
        "colab": {
          "base_uri": "https://localhost:8080/"
        },
        "outputId": "508faf62-ac03-48c3-922b-30ade789180b"
      },
      "source": [
        "from google.colab import drive\n",
        "drive.mount('/content/drive')\n"
      ],
      "execution_count": 21,
      "outputs": [
        {
          "output_type": "stream",
          "name": "stdout",
          "text": [
            "Mounted at /content/drive\n"
          ]
        }
      ]
    },
    {
      "cell_type": "code",
      "metadata": {
        "id": "-9Qa9OyFztdH"
      },
      "source": [
        "path = '/content/drive/MyDrive/university/modules/ET5003/house-price/'\n",
        "# training dataset: \n",
        "training_file = 'HousePrice_Train.csv'\n",
        "dftrain=pd.read_csv(path+training_file)\n",
        "# test dataset: \n",
        "testing_file = 'HousePrice_Test.csv'\n",
        "dftest=pd.read_csv(path+testing_file)"
      ],
      "execution_count": 100,
      "outputs": []
    },
    {
      "cell_type": "code",
      "metadata": {
        "id": "_OBwL1hikKLc"
      },
      "source": [
        "dftrain = dftrain.dropna()"
      ],
      "execution_count": 23,
      "outputs": []
    },
    {
      "cell_type": "code",
      "metadata": {
        "colab": {
          "base_uri": "https://localhost:8080/"
        },
        "id": "n0N9o3czKXAI",
        "outputId": "12d56843-8024-484f-a11b-754f8c85c550"
      },
      "source": [
        "dftrain.isna().sum()"
      ],
      "execution_count": 24,
      "outputs": [
        {
          "output_type": "execute_result",
          "data": {
            "text/plain": [
              "Index            0\n",
              "ID               0\n",
              "Location         0\n",
              "Num_Bathrooms    0\n",
              "Num_Beds         0\n",
              "BER_class        0\n",
              "Description      0\n",
              "Services         0\n",
              "Features         0\n",
              "Latitude         0\n",
              "Longitude        0\n",
              "Type             0\n",
              "Surface          0\n",
              "Price            0\n",
              "dtype: int64"
            ]
          },
          "metadata": {},
          "execution_count": 24
        }
      ]
    },
    {
      "cell_type": "code",
      "metadata": {
        "colab": {
          "base_uri": "https://localhost:8080/",
          "height": 573
        },
        "id": "FHg0wdqdhJmo",
        "outputId": "9f27c5c6-3cac-41ec-ce0e-2e33ba1f4289"
      },
      "source": [
        "outliners('Latitude',df_subset_train)\n",
        "outliners('Longitude',df_subset_train)"
      ],
      "execution_count": 27,
      "outputs": [
        {
          "output_type": "display_data",
          "data": {
            "image/png": "[encoded data removed]",
            "text/plain": [
              "<Figure size 720x288 with 1 Axes>"
            ]
          },
          "metadata": {
            "needs_background": "light"
          }
        },
        {
          "output_type": "display_data",
          "data": {
            "image/png": "[encoded data removed]",
            "text/plain": [
              "<Figure size 720x288 with 1 Axes>"
            ]
          },
          "metadata": {
            "needs_background": "light"
          }
        }
      ]
    },
    {
      "cell_type": "code",
      "metadata": {
        "id": "WY-pQyCpeJle"
      },
      "source": [
        "dftrain=dftrain[dftrain.Num_Bathrooms!=0]\n",
        "dftrain=dftrain[dftrain.Num_Beds!=0]\n",
        "dftrain=dftrain[dftrain.Num_Bathrooms<=10]\n",
        "dftrain=dftrain[dftrain.Num_Beds<=10]\n",
        "dftrain=dftrain[dftrain.Longitude<=-6]\n",
        "dftrain=dftrain[dftrain.Latitude>53]"
      ],
      "execution_count": 101,
      "outputs": []
    },
    {
      "cell_type": "code",
      "metadata": {
        "id": "sB1CFSQP0ue7"
      },
      "source": [
        "# select some features columns just for the baseline model\n",
        "# assume not all of the features are informative or useful\n",
        "# in this exercise you could try all of them if possible\n",
        "\n",
        "featrain = ['Latitude','Longitude','Num_Bathrooms','Num_Beds','Price']\n",
        "# dropna: remove missing values\n",
        "df_subset_train = dftrain[featrain].dropna(axis=0)\n",
        "\n",
        "# this will be used for performance testing of the model, \n",
        "featest = ['Latitude','Longitude','Num_Bathrooms','Num_Beds']\n",
        "df_subset_test  =  dftest[featest].dropna(axis=0)\n",
        "\n"
      ],
      "execution_count": 102,
      "outputs": []
    },
    {
      "cell_type": "code",
      "metadata": {
        "id": "MdJwNpxL0zsG"
      },
      "source": [
        "# train set, input columns\n",
        "Xs_train = df_subset_train.iloc[:,0:-1].values \n",
        "#Xs_train = X_train\n",
        "# train set, output column, cost\n",
        "ys_train = df_subset_train.iloc[:,-1].values.reshape(-1,1)   \n",
        "#ys_train = y_train\n",
        "# test set, input columns\n",
        "Xs_test = df_subset_test.iloc[:,0:].values "
      ],
      "execution_count": 103,
      "outputs": []
    },
    {
      "cell_type": "code",
      "metadata": {
        "colab": {
          "base_uri": "https://localhost:8080/"
        },
        "id": "ARf-ReHmDo5_",
        "outputId": "f731e732-ef96-47af-ed3b-a73003ca4c04"
      },
      "source": [
        "print(X_train.shape)"
      ],
      "execution_count": 277,
      "outputs": [
        {
          "output_type": "stream",
          "name": "stdout",
          "text": [
            "(341, 4)\n"
          ]
        }
      ]
    },
    {
      "cell_type": "code",
      "metadata": {
        "id": "EmoWl3BA09jk"
      },
      "source": [
        "# split data into training and test\n",
        "from sklearn.model_selection import train_test_split\n",
        "\n",
        "# training: 70% (0.7), test: 30% (0.3) \n",
        "# you could try any other combination \n",
        "# but consider 50% of training as the low boundary\n",
        "X_train,X_val,y_train,y_val = train_test_split(Xs_train, ys_train, test_size=0.3)"
      ],
      "execution_count": 104,
      "outputs": []
    },
    {
      "cell_type": "code",
      "metadata": {
        "id": "f5UCIWgm04j9"
      },
      "source": [
        "# StandardScaler() will normalize the features i.e. each column of X, \n",
        "# so, each column/feature/variable will have μ = 0 and σ = 1\n",
        "sc = StandardScaler()\n",
        "\n",
        "Xss_train = np.hstack([X_train,X_train[:,[2]]**2])\n",
        "xscaler = sc.fit(Xss_train)\n",
        "Xn_train = xscaler.transform(Xss_train)\n",
        "\n",
        "Xss_val = np.hstack([X_val,X_val[:,[2]]**2])\n",
        "Xn_val = xscaler.transform(Xss_val)\n",
        "\n",
        "Xss_test = np.hstack([Xs_test,Xs_test[:,[2]]**2])\n",
        "Xn_test = xscaler.transform(Xss_test)\n",
        "\n",
        "ylog = np.log(y_train.astype('float').reshape(-1,1))\n",
        "yscaler = StandardScaler().fit(ylog)\n",
        "yn_train = yscaler.transform(ylog)\n",
        "ylog_val = np.log(y_val.astype('float').reshape(-1,1))\n",
        "yscaler_val = StandardScaler().fit(ylog_val)\n",
        "yn_val = yscaler_val.transform(ylog_val)"
      ],
      "execution_count": 105,
      "outputs": []
    },
    {
      "cell_type": "code",
      "metadata": {
        "id": "6XUFUPABMHfF"
      },
      "source": [
        "# show first data frame rows \n",
        "dftrain.head()"
      ],
      "execution_count": null,
      "outputs": []
    },
    {
      "cell_type": "code",
      "metadata": {
        "id": "5rq_p-D4yLBe"
      },
      "source": [
        "# Generate descriptive statistics\n",
        "dftrain.describe()"
      ],
      "execution_count": null,
      "outputs": []
    },
    {
      "cell_type": "markdown",
      "metadata": {
        "id": "Iqg9_uxFyZli"
      },
      "source": [
        "### Test dataset"
      ]
    },
    {
      "cell_type": "code",
      "metadata": {
        "id": "bw2_yypxMfsi"
      },
      "source": [
        "# show first data frame rows \n",
        "dftest.head()"
      ],
      "execution_count": null,
      "outputs": []
    },
    {
      "cell_type": "code",
      "metadata": {
        "id": "FXo0x2u7T7-1"
      },
      "source": [
        "# Generate descriptive statistics\n",
        "dftest.describe()"
      ],
      "execution_count": null,
      "outputs": []
    },
    {
      "cell_type": "markdown",
      "metadata": {
        "id": "UjMH1CSEUA1A"
      },
      "source": [
        "### Expected Cost dataset"
      ]
    },
    {
      "cell_type": "code",
      "metadata": {
        "id": "7p63sCZeUNx3"
      },
      "source": [
        "# Generate descriptive statistics\n",
        "dfcost.describe()"
      ],
      "execution_count": null,
      "outputs": []
    },
    {
      "cell_type": "code",
      "metadata": {
        "colab": {
          "base_uri": "https://localhost:8080/"
        },
        "id": "yC9R7wRad81R",
        "outputId": "7d9ee253-0450-4521-acf4-5003188cdce3"
      },
      "source": [
        "dftrain.isna().sum()"
      ],
      "execution_count": 34,
      "outputs": [
        {
          "output_type": "execute_result",
          "data": {
            "text/plain": [
              "Index              0\n",
              "ID                 0\n",
              "Location           0\n",
              "Num_Bathrooms      0\n",
              "Num_Beds           0\n",
              "BER_class          0\n",
              "Description        0\n",
              "Services           0\n",
              "Features           0\n",
              "Latitude           0\n",
              "Longitude          0\n",
              "Type               0\n",
              "Surface            0\n",
              "Price              0\n",
              "Distances        361\n",
              "Distance         361\n",
              "dtype: int64"
            ]
          },
          "metadata": {},
          "execution_count": 34
        }
      ]
    },
    {
      "cell_type": "markdown",
      "metadata": {
        "id": "G5oRiZxo2gpN"
      },
      "source": [
        "# NATURAL LANGUAGE PROCESSING"
      ]
    },
    {
      "cell_type": "markdown",
      "metadata": {
        "id": "e8s0Wi3a8yjN"
      },
      "source": [
        "Natural language processing ([NLP](https://en.wikipedia.org/wiki/Natural_language_processing)) is a subfield of linguistics, computer science, and artificial intelligence.\n",
        "\n",
        "* NLP concerned with the interactions between computers and human language.\n",
        "* In particular how to program computers to process and analyze large amounts of natural language data. \n",
        "* The goal is a computer capable of \"understanding\" the contents of documents.\n",
        "* Including the contextual nuances of the language within them. \n",
        "* The technology can then accurately extract information and insights contained in the documents.\n",
        "* As well as categorize and organize the documents themselves. "
      ]
    },
    {
      "cell_type": "markdown",
      "metadata": {
        "id": "oValFP-z2gpN"
      },
      "source": [
        "Your comments, explanation, and references here."
      ]
    },
    {
      "cell_type": "code",
      "metadata": {
        "id": "e_WND6NP2gpN"
      },
      "source": [
        "coordinates = [dftrain.Latitude,dftrain.Longitude]\n",
        "coordinates = pd.DataFrame(np.array(coordinates).T).add_prefix('C')\n",
        "distances=np.ones(dftrain.Latitude.shape)\n",
        "dublin_coordinate =[53.3498053,-6.2603097]\n",
        "for i in range(coordinates.C0.shape[0]) :\n",
        "    coord=[coordinates.C0[i], coordinates.C1[i]]\n",
        "    d = distance(dublin_coordinate, np.array(coord))\n",
        "    distances[i]=d\n",
        "\n",
        "dftrain[\"Distances\"] = pd.DataFrame(np.array(distances))    \n",
        "dftrain[\"Distance\"] = dftrain[\"Distances\"].apply(distanceEncoder)\n"
      ],
      "execution_count": 132,
      "outputs": []
    },
    {
      "cell_type": "code",
      "metadata": {
        "id": "FGu0MnmnXrk5"
      },
      "source": [
        ""
      ],
      "execution_count": 132,
      "outputs": []
    },
    {
      "cell_type": "code",
      "metadata": {
        "id": "xpQt_78e8_86"
      },
      "source": [
        "for i in range(dftrain.Description.values.shape[0]):\n",
        "    dftrain.Description.values[i]=' '.join(dict.fromkeys(dftrain.Description.values[i].split()))\n",
        "    #print (dftrain.Description.values[i])\n",
        "#dftrain.Description.values = dftrain.Description.values' '.join(dict.fromkeys(string.split())))"
      ],
      "execution_count": 107,
      "outputs": []
    },
    {
      "cell_type": "code",
      "metadata": {
        "id": "YkQHkMaD9AI1"
      },
      "source": [
        "dftrain['BER_class_'] = dftrain.BER_class\n",
        "dftrain['BER_class_'] = dftrain.BER_class_.replace({'A1':'excelentenergy','A2':'excelentenergy','A3':'excelentenergy'})\n",
        "dftrain['BER_class_'] = dftrain.BER_class_.replace({'B1':'goodenergy','B2':'goodenergy','B3':'goodenergy'})\n",
        "dftrain['BER_class_'] = dftrain.BER_class_.replace({'C1':'midiumenergy','C2':'midiumenergy','C3':'midiumenergy'})\n",
        "dftrain['BER_class_'] = dftrain.BER_class_.replace({'D1':'lowenergy','D2':'lowenergy','D3':'lowenergy'})\n",
        "dftrain['BER_class_'] = dftrain.BER_class_.replace({'E1':'lowerenergy','E2':'lowerenergy','E3':'lowerenergy'})\n",
        "dftrain['BER_class_'] = dftrain.BER_class_.replace({'F':'badenergy','G':'badenergy','SINo666of2006exempt':'badenergy',np.nan:'badenergy'})\n",
        "dftrain['Num_Beds_'] = dftrain['Num_Beds']\n",
        "dftrain['Num_Beds_'] = dftrain.Num_Beds_.replace({1:'verysmall',2:'midiumsmall',3:'midiumhouse',4:'largehouse'})\n",
        "dftrain['Num_Beds_'] = dftrain.Num_Beds_.replace({5:'extralarge',6:'extralarge',7:'extralarge',8:'extralarge'})\n",
        "dftrain['Num_Beds_'] = dftrain.Num_Beds_.replace({9:'extralarge',15:'extralarge',27:'extralarge'})\n"
      ],
      "execution_count": 136,
      "outputs": []
    },
    {
      "cell_type": "code",
      "metadata": {
        "id": "ZB4d3qpS9AVu"
      },
      "source": [
        "dftrain[\"Description2\"] = dftrain.Description.str.cat(dftrain.Num_Beds_, sep=\" \").str.cat(dftrain.BER_class_, sep=\" \")#.str.cat(dftrain.Distance, sep=\" \")\n",
        "#dftrain[\"Description2\"] = dftrain.Num_Beds.str.cat(dftrain.BER_class, sep=\" \").str.cat(dftrain.Distance, sep=\" \")\n",
        "dftrain[\"Description2\"] = dftrain[\"Description2\"].str.cat(dftrain.Type, sep=\" \")"
      ],
      "execution_count": 143,
      "outputs": []
    },
    {
      "cell_type": "code",
      "metadata": {
        "colab": {
          "base_uri": "https://localhost:8080/"
        },
        "id": "8DKWGNpWK3RJ",
        "outputId": "0891156a-b136-4985-cff3-277a4578f5e4"
      },
      "source": [
        "import nltk\n",
        "#nltk.download('all')\n",
        "nltk.download('punkt')\n",
        "nltk.download('wordnet')\n",
        "nltk.download('stopwords')"
      ],
      "execution_count": 290,
      "outputs": [
        {
          "output_type": "stream",
          "name": "stdout",
          "text": [
            "[nltk_data] Downloading package punkt to /root/nltk_data...\n",
            "[nltk_data]   Package punkt is already up-to-date!\n",
            "[nltk_data] Downloading package wordnet to /root/nltk_data...\n",
            "[nltk_data]   Package wordnet is already up-to-date!\n",
            "[nltk_data] Downloading package stopwords to /root/nltk_data...\n",
            "[nltk_data]   Package stopwords is already up-to-date!\n"
          ]
        },
        {
          "output_type": "execute_result",
          "data": {
            "text/plain": [
              "True"
            ]
          },
          "metadata": {},
          "execution_count": 290
        }
      ]
    },
    {
      "cell_type": "code",
      "metadata": {
        "id": "6EsFUhkTNcRH"
      },
      "source": [
        "y=dftrain.Price\n",
        "X=dftrain\n",
        "X_train, X_test, y_train, y_test = train_test_split(X, y, test_size=0.3)"
      ],
      "execution_count": 144,
      "outputs": []
    },
    {
      "cell_type": "code",
      "metadata": {
        "id": "S6ljcWKDtPvc"
      },
      "source": [
        "ylog_train = np.log(np.array(y_train).astype('float').reshape(-1,1))\n",
        "yscaler_train = StandardScaler().fit(ylog_train)\n",
        "yn_train = yscaler_train.transform(ylog_train)"
      ],
      "execution_count": 219,
      "outputs": []
    },
    {
      "cell_type": "code",
      "metadata": {
        "id": "D1ZaMusi9Aiz"
      },
      "source": [
        "excluded_words=['living','bedroom','kitchen','room','bathroom','accommod',' entranc','hall','excel','delight','offer','purchas','includ','sale','agent','minut','owner','highli','four','approx','proport','point','back','rear','club']\n",
        "nlp = NlpPipeline (X_train.Description,excluded_words)\n",
        "data = nlp.build()\n",
        "data_df = pd.DataFrame(np.array(data)).add_prefix('C')\n",
        "\n"
      ],
      "execution_count": 336,
      "outputs": []
    },
    {
      "cell_type": "code",
      "metadata": {
        "id": "LbOtnAlFzvsX"
      },
      "source": [
        "sorted_corpus = sorted(nlp.corpus.items(), key=lambda x:x[1],reverse=True)\n",
        "sortdict = dict(sorted_corpus)\n",
        "#print(sortdict)\n",
        "#print (data)"
      ],
      "execution_count": 369,
      "outputs": []
    },
    {
      "cell_type": "code",
      "metadata": {
        "id": "d2cEXTRwB-rV"
      },
      "source": [
        "corpus = {}\n",
        "for k,v in nlp.corpus.items():\n",
        "\n",
        "   if v > 100:\n",
        "\n",
        "     corpus[k]=v\n",
        "\n",
        "\n"
      ],
      "execution_count": 338,
      "outputs": []
    },
    {
      "cell_type": "code",
      "metadata": {
        "id": "JINPc_soQ6Zz"
      },
      "source": [
        "\n"
      ],
      "execution_count": 346,
      "outputs": []
    },
    {
      "cell_type": "markdown",
      "metadata": {
        "id": "1IhO1BvOQ9q_"
      },
      "source": [
        "## Features creation"
      ]
    },
    {
      "cell_type": "code",
      "metadata": {
        "colab": {
          "base_uri": "https://localhost:8080/"
        },
        "id": "ZJe_5FDxD-6H",
        "outputId": "2bd224d9-67af-4b25-c218-4fb54f59dae1"
      },
      "source": [
        "#print(corpus)\n",
        "#print(list(corpus.keys()))\n",
        "print(similarity_word(\"education\",list(corpus.keys())))\n",
        "print(similarity_word(\"sport\",list(corpus.keys())))\n",
        "print(similarity_word(\"shops\",list(corpus.keys())))\n",
        "print(similarity_word(\"entertainment\",list(corpus.keys())))\n",
        "print(similarity_word(\"transportation\",list(corpus.keys())))"
      ],
      "execution_count": 370,
      "outputs": [
        {
          "output_type": "stream",
          "name": "stdout",
          "text": [
            "{'Feat_education': 'market offer looking service washing boast storage drive study selection sport tennis planning golf'}\n",
            "{'Feat_sport': 'market looking service washing sport tennis planning golf'}\n",
            "{'Feat_shops': 'shop office porch balcony store'}\n",
            "{'Feat_entertainment': 'market looking service washing sport tennis planning golf'}\n",
            "{'Feat_transportation': 'panel well road original porch laminate timber station transport airport balcony facility leading brick system'}\n"
          ]
        }
      ]
    },
    {
      "cell_type": "markdown",
      "metadata": {
        "id": "sFSgfd0NRWTJ"
      },
      "source": [
        "### test without new features"
      ]
    },
    {
      "cell_type": "code",
      "metadata": {
        "colab": {
          "base_uri": "https://localhost:8080/"
        },
        "id": "Atp8bnIJ9AoX",
        "outputId": "ea528c21-7422-4b65-be9e-39c6461155c3"
      },
      "source": [
        "from scipy.sparse import coo_matrix, hstack\n",
        "print(data_df.shape)\n",
        "basicvectorizer = CountVectorizer(ngram_range=(1,1),max_features=1000)\n",
        "basictrain = basicvectorizer.fit_transform(data_df.C0)\n",
        "#print(np.array(basictrain))\n",
        "basictrain_full = hstack([coo_matrix(basictrain),np.array(X_train.Latitude).reshape(-1,1), np.array(X_train.Longitude).reshape(-1,1)])\n",
        "print(basictrain_full.shape)"
      ],
      "execution_count": 148,
      "outputs": [
        {
          "output_type": "stream",
          "name": "stdout",
          "text": [
            "(1143, 1)\n",
            "(1143, 1002)\n"
          ]
        }
      ]
    },
    {
      "cell_type": "code",
      "metadata": {
        "colab": {
          "base_uri": "https://localhost:8080/"
        },
        "id": "KiZ-n9ui9AsG",
        "outputId": "a4c3a216-b7ec-46fb-86b7-ad3b7b5d7ddc"
      },
      "source": [
        "basicmodel = svm.LinearSVC(C=0.1, class_weight='balanced', multi_class='ovr')\n",
        "basicmodel = basicmodel.fit(basictrain_full, y_train)\n",
        "#basictrain = basicvectorizer.transform(data_df.C0)\n",
        "predictions_train = basicmodel.predict(basictrain_full)\n",
        "print ('rmspe:',calculate_mean_square_error(np.array(y_train), np.array(predictions_train)),'%')\n",
        "print ('score r2:',r2_score(y_train, predictions_train)*100, '%')"
      ],
      "execution_count": 149,
      "outputs": [
        {
          "output_type": "stream",
          "name": "stdout",
          "text": [
            "rmspe: 0.0 %\n",
            "score r2: 100.0 %\n"
          ]
        }
      ]
    },
    {
      "cell_type": "code",
      "metadata": {
        "colab": {
          "base_uri": "https://localhost:8080/"
        },
        "id": "AIBT3xi09gwS",
        "outputId": "5a7e10c4-4ba0-49fa-9408-3e63e64662df"
      },
      "source": [
        "nlp2 = NlpPipeline (X_test.Description2,excluded_words)\n",
        "data2 = nlp2.build()\n",
        "data_df2 = pd.DataFrame(np.array(data2)).add_prefix('C')\n",
        "\n",
        "print(data_df2.shape)\n",
        "print(X_test.Description2.shape)"
      ],
      "execution_count": 150,
      "outputs": [
        {
          "output_type": "stream",
          "name": "stdout",
          "text": [
            "(491, 1)\n",
            "(491,)\n"
          ]
        }
      ]
    },
    {
      "cell_type": "code",
      "metadata": {
        "id": "64y9ezwO9g0r"
      },
      "source": [
        "\n",
        "basictest = basicvectorizer.transform(data_df2.C0)\n",
        "basictest_full = hstack([coo_matrix(basictest),np.array(X_test.Latitude).reshape(-1,1), np.array(X_test.Longitude).reshape(-1,1)])\n",
        "predictions = basicmodel.predict(basictest_full)"
      ],
      "execution_count": 151,
      "outputs": []
    },
    {
      "cell_type": "code",
      "metadata": {
        "colab": {
          "base_uri": "https://localhost:8080/"
        },
        "id": "rUHYW9fa9g3-",
        "outputId": "3ce90c21-737d-4a21-f394-ce3ecd9b9019"
      },
      "source": [
        "from sklearn.metrics import r2_score\n",
        "#print(np.array(predictions))\n",
        "#print (accuracy_score(y_test, predictions))\n",
        "print ('rmspe:',calculate_mean_square_error(np.array(y_test), np.array(predictions)),'%')\n",
        "#print(np.array([y_test,predictions]).T)\n",
        "print (r2_score(y_test, predictions))\n",
        "print(\"MAE = \",(np.mean(abs(predictions - y_test))))\n",
        "print(\"MAPE = \",(np.mean(abs(predictions - y_test) / y_test)))"
      ],
      "execution_count": 152,
      "outputs": [
        {
          "output_type": "stream",
          "name": "stdout",
          "text": [
            "rmspe: 46.69461805106408 %\n",
            "0.1613689183908894\n",
            "MAE =  215830.7535641548\n",
            "MAPE =  0.3361562131599493\n"
          ]
        }
      ]
    },
    {
      "cell_type": "code",
      "metadata": {
        "id": "08OdIQX_9g7p"
      },
      "source": [
        "def get_classification_metric(testy, probs):\n",
        "    from sklearn.metrics import precision_recall_curve\n",
        "    precision, recall, thresholds = precision_recall_curve(testy, probs[:,1])\n",
        "    # convert to f score\n",
        "    fscore = (2 * precision * recall) / (precision + recall)\n",
        "    # locate the index of the largest f score\n",
        "    ix = np.argmax(fscore)\n",
        "    return fscore[ix]"
      ],
      "execution_count": null,
      "outputs": []
    },
    {
      "cell_type": "code",
      "metadata": {
        "colab": {
          "base_uri": "https://localhost:8080/"
        },
        "id": "T1qIy4Ty9g-e",
        "outputId": "512c7d98-96d6-499d-ce80-3a13a60eb631"
      },
      "source": [
        "from sklearn.ensemble import AdaBoostRegressor\n",
        "from sklearn.tree import ExtraTreeRegressor\n",
        "extra_tree = ExtraTreeRegressor(random_state=0)\n",
        "reg = AdaBoostRegressor(extra_tree,n_estimators=200, random_state=0, learning_rate=0.8).fit(basictrain_full.toarray(), y_train)\n",
        "pred_b = reg.predict(basictrain_full.toarray())\n",
        "print (r2_score(y_train, pred_b))"
      ],
      "execution_count": 153,
      "outputs": [
        {
          "output_type": "stream",
          "name": "stdout",
          "text": [
            "0.9982974613489558\n"
          ]
        }
      ]
    },
    {
      "cell_type": "code",
      "metadata": {
        "colab": {
          "base_uri": "https://localhost:8080/"
        },
        "id": "BWXlriDo9AyI",
        "outputId": "ddb7e69c-573c-480b-c174-0f46293ff316"
      },
      "source": [
        "pred_t = reg.predict(basictest_full.toarray())\n",
        "print (r2_score(y_test, pred_t))\n",
        "print(\"MAE = \",(np.mean(abs(pred_t - y_test))))\n",
        "print(\"MAPE = \",(np.mean(abs(pred_t - y_test) / y_test)))"
      ],
      "execution_count": 154,
      "outputs": [
        {
          "output_type": "stream",
          "name": "stdout",
          "text": [
            "0.5109518875132915\n",
            "MAE =  146735.53971486763\n",
            "MAPE =  0.22243454047576924\n"
          ]
        }
      ]
    },
    {
      "cell_type": "markdown",
      "metadata": {
        "id": "URPsd3cDRctD"
      },
      "source": [
        "### test with new features"
      ]
    },
    {
      "cell_type": "markdown",
      "metadata": {
        "id": "6V-5aFNMRgLa"
      },
      "source": [
        "#### to complete ......"
      ]
    },
    {
      "cell_type": "code",
      "metadata": {
        "id": "a-i59QOURj2J"
      },
      "source": [
        ""
      ],
      "execution_count": null,
      "outputs": []
    },
    {
      "cell_type": "markdown",
      "metadata": {
        "id": "bJFJQxAS9HZK"
      },
      "source": [
        "# PIECEWISE REGRESSION"
      ]
    },
    {
      "cell_type": "markdown",
      "metadata": {
        "id": "QkRchZtf6IV-"
      },
      "source": [
        "**Piecewise regression**, extract from [Wikipedia](https://en.wikipedia.org/wiki/Segmented_regression):\n",
        "\n",
        "Segmented regression, also known as piecewise regression or broken-stick regression, is a method in regression analysis in which the independent variable is partitioned into intervals and a separate line segment is fit to each interval. \n",
        "\n",
        "* Segmented regression analysis can also be performed on \n",
        "multivariate data by partitioning the various independent variables. \n",
        "* Segmented regression is useful when the independent variables, clustered into different groups, exhibit different relationships between the variables in these regions. \n",
        "\n",
        "* The boundaries between the segments are breakpoints.\n",
        "\n",
        "* Segmented linear regression is segmented regression whereby the relations in the intervals are obtained by linear regression. "
      ]
    },
    {
      "cell_type": "markdown",
      "metadata": {
        "id": "po84zvge2NS7"
      },
      "source": [
        "Your comments, explanation, and references here."
      ]
    },
    {
      "cell_type": "code",
      "metadata": {
        "id": "pXX7Mq2Y2NrK"
      },
      "source": [
        ""
      ],
      "execution_count": 1,
      "outputs": []
    },
    {
      "cell_type": "code",
      "metadata": {
        "id": "NHdqjjVFDpUA"
      },
      "source": [
        "X_train,X_val,y_train,y_val = train_test_split(Xs_train, ys_train, test_size=0.3)"
      ],
      "execution_count": 351,
      "outputs": []
    },
    {
      "cell_type": "code",
      "metadata": {
        "colab": {
          "base_uri": "https://localhost:8080/",
          "height": 404
        },
        "id": "8ZaB9SFeDpZX",
        "outputId": "20eaedea-56bb-48d6-ef20-a8dfb04062a6"
      },
      "source": [
        "from sklearn.cluster import KMeans\n",
        "ind=[0,1]\n",
        "X_ind = np.vstack([np.array(X_train)[:,ind],np.array(X_val)[:,ind]])\n",
        "inertia = []\n",
        "indexes = []\n",
        "for cls in range(1, 10):\n",
        "    kmeans = KMeans(init='random', n_clusters=cls, max_iter=500).fit(np.array(X_ind))\n",
        "    inertia.append( kmeans.inertia_)\n",
        "    indexes.append( cls)\n",
        "\n",
        "\n",
        "plt.figure(figsize=(20, 6))\n",
        "plt.plot(indexes, inertia, 'b+-')\n",
        "plt.xlabel(\"clusters\")\n",
        "plt.ylabel(\"mean square distance\")\n",
        "\n",
        "plt.title(\"sum of the mean square distances\")\n",
        "plt.show()"
      ],
      "execution_count": 352,
      "outputs": [
        {
          "output_type": "display_data",
          "data": {
            "image/png": "[encoded data removed]",
            "text/plain": [
              "<Figure size 1440x432 with 1 Axes>"
            ]
          },
          "metadata": {
            "needs_background": "light"
          }
        }
      ]
    },
    {
      "cell_type": "code",
      "metadata": {
        "colab": {
          "base_uri": "https://localhost:8080/",
          "height": 282
        },
        "id": "TIN4TEp6DpeK",
        "outputId": "e351c1e3-419b-49e0-9345-cdf6509c4e0e"
      },
      "source": [
        "# training gaussian mixture model \n",
        "from sklearn.mixture import GaussianMixture\n",
        "dftrain.head()\n",
        "gmm = GaussianMixture(n_components=4)\n",
        "\n",
        "# Gaussian Mixture\n",
        "gmm.fit(X_ind)\n",
        "# plot blue dots\n",
        "plt.scatter(X_ind[:,0],X_ind[:,1])\n",
        "# centroids:  orange dots\n",
        "plt.scatter(gmm.means_[:,0],gmm.means_[:,1])"
      ],
      "execution_count": 353,
      "outputs": [
        {
          "output_type": "execute_result",
          "data": {
            "text/plain": [
              "<matplotlib.collections.PathCollection at 0x7f02342c1950>"
            ]
          },
          "metadata": {},
          "execution_count": 353
        },
        {
          "output_type": "display_data",
          "data": {
            "image/png": "[encoded data removed]",
            "text/plain": [
              "<Figure size 432x288 with 1 Axes>"
            ]
          },
          "metadata": {
            "needs_background": "light"
          }
        }
      ]
    },
    {
      "cell_type": "code",
      "metadata": {
        "colab": {
          "base_uri": "https://localhost:8080/"
        },
        "id": "h1cPGNmfDpqk",
        "outputId": "bf166279-0430-4fab-c4fa-162a6f6d4484"
      },
      "source": [
        "# train clusters\n",
        "clusters_train = gmm.predict(np.array(X_train)[:,ind])\n",
        "unique_train, counts_train = np.unique(clusters_train, return_counts=True)\n",
        "dict(zip(unique_train, counts_train))"
      ],
      "execution_count": 354,
      "outputs": [
        {
          "output_type": "execute_result",
          "data": {
            "text/plain": [
              "{0: 199, 1: 183, 2: 189, 3: 572}"
            ]
          },
          "metadata": {},
          "execution_count": 354
        }
      ]
    },
    {
      "cell_type": "code",
      "metadata": {
        "colab": {
          "base_uri": "https://localhost:8080/"
        },
        "id": "OXyxFaBBDpw7",
        "outputId": "6f4ce509-9657-4312-9f15-e883fcc04af0"
      },
      "source": [
        "# test clusters\n",
        "clusters_test = gmm.predict(np.array(X_val)[:,ind])\n",
        "unique_test, counts_test = np.unique(clusters_test, return_counts=True)\n",
        "dict(zip(unique_test, counts_test))\n"
      ],
      "execution_count": 355,
      "outputs": [
        {
          "output_type": "execute_result",
          "data": {
            "text/plain": [
              "{0: 89, 1: 71, 2: 77, 3: 254}"
            ]
          },
          "metadata": {},
          "execution_count": 355
        }
      ]
    },
    {
      "cell_type": "code",
      "metadata": {
        "id": "lV_b83nFDp0z"
      },
      "source": [
        ""
      ],
      "execution_count": 234,
      "outputs": []
    },
    {
      "cell_type": "code",
      "metadata": {
        "id": "R1_beA8NEvOv"
      },
      "source": [
        "\n",
        "\n",
        "\n"
      ],
      "execution_count": 355,
      "outputs": []
    },
    {
      "cell_type": "code",
      "metadata": {
        "colab": {
          "base_uri": "https://localhost:8080/",
          "height": 164
        },
        "id": "S1imUq6iEvUC",
        "outputId": "e8e4daf3-d6ea-435c-de6b-8dba785d455e"
      },
      "source": [
        "Xn0,yn0,yscaller0,ylog0,Xtestn0=clusters(np.array(X_train),np.array(X_val),np.array(y_train),0)\n",
        "Ypred0,posterior0=predict_posterior(Xn0,yn0,yscaller0,200)\n",
        "Xn1,yn1,yscaller1,ylog1,Xtestn1=clusters(np.array(X_train),np.array(X_val),np.array(y_train),1)\n",
        "Ypred1,posterior1=predict_posterior(Xn1,yn1,yscaller1,200)\n",
        "Xn2,yn2,yscaller2,ylog2,Xtestn2=clusters(np.array(X_train),np.array(X_val),np.array(y_train),2)\n",
        "Ypred2,posterior2=predict_posterior(Xn2,yn2,yscaller2,200)\n",
        "Xn3,yn3,yscaller3,ylog3,Xtestn3=clusters(np.array(X_train),np.array(X_val),np.array(y_train),3)\n",
        "Ypred3,posterior3=predict_posterior(Xn3,yn3,yscaller3,200)\n",
        "#Xn4,yn4,yscaller4,ylog4,Xtestn4=clusters(X_train,X_val,y_train,4)\n",
        "#Ypred4,posterior4=predict_posterior(Xn4,yn4,yscaller4,200)"
      ],
      "execution_count": 357,
      "outputs": [
        {
          "output_type": "display_data",
          "data": {
            "text/html": [
              "\n",
              "    <div>\n",
              "        <style>\n",
              "            /* Turns off some styling */\n",
              "            progress {\n",
              "                /* gets rid of default border in Firefox and Opera. */\n",
              "                border: none;\n",
              "                /* Needs to be in here for Safari polyfill so background images work as expected. */\n",
              "                background-size: auto;\n",
              "            }\n",
              "            .progress-bar-interrupted, .progress-bar-interrupted::-webkit-progress-bar {\n",
              "                background: #F44336;\n",
              "            }\n",
              "        </style>\n",
              "      <progress value='60000' class='' max='60000' style='width:300px; height:20px; vertical-align: middle;'></progress>\n",
              "      100.00% [60000/60000 00:07<00:00 Average Loss = 238.67]\n",
              "    </div>\n",
              "    "
            ],
            "text/plain": [
              "<IPython.core.display.HTML object>"
            ]
          },
          "metadata": {}
        },
        {
          "output_type": "stream",
          "name": "stderr",
          "text": [
            "Finished [100%]: Average Loss = 238.68\n"
          ]
        },
        {
          "output_type": "display_data",
          "data": {
            "text/html": [
              "\n",
              "    <div>\n",
              "        <style>\n",
              "            /* Turns off some styling */\n",
              "            progress {\n",
              "                /* gets rid of default border in Firefox and Opera. */\n",
              "                border: none;\n",
              "                /* Needs to be in here for Safari polyfill so background images work as expected. */\n",
              "                background-size: auto;\n",
              "            }\n",
              "            .progress-bar-interrupted, .progress-bar-interrupted::-webkit-progress-bar {\n",
              "                background: #F44336;\n",
              "            }\n",
              "        </style>\n",
              "      <progress value='60000' class='' max='60000' style='width:300px; height:20px; vertical-align: middle;'></progress>\n",
              "      100.00% [60000/60000 00:07<00:00 Average Loss = 242.33]\n",
              "    </div>\n",
              "    "
            ],
            "text/plain": [
              "<IPython.core.display.HTML object>"
            ]
          },
          "metadata": {}
        },
        {
          "output_type": "stream",
          "name": "stderr",
          "text": [
            "Finished [100%]: Average Loss = 242.31\n"
          ]
        },
        {
          "output_type": "display_data",
          "data": {
            "text/html": [
              "\n",
              "    <div>\n",
              "        <style>\n",
              "            /* Turns off some styling */\n",
              "            progress {\n",
              "                /* gets rid of default border in Firefox and Opera. */\n",
              "                border: none;\n",
              "                /* Needs to be in here for Safari polyfill so background images work as expected. */\n",
              "                background-size: auto;\n",
              "            }\n",
              "            .progress-bar-interrupted, .progress-bar-interrupted::-webkit-progress-bar {\n",
              "                background: #F44336;\n",
              "            }\n",
              "        </style>\n",
              "      <progress value='60000' class='' max='60000' style='width:300px; height:20px; vertical-align: middle;'></progress>\n",
              "      100.00% [60000/60000 00:07<00:00 Average Loss = 194.18]\n",
              "    </div>\n",
              "    "
            ],
            "text/plain": [
              "<IPython.core.display.HTML object>"
            ]
          },
          "metadata": {}
        },
        {
          "output_type": "stream",
          "name": "stderr",
          "text": [
            "Finished [100%]: Average Loss = 194.19\n"
          ]
        },
        {
          "output_type": "display_data",
          "data": {
            "text/html": [
              "\n",
              "    <div>\n",
              "        <style>\n",
              "            /* Turns off some styling */\n",
              "            progress {\n",
              "                /* gets rid of default border in Firefox and Opera. */\n",
              "                border: none;\n",
              "                /* Needs to be in here for Safari polyfill so background images work as expected. */\n",
              "                background-size: auto;\n",
              "            }\n",
              "            .progress-bar-interrupted, .progress-bar-interrupted::-webkit-progress-bar {\n",
              "                background: #F44336;\n",
              "            }\n",
              "        </style>\n",
              "      <progress value='60000' class='' max='60000' style='width:300px; height:20px; vertical-align: middle;'></progress>\n",
              "      100.00% [60000/60000 00:08<00:00 Average Loss = 665.54]\n",
              "    </div>\n",
              "    "
            ],
            "text/plain": [
              "<IPython.core.display.HTML object>"
            ]
          },
          "metadata": {}
        },
        {
          "output_type": "stream",
          "name": "stderr",
          "text": [
            "Finished [100%]: Average Loss = 665.51\n"
          ]
        }
      ]
    },
    {
      "cell_type": "code",
      "metadata": {
        "colab": {
          "base_uri": "https://localhost:8080/"
        },
        "id": "iM62cpdo8p1o",
        "outputId": "01119409-30b8-44a6-9b84-2d3660a35d47"
      },
      "source": [
        "   print(\"Size Cluster\",0,\":\", np.sum(clusters_train==0), \", MAE Cluster\",0,\":\",(np.mean(abs(np.mean(Ypred0) - yn_train[clusters_train==0]))))\n",
        "   print(\"MAPE Cluster\",0,\":\",(np.mean(np.abs(np.mean(Ypred0[:1]) - yn_train[clusters_train==0]) /yn_train[clusters_train==0])))\n",
        "   print(\"Size Cluster\",1,\":\", np.sum(clusters_train==1), \", MAE Cluster\",1,\":\",(np.mean(abs(np.mean(Ypred1) - yn_train[clusters_train==1]))))\n",
        "   print(\"MAPE Cluster\",1,\":\",(np.mean(abs(np.mean(Ypred1) - yn_train[clusters_train==1]) /yn_train[clusters_train==1])))"
      ],
      "execution_count": 358,
      "outputs": [
        {
          "output_type": "stream",
          "name": "stdout",
          "text": [
            "Size Cluster 0 : 199 , MAE Cluster 0 : 12.667540122933124\n",
            "MAPE Cluster 0 : -176.6563541350273\n",
            "Size Cluster 1 : 183 , MAE Cluster 1 : 12.827449754717255\n",
            "MAPE Cluster 1 : -90.84941614586918\n"
          ]
        }
      ]
    },
    {
      "cell_type": "code",
      "metadata": {
        "colab": {
          "base_uri": "https://localhost:8080/",
          "height": 286
        },
        "id": "uGxkOjh_2ay1",
        "outputId": "fe12a180-ea1a-4318-a0f7-2a1ae298fb69"
      },
      "source": [
        "plot(Ypred0,ylog0)"
      ],
      "execution_count": 359,
      "outputs": [
        {
          "output_type": "display_data",
          "data": {
            "image/png": "[encoded data removed]",
            "text/plain": [
              "<Figure size 432x288 with 1 Axes>"
            ]
          },
          "metadata": {
            "needs_background": "light"
          }
        }
      ]
    },
    {
      "cell_type": "code",
      "metadata": {
        "colab": {
          "base_uri": "https://localhost:8080/",
          "height": 283
        },
        "id": "40frk4Nb2yX1",
        "outputId": "e8cdcf52-5392-4501-e583-e11bfd285cfc"
      },
      "source": [
        "plot(Ypred1,ylog1)"
      ],
      "execution_count": 360,
      "outputs": [
        {
          "output_type": "display_data",
          "data": {
            "image/png": "[encoded data removed]",
            "text/plain": [
              "<Figure size 432x288 with 1 Axes>"
            ]
          },
          "metadata": {
            "needs_background": "light"
          }
        }
      ]
    },
    {
      "cell_type": "code",
      "metadata": {
        "colab": {
          "base_uri": "https://localhost:8080/",
          "height": 283
        },
        "id": "wIDmeOtu20Zm",
        "outputId": "e57830ea-aca7-473f-8ac3-3eba86f16e78"
      },
      "source": [
        "plot(Ypred2,ylog2)"
      ],
      "execution_count": 361,
      "outputs": [
        {
          "output_type": "display_data",
          "data": {
            "image/png": "[encoded data removed]",
            "text/plain": [
              "<Figure size 432x288 with 1 Axes>"
            ]
          },
          "metadata": {
            "needs_background": "light"
          }
        }
      ]
    },
    {
      "cell_type": "code",
      "metadata": {
        "colab": {
          "base_uri": "https://localhost:8080/",
          "height": 283
        },
        "id": "PvP4_zUV24TY",
        "outputId": "56377388-9ea4-419f-d420-be297938c94f"
      },
      "source": [
        "plot(Ypred3,ylog3)"
      ],
      "execution_count": 362,
      "outputs": [
        {
          "output_type": "display_data",
          "data": {
            "image/png": "[encoded data removed]",
            "text/plain": [
              "<Figure size 432x288 with 1 Axes>"
            ]
          },
          "metadata": {
            "needs_background": "light"
          }
        }
      ]
    },
    {
      "cell_type": "code",
      "metadata": {
        "id": "j3-WCsnu26vp"
      },
      "source": [
        "#plot(Ypred4,ylog4)"
      ],
      "execution_count": 213,
      "outputs": []
    },
    {
      "cell_type": "code",
      "metadata": {
        "colab": {
          "base_uri": "https://localhost:8080/",
          "height": 283
        },
        "id": "p57uTZvbHLlp",
        "outputId": "0d75065f-428e-41be-df5d-963fc20a696d"
      },
      "source": [
        "# simulation\n",
        "Ypred = np.hstack([ Ypred0,Ypred1,Ypred2,Ypred3])\n",
        "ylog=np.vstack([ylog0,ylog1,ylog2,ylog3])\n",
        "\n",
        "plot(Ypred,ylog)"
      ],
      "execution_count": 363,
      "outputs": [
        {
          "output_type": "display_data",
          "data": {
            "image/png": "[encoded data removed]",
            "text/plain": [
              "<Figure size 432x288 with 1 Axes>"
            ]
          },
          "metadata": {
            "needs_background": "light"
          }
        }
      ]
    },
    {
      "cell_type": "code",
      "metadata": {
        "id": "w77iLDieK8YH"
      },
      "source": [
        ""
      ],
      "execution_count": 210,
      "outputs": []
    },
    {
      "cell_type": "code",
      "metadata": {
        "colab": {
          "base_uri": "https://localhost:8080/"
        },
        "id": "ZbLEvjUvLbN7",
        "outputId": "bc2ed273-f0e4-4ea4-f074-9f31f2098779"
      },
      "source": [
        "y_pred_BLR0=print_performance(Xtestn0,y_val,yscaller0,posterior0,0)\n",
        "y_pred_BLR1=print_performance(Xtestn1,y_val,yscaller1,posterior1,1)\n",
        "y_pred_BLR2=print_performance(Xtestn2,y_val,yscaller2,posterior2,2)\n",
        "y_pred_BLR3=print_performance(Xtestn3,y_val,yscaller3,posterior3,3)\n",
        "#y_pred_BLR4=print_performance(Xtestn4,y_val,yscaller4,posterior4,4)\n",
        "#print(y_pred_BLR0,\":\",np.array(y_val[clusters_test==0]).reshape(-1))\n",
        "# joint\n",
        "joint=np.hstack([abs(y_pred_BLR0 - y_val[clusters_test==0].reshape(-1)),\n",
        "                 abs(y_pred_BLR1 - y_val[clusters_test==1].reshape(-1)),\n",
        "                 abs(y_pred_BLR2 - y_val[clusters_test==2].reshape(-1)),\n",
        "                 abs(y_pred_BLR3 - y_val[clusters_test==3].reshape(-1))])\n",
        "joint_mape = np.mean(np.hstack([\n",
        "                        abs(y_pred_BLR0 - y_val[clusters_test==0].reshape(-1)) /y_val[clusters_test==0].reshape(-1),\n",
        "                        abs(y_pred_BLR1 - y_val[clusters_test==1].reshape(-1)) /y_val[clusters_test==1].reshape(-1),\n",
        "                        abs(y_pred_BLR2 - y_val[clusters_test==2].reshape(-1)) /y_val[clusters_test==2].reshape(-1),\n",
        "                        abs(y_pred_BLR3 - y_val[clusters_test==3].reshape(-1)) /y_val[clusters_test==3].reshape(-1)\n",
        "                        \n",
        "                       ]))\n",
        "\n",
        "# MAE band MAPE\n",
        "print(\"Overall MAE=\",np.mean(joint),\"Overall MAPE=\",joint_mape)"
      ],
      "execution_count": 365,
      "outputs": [
        {
          "output_type": "stream",
          "name": "stdout",
          "text": [
            "Size Cluster 0 : 89 , MAE Cluster 0 : 187277.67610376087\n",
            "MAPE Cluster 0 : 0.4427915843563315\n",
            "Size Cluster 1 : 71 , MAE Cluster 1 : 314148.9702263916\n",
            "MAPE Cluster 1 : 0.6902219260609793\n",
            "Size Cluster 2 : 77 , MAE Cluster 2 : 556070.21978893\n",
            "MAPE Cluster 2 : 0.7247359299728136\n",
            "Size Cluster 3 : 254 , MAE Cluster 3 : 303140.7893879753\n",
            "MAPE Cluster 3 : 0.6324088453056083\n",
            "Overall MAE= 203666.77263456912 Overall MAPE= 0.31534882714060347\n"
          ]
        }
      ]
    },
    {
      "cell_type": "code",
      "metadata": {
        "id": "gnNWXDYGuRd4"
      },
      "source": [
        ""
      ],
      "execution_count": 183,
      "outputs": []
    },
    {
      "cell_type": "markdown",
      "metadata": {
        "id": "EnHeugtHMzpv"
      },
      "source": [
        "PPC on the Test set"
      ]
    },
    {
      "cell_type": "code",
      "metadata": {
        "colab": {
          "base_uri": "https://localhost:8080/",
          "height": 283
        },
        "id": "FYafAsc2Lbgz",
        "outputId": "ce0cfa69-bb0b-488b-87c4-ecdf3d52ee82"
      },
      "source": [
        "num_samples2 = 500\n",
        "Ypred0 = ppc(posterior0['alpha'],posterior0['beta'],posterior0['sigma_n'],Xtestn0, nsamples=num_samples2)\n",
        "Ypred1 = ppc(posterior1['alpha'],posterior1['beta'],posterior1['sigma_n'],Xtestn1, nsamples=num_samples2)\n",
        "Ypred2 = ppc(posterior2['alpha'],posterior2['beta'],posterior2['sigma_n'],Xtestn2, nsamples=num_samples2)\n",
        "Ypred3 = ppc(posterior3['alpha'],posterior3['beta'],posterior3['sigma_n'],Xtestn3, nsamples=num_samples2)\n",
        "\n",
        "\n",
        "# Stack arrays in sequence horizontally (column wise)\n",
        "Ypred = np.hstack([yscaller0.inverse_transform(Ypred0),\n",
        "                 yscaller1.inverse_transform(Ypred1),\n",
        "                 yscaller2.inverse_transform(Ypred2),\n",
        "                 yscaller3.inverse_transform(Ypred3),\n",
        "                 ])\n",
        "\n",
        "# plot prediction shape\n",
        "for i in range(Ypred.shape[0]):\n",
        "    az.plot_dist( Ypred[i,:],color='r',plot_kwargs={\"linewidth\": 0.2})\n",
        "# label\n",
        "az.plot_dist(Ypred[i,:],color='r',plot_kwargs={\"linewidth\": 0.2}, label=\"prediction\")\n",
        "# true observations\n",
        "az.plot_dist(np.log(y_val),label='true observations');\n",
        "plt.legend()\n",
        "plt.xlabel(\"log(y) - output variable\")\n",
        "plt.ylabel(\"density plot\");"
      ],
      "execution_count": 368,
      "outputs": [
        {
          "output_type": "display_data",
          "data": {
            "image/png": "[encoded data removed]",
            "text/plain": [
              "<Figure size 432x288 with 1 Axes>"
            ]
          },
          "metadata": {
            "needs_background": "light"
          }
        }
      ]
    },
    {
      "cell_type": "code",
      "metadata": {
        "id": "643MHnTzHL6W"
      },
      "source": [
        ""
      ],
      "execution_count": null,
      "outputs": []
    },
    {
      "cell_type": "markdown",
      "metadata": {
        "id": "_kFgkUA85_pn"
      },
      "source": [
        "# BAYESIAN NN"
      ]
    },
    {
      "cell_type": "markdown",
      "metadata": {
        "id": "ELer5PV37ftX"
      },
      "source": [
        "A [Bayesian network](https://en.wikipedia.org/wiki/Bayesian_network) (also known as a Bayes network, Bayes net, belief network, or decision network) is a probabilistic graphical model that represents a set of variables and their conditional dependencies via a directed acyclic graph (DAG). \n",
        "\n",
        "* Bayesian networks are ideal for taking an event that occurred and predicting the likelihood that any one of several possible known causes was the contributing factor. \n",
        "* For example, a Bayesian network could represent the probabilistic relationships between diseases and symptoms. \n",
        "* Given symptoms, the network can be used to compute the probabilities of the presence of various diseases."
      ]
    },
    {
      "cell_type": "markdown",
      "metadata": {
        "id": "z0kauv1L5_po"
      },
      "source": [
        "Your comments, explanation, and references here."
      ]
    },
    {
      "cell_type": "code",
      "metadata": {
        "colab": {
          "base_uri": "https://localhost:8080/"
        },
        "id": "pVeWjvYH5m2W",
        "outputId": "a2caf6ff-547f-4397-bf52-72d837a3c8df"
      },
      "source": [
        "print(Xn_train.shape,':',yn_train.shape)"
      ],
      "execution_count": 253,
      "outputs": [
        {
          "output_type": "stream",
          "name": "stdout",
          "text": [
            "(341, 5) : (341, 1)\n"
          ]
        }
      ]
    },
    {
      "cell_type": "code",
      "metadata": {
        "id": "0smpwCET5_pp",
        "colab": {
          "base_uri": "https://localhost:8080/"
        },
        "outputId": "5ea4e450-a61c-4261-91d6-225de9b1cef7"
      },
      "source": [
        "# https://theano-pymc.readthedocs.io/en/latest/\n",
        "import theano\n",
        "\n",
        "# add a column of ones to include an intercept in the model\n",
        "x1 = np.hstack([np.ones((X_train.shape[0],1)), X_train])\n",
        "print(x1.shape)\n",
        "floatX = theano.config.floatX\n",
        "\n",
        "l = 15\n",
        "# Initialize random weights between each layer\n",
        "# we do that to help the numerical algorithm that computes the posterior\n",
        "init_1 = np.random.randn(x1.shape[1], l).astype(floatX)\n",
        "init_out = np.random.randn(l).astype(floatX)\n",
        "\n",
        "# pymc3 model as neural_network\n",
        "with pm.Model() as neural_network:\n",
        "    # we convert the data in theano type so we can do dot products with the correct type.\n",
        "    ann_input = pm.Data('ann_input', x1)\n",
        "    ann_output = pm.Data('ann_output', yn_train.T)\n",
        "    # Priors \n",
        "    # Weights from input to hidden layer\n",
        "    weights_in_1 = pm.Normal('w_1', 0, sigma=10,\n",
        "                             shape=(x1.shape[1], l), testval=init_1)\n",
        "    # Weights from hidden layer to output\n",
        "    weights_2_out = pm.Normal('w_0', 0, sigma=10,\n",
        "                              shape=(l,),testval=init_out)\n",
        "\n",
        "    # Build neural-network using tanh activation function\n",
        "    # Inner layer\n",
        "    act_1 = pm.math.tanh(pm.math.dot(ann_input,weights_in_1))\n",
        "    # Linear layer, like in Linear regression\n",
        "    act_out = pm.Deterministic('act_out',pm.math.dot(act_1, weights_2_out))\n",
        "\n",
        "    # standard deviation of noise\n",
        "    sigma = pm.HalfCauchy('sigma',5)\n",
        "\n",
        "    # Normal likelihood\n",
        "    out = pm.Normal('out',\n",
        "                       act_out,\n",
        "                       sigma=sigma,\n",
        "                       observed=ann_output)"
      ],
      "execution_count": 323,
      "outputs": [
        {
          "output_type": "stream",
          "name": "stdout",
          "text": [
            "(341, 5)\n"
          ]
        }
      ]
    },
    {
      "cell_type": "code",
      "metadata": {
        "colab": {
          "base_uri": "https://localhost:8080/",
          "height": 212
        },
        "id": "72iubm4R0Sko",
        "outputId": "e9703a74-17b5-4508-e58b-e39697ca851e"
      },
      "source": [
        "# this can be slow because there are many parameters\n",
        "\n",
        "# some parameters\n",
        "par1 = 500  # start with 100, then use 1000+\n",
        "par2 = 1500 # start with 1000, then use 10000+\n",
        "\n",
        "# neural network\n",
        "with neural_network:\n",
        "    posterior = pm.sample(par1,tune=par2,chains=1)"
      ],
      "execution_count": 1,
      "outputs": [
        {
          "output_type": "error",
          "ename": "NameError",
          "evalue": "ignored",
          "traceback": [
            "\u001b[0;31m---------------------------------------------------------------------------\u001b[0m",
            "\u001b[0;31mNameError\u001b[0m                                 Traceback (most recent call last)",
            "\u001b[0;32m<ipython-input-1-5e6d0b8e831e>\u001b[0m in \u001b[0;36m<module>\u001b[0;34m()\u001b[0m\n\u001b[1;32m      6\u001b[0m \u001b[0;34m\u001b[0m\u001b[0m\n\u001b[1;32m      7\u001b[0m \u001b[0;31m# neural network\u001b[0m\u001b[0;34m\u001b[0m\u001b[0;34m\u001b[0m\u001b[0;34m\u001b[0m\u001b[0m\n\u001b[0;32m----> 8\u001b[0;31m \u001b[0;32mwith\u001b[0m \u001b[0mneural_network\u001b[0m\u001b[0;34m:\u001b[0m\u001b[0;34m\u001b[0m\u001b[0;34m\u001b[0m\u001b[0m\n\u001b[0m\u001b[1;32m      9\u001b[0m     \u001b[0mposterior\u001b[0m \u001b[0;34m=\u001b[0m \u001b[0mpm\u001b[0m\u001b[0;34m.\u001b[0m\u001b[0msample\u001b[0m\u001b[0;34m(\u001b[0m\u001b[0mpar1\u001b[0m\u001b[0;34m,\u001b[0m\u001b[0mtune\u001b[0m\u001b[0;34m=\u001b[0m\u001b[0mpar2\u001b[0m\u001b[0;34m,\u001b[0m\u001b[0mchains\u001b[0m\u001b[0;34m=\u001b[0m\u001b[0;36m1\u001b[0m\u001b[0;34m)\u001b[0m\u001b[0;34m\u001b[0m\u001b[0;34m\u001b[0m\u001b[0m\n",
            "\u001b[0;31mNameError\u001b[0m: name 'neural_network' is not defined"
          ]
        }
      ]
    },
    {
      "cell_type": "code",
      "metadata": {
        "colab": {
          "base_uri": "https://localhost:8080/",
          "height": 53
        },
        "id": "_2uQ_DZd0Sw9",
        "outputId": "1a2cf697-4682-495d-9b98-478b74c06ad8"
      },
      "source": [
        "# we can do instead an approximated inference\n",
        "param3 = 1000 # start with 1000, then use 50000+\n",
        "VI = 'fullrank_advi'  # 'advi', 'fullrank_advi', 'svgd', 'asvgd', 'nfvi'\n",
        "OP = pm.adam # pm.adam, pm.sgd, pm.adagrad, pm.adagrad_window, pm.adadelta\n",
        "LR = 0.01   \n",
        "\n",
        "with neural_network:\n",
        "    approx = pm.fit(param3, method=VI, obj_optimizer=pm.adam(learning_rate=LR))"
      ],
      "execution_count": 325,
      "outputs": [
        {
          "output_type": "display_data",
          "data": {
            "text/html": [
              "\n",
              "    <div>\n",
              "        <style>\n",
              "            /* Turns off some styling */\n",
              "            progress {\n",
              "                /* gets rid of default border in Firefox and Opera. */\n",
              "                border: none;\n",
              "                /* Needs to be in here for Safari polyfill so background images work as expected. */\n",
              "                background-size: auto;\n",
              "            }\n",
              "            .progress-bar-interrupted, .progress-bar-interrupted::-webkit-progress-bar {\n",
              "                background: #F44336;\n",
              "            }\n",
              "        </style>\n",
              "      <progress value='1000' class='' max='1000' style='width:300px; height:20px; vertical-align: middle;'></progress>\n",
              "      100.00% [1000/1000 00:00<00:00 Average Loss = 1,275.7]\n",
              "    </div>\n",
              "    "
            ],
            "text/plain": [
              "<IPython.core.display.HTML object>"
            ]
          },
          "metadata": {}
        },
        {
          "output_type": "stream",
          "name": "stderr",
          "text": [
            "Finished [100%]: Average Loss = 1,274.3\n"
          ]
        }
      ]
    },
    {
      "cell_type": "code",
      "metadata": {
        "id": "wQmJAfel0S1O"
      },
      "source": [
        "# draw samples from variational posterior\n",
        "D = 600\n",
        "posterior = approx.sample(draws=D)"
      ],
      "execution_count": 329,
      "outputs": []
    },
    {
      "cell_type": "code",
      "metadata": {
        "id": "sxlTPF85EgyL"
      },
      "source": [
        "# add a column of ones to include an intercept in the model\n",
        "x2 = np.hstack([np.ones((X_train.shape[0],1)), X_train])\n",
        "\n",
        "y_pred = []\n",
        "for i in range(posterior['w_1'].shape[0]):\n",
        "    #inner layer\n",
        "    t1 = np.tanh(np.dot(posterior['w_1'][i,:,:].T,x2.T))\n",
        "    #outer layer\n",
        "    y_pred.append(np.dot(posterior['w_0'][i,:],t1))\n",
        "\n",
        "# predictions   \n",
        "y_pred = np.array(y_pred)\n",
        "y_pred = np.array(y_pred).mean(axis=0)\n",
        "y_pred_ = np.exp(yscaler.inverse_transform(y_pred))"
      ],
      "execution_count": 330,
      "outputs": []
    },
    {
      "cell_type": "code",
      "metadata": {
        "colab": {
          "base_uri": "https://localhost:8080/"
        },
        "id": "ZJw-InsfEqJ_",
        "outputId": "b423a441-49a4-4517-f97f-393ea4189761"
      },
      "source": [
        "print(y_pred_.shape,':',y_train.shape)\n",
        "print(\"MAE = \",(np.mean(abs(y_pred_ - y_train))))\n",
        "print(\"MAPE = \",(np.mean(abs(y_pred_ - y_train) / y_train)))"
      ],
      "execution_count": 331,
      "outputs": [
        {
          "output_type": "stream",
          "name": "stdout",
          "text": [
            "(341,) : (341, 1)\n",
            "MAE =  194255.1426005505\n",
            "MAPE =  0.34776706238764665\n"
          ]
        }
      ]
    },
    {
      "cell_type": "code",
      "metadata": {
        "id": "OuY5eJo00S46"
      },
      "source": [
        "# add a column of ones to include an intercept in the model\n",
        "x2 = np.hstack([np.ones((X_val.shape[0],1)), X_val])\n",
        "\n",
        "y_pred = []\n",
        "for i in range(posterior['w_1'].shape[0]):\n",
        "    #inner layer\n",
        "    t1 = np.tanh(np.dot(posterior['w_1'][i,:,:].T,x2.T))\n",
        "    #outer layer\n",
        "    y_pred.append(np.dot(posterior['w_0'][i,:],t1))\n",
        "\n",
        "# predictions   \n",
        "y_pred = np.array(y_pred)\n",
        "y_pred = np.array(y_pred).mean(axis=0)\n",
        "y_pred_ = np.exp(yscaler_val.inverse_transform(y_pred))"
      ],
      "execution_count": 332,
      "outputs": []
    },
    {
      "cell_type": "code",
      "metadata": {
        "colab": {
          "base_uri": "https://localhost:8080/"
        },
        "id": "p3zDqT1Q0S7o",
        "outputId": "c3b10c63-9197-4281-fb39-85eca9dba458"
      },
      "source": [
        "\n",
        "print(y_pred_.shape,':',y_val.shape)\n",
        "print(\"MAE = \",(np.mean(abs(y_pred_ - y_val))))\n",
        "print(\"MAPE = \",(np.mean(abs(y_pred_ - y_val) / y_val)))"
      ],
      "execution_count": 333,
      "outputs": [
        {
          "output_type": "stream",
          "name": "stdout",
          "text": [
            "(147,) : (147, 1)\n",
            "MAE =  205049.89688192986\n",
            "MAPE =  0.35805216782604365\n"
          ]
        }
      ]
    },
    {
      "cell_type": "code",
      "metadata": {
        "colab": {
          "base_uri": "https://localhost:8080/"
        },
        "id": "PG6ZmyYG0S-l",
        "outputId": "819210df-56b5-4f15-b52d-3d40fdd07f0b"
      },
      "source": [
        "# add a column of ones to include an intercept in the model\n",
        "test_set = np.hstack([np.ones((Xs_test.shape[0],1)), Xs_test])\n",
        "\n",
        "y_pred_test = []\n",
        "for i in range(posterior['w_1'].shape[0]):\n",
        "    #inner layer\n",
        "    t1 = np.tanh(np.dot(posterior['w_1'][i,:,:].T,test_set.T))\n",
        "    #outer layer\n",
        "    y_pred_test.append(np.dot(posterior['w_0'][i,:],t1))\n",
        "\n",
        "# predictions   \n",
        "y_pred_test = np.array(y_pred_test)\n",
        "y_pred_test = np.array(y_pred_test).mean(axis=0)\n",
        "y_pred_test_ = np.exp(yscaler.inverse_transform(y_pred_test))\n",
        "print(y_pred_test_)"
      ],
      "execution_count": 275,
      "outputs": [
        {
          "output_type": "stream",
          "name": "stdout",
          "text": [
            "[331533.49096341 328169.95971733 332997.44054685 329347.4569247\n",
            " 330096.3449421  332983.91939543 332988.79763294 331533.48288624\n",
            " 328777.22511995 328208.60517925 331580.33930897 329931.98389385\n",
            " 331447.15705854 329990.75359125 330085.16607743 332982.71361169\n",
            " 329986.77032927 331442.38853425 331542.87961121 330098.30283009\n",
            " 328603.07478811 331461.93077233 335892.57796613 328849.24995962\n",
            " 328697.00023792 335914.80685443 327889.88862991 332983.89094023\n",
            " 331538.4199058  335909.3708068  328531.43110844 329376.52990626\n",
            " 329735.19615174 328859.98401667 335932.51427679 328846.37633022\n",
            " 331540.05357718 332992.34179213 336015.27298394 331652.19310039\n",
            " 330317.97221582 330308.76499035 332982.40049557 331639.57497451\n",
            " 328522.5113306  332981.94972943 331698.48293932 330053.94009175\n",
            " 330318.7203471  328122.429297   329718.78080375 332993.69052233\n",
            " 332990.63272118 329610.7464489  328852.05622253 332984.30273491\n",
            " 331666.67719959 331647.18973084 328818.72171905 331447.59897842\n",
            " 329391.61682248 329297.76348863 331534.81712322 329632.21285106\n",
            " 330315.46884138 329995.20648596 331616.00201392 328172.71461833\n",
            " 330007.78436341 327555.98977441 331557.53331633 335887.62944875\n",
            " 335898.23223869 330047.38133185 330365.07750047 328127.19903787\n",
            " 330323.93039368 329325.41603742 330054.66225111 327560.20589128\n",
            " 332983.41675992 330307.46747394 328811.54477932 330348.20833756\n",
            " 331542.06375748 330312.04715227 331551.51246562 331544.98825215\n",
            " 329651.3902664  331525.63142167 335893.34779651 330841.10950856\n",
            " 331483.80441337 330308.3507438  327546.10000696 331443.22379294\n",
            " 330313.59126687 329381.78205952 329679.7150808  327527.46016003\n",
            " 330874.27246732 329438.04295397 330064.02026384 330305.89133952\n",
            " 331646.24809869 331477.34749686 332980.87900471 329367.90093803\n",
            " 330102.69210798 328351.69357052 331499.61455277 335901.63601808\n",
            " 330008.29293644 331447.1648723  330313.5226547  329725.80259377\n",
            " 330329.89607327 335909.01855869 332982.65721757 328586.85265767\n",
            " 330315.47418208 332982.61713634 330315.19981925 331576.39711157\n",
            " 331443.47057089 333010.73403714 335933.08537749 328261.52901587\n",
            " 330305.44910217 332978.83717825 333002.03413913 331448.30605902\n",
            " 329325.09679521 332983.20659607 332993.87871743 335976.49385126\n",
            " 328115.31895582 330319.8095526  331530.06930463 330045.77164763\n",
            " 331459.5933771  329978.17156264 328207.33311802 335897.56143095\n",
            " 329764.67879527 327538.00500755 331505.53836637 330116.54611354\n",
            " 328859.84307933 328234.35910895 330315.58114804 331438.10372957\n",
            " 328861.36061664 330317.48885535 330039.1927554  328415.51683594\n",
            " 332979.4583704  333012.79939274 331696.09214164 327546.19851957\n",
            " 330308.11749559 335892.53143388 328168.29585615 330361.489781\n",
            " 328957.26081355 331846.78428799 330305.36681937 335902.31744302\n",
            " 331493.92142827 328448.81346108 330359.97168476 332983.09118667\n",
            " 328057.53109185 335892.23609007 332981.84445923 333026.78197009\n",
            " 332981.85403943 329725.23283941 329929.85244629 330025.04718993\n",
            " 330320.23175584 329653.67810478 331445.31092855 328816.06044833\n",
            " 335892.90699333 329710.92383632 329556.33705003 335900.84132704\n",
            " 328520.67682124 330303.3706997  330061.33859693 330309.34115042\n",
            " 332990.70815041 330024.50991904 329307.02072188 327559.84602083\n",
            " 331487.85836442 328778.92978781 332983.20233211 330305.90850234\n",
            " 330303.91118796 328209.52346173 330312.09622968 330305.58899973\n",
            " 328817.87522671 328814.55243551 327505.65381267 329749.49387803\n",
            " 330092.78164553 332986.28384451 331443.54975176 335912.06571044\n",
            " 328235.5864843  330021.87889459 330306.94517488 328798.63112177\n",
            " 330330.27162024 330367.03506728 330298.88547154 329619.36722338\n",
            " 328967.46320565 328246.7070225  331693.42987069 328873.84689542\n",
            " 332979.99691584 331483.72985047 330090.26577547 331480.1877535\n",
            " 329735.46701019 332984.77575619 328810.81820594 335891.0013535\n",
            " 330304.03367981 330060.05567278 331500.52810666 332986.68172808\n",
            " 332987.5874441  330115.27340343 329632.35734464 328520.7373786\n",
            " 330125.5992104  330078.86359188 329998.36466113 330084.87208374\n",
            " 330103.29456178 328530.24394611 328918.12262021 332999.89369458\n",
            " 333020.2552495  335891.57905899 331665.34309608 329167.66430541\n",
            " 332982.56649786 329948.30254137 332982.0173282  332997.82483806\n",
            " 329273.79701342 332983.28695441 329680.34471836 328812.16535349\n",
            " 328137.18602383 331663.70968933 330309.19492334 328083.55195122\n",
            " 332982.97809246 331437.17931302 328127.42266993 331535.65695422\n",
            " 331686.51215637 332976.29149738 328795.38473729 331557.58837717\n",
            " 330315.85127198 330105.7218283  329779.89185448 335899.43751744\n",
            " 331513.07379606 330097.70542003 330329.52356856 330064.98094562\n",
            " 332982.7927916  329581.52675791 329953.88462418 335896.61702527\n",
            " 329022.38822085 330309.99342135 329332.98979059 328835.55805813\n",
            " 330317.36492034 331555.39449016 329913.1731853  333821.40730767\n",
            " 332984.04639277 329682.19647177 331879.42837172 328133.10330604\n",
            " 328838.841601   328528.5756859  328884.05962368 329931.63829523\n",
            " 331711.4826229  328081.5738769  328836.28950526 330309.97424541\n",
            " 331443.25302232 328856.34725788 330316.07308161 332983.75571962\n",
            " 330071.37894732 329933.58733774 331686.85660935 331674.52122362\n",
            " 332989.81410253 330328.16495852 332995.85493214 328980.65008157\n",
            " 331489.74597302 332982.80736042 329727.08094176 330312.74573615\n",
            " 328131.42189027 329705.20924875 331481.03763691 328171.2235141\n",
            " 335895.07528139 331544.78503347 328260.98226993 330306.91658726\n",
            " 328184.99671041 328900.37019629 331556.47558985 331475.60888794\n",
            " 330316.0956395  329241.15324857 329731.88100909 329688.66227314\n",
            " 329754.4715283  329374.98933238 330074.40394897 330314.97785891\n",
            " 328623.74881101 328973.58714756 329576.51271583 328861.71136909\n",
            " 332990.82060806 330058.21471148 335900.83153132 332997.85527077\n",
            " 329744.10691913 328878.14227181 335994.60592622 332987.15182432\n",
            " 329296.94054512 330083.85856126 330306.77466685 328912.39821949\n",
            " 333011.04541897 330094.18471496 335950.87841223 329962.51463668\n",
            " 332982.48334099 330099.85480542 328820.2359137  328173.73525407\n",
            " 329602.38817232 329614.88199742 330075.42723693 331725.9266269\n",
            " 332983.00355646 331496.84438671 330291.30058504 330753.79449759\n",
            " 330360.4735857  329711.30922534 328114.59633191 335892.92627591\n",
            " 331724.00119249 330304.71594633 332982.00813752 327464.89831541\n",
            " 332980.64260714 330310.81314359 330101.03981091 332975.95768282\n",
            " 330101.25905975 328203.40483711 330303.90446717 330011.01036632\n",
            " 332989.97833176 332997.50480291 331446.50428068 330104.48175426\n",
            " 327340.47198858 329602.7887084  328226.52792748 331475.42095848\n",
            " 332991.25041139 332987.95132285 330309.56051962 332982.36803245\n",
            " 328499.29227045 329949.39427548 332981.94895241 335905.44504358\n",
            " 328124.81201781 329756.62033364 328843.54382313 330315.22481548\n",
            " 329254.06713321 328858.22303141 331446.924966   330307.59320264\n",
            " 329754.42220538 329664.72623446 330315.72586619 329458.67105378\n",
            " 330315.2352984  332981.03824563 328195.71870543 330303.87823036\n",
            " 328536.20574758 330329.78840589 330096.78400576 328855.20397028\n",
            " 328122.39253568 331525.98687799 330301.60395971 331547.85540218\n",
            " 331572.08570525 330304.93330882 329999.80366974 328867.66523263\n",
            " 328226.02226219 330305.30202036 328888.26374133 328781.51072991\n",
            " 328994.8316418  333008.65179096 331466.79474012 328815.97602006\n",
            " 329654.35430599 328267.84940128 328241.27501239 329391.75083799\n",
            " 328330.54175033 331684.64977167 329623.42515469 330313.40272105\n",
            " 328949.95191553 330310.32676556 330310.94768979 329948.07286897\n",
            " 327540.41211482 330085.94716403 332983.88782845 331483.16480647\n",
            " 330314.20414509 331504.43924158 330309.39381759 328170.08783158\n",
            " 330054.07445166 328824.24373353 331558.45175436 329635.70513027\n",
            " 328467.47267815 332982.35244904 328020.67197849 329616.62053354\n",
            " 331639.84784718 335895.73717799 335913.64828924 333004.26509539\n",
            " 330306.51627045 328144.25210402 330313.63450389 332982.44655228\n",
            " 335892.4568653  335896.49076709 335973.79292496 330019.92266771\n",
            " 328795.48360014 329716.38077478 336015.88283527 329569.52479338\n",
            " 329519.46694549 331576.84579967 328160.09908318 328122.24619707\n",
            " 329610.67361168 328900.25487632 331503.68951368 328138.88122431\n",
            " 331528.94777777 331446.60496276 328921.53126992 331477.20929285\n",
            " 329681.12916709 331443.68228474 328386.17133985 331653.45918416\n",
            " 330310.18688809 329021.64665785 331549.03628031 328792.14098048\n",
            " 328187.82456799 332985.30470443 330028.56434636 328860.94900916\n",
            " 336137.79601095 330334.36129454 329388.25563329 330301.62675047\n",
            " 331605.23725803 327868.20639704 329396.34013173 329440.84710798\n",
            " 330106.09345268 333040.04302395 327520.91284348 331521.43708109\n",
            " 329555.79798412 331575.63963054 329560.73183789 330084.28982621\n",
            " 332983.09213164 329417.50037421 329140.31282533 329555.35954278\n",
            " 330105.16201041 330318.61273855 330047.37552283 332978.9651208\n",
            " 335904.92421689 329637.20001924 329635.40000696 331531.94428466\n",
            " 330039.70184582 331576.09728719 333009.80078949 330312.51581793\n",
            " 328126.00569502 332982.48485238 335906.72021323 328130.51264431\n",
            " 328786.23695881 331646.10153639 331444.15878784 328817.91126138\n",
            " 330316.27495029 328153.52367973 335917.69550237 335894.84954076\n",
            " 328176.74068075 330099.64189187 330082.44896475 330304.078587\n",
            " 330310.98001231 328126.66902256 332994.31403651 330639.93831697\n",
            " 333021.79689031 330311.27887303 330318.07596258 330299.0583525\n",
            " 328877.46421997 329359.72957172 332984.48874138 330315.9885447\n",
            " 330311.15575214 330095.11454342 329088.43515789 327568.27874781\n",
            " 330063.96174784 330016.37096741 335892.77346977 328215.24792126\n",
            " 328831.20824969 331438.93285804 332981.87840661 331557.09038595\n",
            " 330084.06814369 329328.53432655 328890.64521791 328811.79622154\n",
            " 329936.69739042 331469.51636291 329916.1955505  330111.97826029\n",
            " 330079.06481668 328265.07533685 330316.32449221 326616.78039972\n",
            " 330312.39251394 328218.90740564 329591.94708637 328948.15514553\n",
            " 331447.71922871 330055.8306452  331446.4440697  332988.90880264\n",
            " 329283.06970575 331513.60279185 328155.08410561 329373.8115983\n",
            " 330020.93888115 329676.90718501 330305.8267702  335908.00406675\n",
            " 330027.53290685 329442.67963121 328110.79190479 330303.95329981\n",
            " 327458.97741495 331499.83513126 328895.53168918 329449.03302763\n",
            " 329199.44493087 328559.90065773 329363.38087042 331446.92164997\n",
            " 328132.59972057 327556.72125573 335916.02281419 335888.95176434\n",
            " 333003.76414178 329310.52166631 330300.69586362 330027.84032004\n",
            " 332985.19105697 328816.20643412 331465.06289827 328368.0340531\n",
            " 335894.43464175 330305.42062785 330324.9106132  330100.76412463\n",
            " 335896.22365917 332983.57592826 331607.34790951 332982.25856483\n",
            " 330299.88054822 332999.10556606 329310.40831992 328448.57783197\n",
            " 328829.31022308 331554.75164919 331446.46627631 330313.5226547\n",
            " 330086.21847349 331510.96249477 330314.10219035 331438.31502649\n",
            " 330305.4074246  332978.85094429 328120.88352581 330318.08893352\n",
            " 330910.72308727 329402.30172857 330307.32376896 331535.37048851\n",
            " 328895.94947813 329627.77665368 328808.40368269 330318.80397897\n",
            " 327589.33580959 328519.33493502 327785.60475833 330310.44365403\n",
            " 328323.1030761  328042.48501102 331449.3307008  331495.21669818\n",
            " 330067.55430235 332986.50344598 328140.89853958 330066.47633739\n",
            " 331447.43904703 328060.92081321 333029.81318111 332984.55321841\n",
            " 330107.27234935 328870.54380834 328871.48981393 332982.31582889\n",
            " 329658.95455508 327481.72974626 330307.87744624 328361.06594383\n",
            " 331511.85755551 332983.14130075 327515.93013338 328362.20046888\n",
            " 328800.35014381 329977.55754367 330302.89387404 328191.97614745\n",
            " 330312.49401167 335891.57007588 332983.12156935 330299.61580055\n",
            " 330009.54991444 330307.78793402]\n"
          ]
        }
      ]
    },
    {
      "cell_type": "markdown",
      "metadata": {
        "id": "f0GYCpwEM09T"
      },
      "source": [
        "# SUMMARY"
      ]
    },
    {
      "cell_type": "markdown",
      "metadata": {
        "id": "rBDzsZSJ7HZp"
      },
      "source": [
        "Your summary here."
      ]
    }
  ]
}