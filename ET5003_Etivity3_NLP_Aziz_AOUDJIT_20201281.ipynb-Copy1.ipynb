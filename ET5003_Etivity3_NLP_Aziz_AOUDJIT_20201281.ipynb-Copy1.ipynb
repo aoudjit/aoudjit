{
 "cells": [
  {
   "cell_type": "code",
   "execution_count": 19,
   "metadata": {},
   "outputs": [],
   "source": [
    "from nltk.corpus import stopwords\n",
    "import pandas as pd\n",
    "import numpy as np\n",
    "from nltk import sent_tokenize,word_tokenize\n",
    "from string import punctuation\n",
    "from nltk.stem import PorterStemmer\n",
    "from sklearn.feature_extraction.text import CountVectorizer, TfidfVectorizer\n",
    "from sklearn import svm\n",
    "from sklearn.svm import SVC, LinearSVC, LinearSVR\n",
    "import re\n",
    "from nltk.stem import WordNetLemmatizer\n",
    "import nltk\n",
    "import math\n",
    "from sklearn.metrics import classification_report\n",
    "from sklearn.metrics import f1_score\n",
    "from sklearn.metrics import accuracy_score \n",
    "from sklearn.metrics import confusion_matrix\n",
    "from nltk.corpus import wordnet\n",
    "from sklearn.naive_bayes import MultinomialNB\n",
    "from sklearn.linear_model import LinearRegression\n",
    "from sklearn.gaussian_process import GaussianProcessRegressor\n",
    "from sklearn.gaussian_process.kernels import DotProduct, WhiteKernel\n",
    "import matplotlib.pyplot as plt\n",
    "from sklearn.tree import DecisionTreeRegressor\n",
    "from sklearn.ensemble import AdaBoostRegressor\n",
    "from sklearn.metrics import r2_score"
   ]
  },
  {
   "cell_type": "code",
   "execution_count": null,
   "metadata": {},
   "outputs": [],
   "source": []
  },
  {
   "cell_type": "code",
   "execution_count": 2,
   "metadata": {},
   "outputs": [],
   "source": [
    "\n",
    "\n",
    "def distance(coord1, coord2):\n",
    "    R = 6372800  # Earth radius in meters\n",
    "    lat1, lon1 = coord1\n",
    "    lat2, lon2 = coord2\n",
    "    \n",
    "    phi1, phi2 = math.radians(lat1), math.radians(lat2) \n",
    "    dphi       = math.radians(lat2 - lat1)\n",
    "    dlambda    = math.radians(lon2 - lon1)\n",
    "    \n",
    "    a = math.sin(dphi/2)**2 + \\\n",
    "        math.cos(phi1)*math.cos(phi2)*math.sin(dlambda/2)**2\n",
    "    \n",
    "    return 2*R*math.atan2(math.sqrt(a), math.sqrt(1 - a))/1000"
   ]
  },
  {
   "cell_type": "code",
   "execution_count": 3,
   "metadata": {},
   "outputs": [],
   "source": [
    "#@markdown ---\n",
    "#@markdown ### Enter your details here:\n",
    "Student_ID = \"20201281\" #@param {type:\"string\"}\n",
    "Student_full_name = \"Aziz AOUDJIT\" #@param {type:\"string\"}\n",
    "#@markdown ---"
   ]
  },
  {
   "cell_type": "code",
   "execution_count": 4,
   "metadata": {},
   "outputs": [],
   "source": [
    "def similarity(listWords):\n",
    "    result=[]\n",
    "    for word1 in listWords.values:\n",
    "        for word2 in listWords.values:\n",
    "            print(word1)\n",
    "            wordFromList1 = wordnet.synsets(word1)\n",
    "            wordFromList2 = wordnet.synsets(word2)\n",
    "            if wordFromList1 and wordFromList2: \n",
    "                s = wordFromList1[0].wup_similarity(wordFromList2[0])\n",
    "                if s>0.70 and s!=1.0:\n",
    "                    print(s)\n",
    "                    listWords.remove(word2)\n",
    "    return listWords"
   ]
  },
  {
   "cell_type": "code",
   "execution_count": 5,
   "metadata": {},
   "outputs": [],
   "source": [
    "def distanceEncoder(distance):\n",
    "    try:\n",
    "        if distance<5 : \n",
    "            return \"urban\"\n",
    "        if distance<10 :\n",
    "            return \"outurban\"\n",
    "        if distance<20 : \n",
    "            return \"extraouturban\"\n",
    "        if distance>=20 :\n",
    "            return \"farest\"\n",
    "    except:\n",
    "        return "
   ]
  },
  {
   "cell_type": "code",
   "execution_count": 6,
   "metadata": {},
   "outputs": [],
   "source": [
    "class NlpPipeline():\n",
    "    def __init__(self, data, excluded_words):\n",
    "        self.data = data \n",
    "        self.excluded_words= excluded_words\n",
    "        \n",
    "    def tokenize(self,raw):\n",
    "        tokens = []\n",
    "        for sent in sent_tokenize(raw):\n",
    "            sent=sent.lower()\n",
    "            sent=sent.replace('-','')\n",
    "            sub_tokens=word_tokenize(sent)\n",
    "            for w in sub_tokens:\n",
    "                tokens.append(''.join(w))\n",
    "        #print(tokens)\n",
    "        stopwords_en = set(stopwords.words('english'))\n",
    "        #words = [word for word in tokens]\n",
    "        words=[word for word in tokens if word not in stopwords_en ]\n",
    "        words=[word for word in words if not re.search(\"^\\(|\\)$\", word)   ]\n",
    "        words=[word for word in words if  not re.search(\"[0-9].[0-9]+[m]|[0-9]+[m]\", word)]\n",
    "        words=[word for word in words if  not re.search(\"^[0-9]+[a-z]*\", word)]\n",
    "        words=[word for word in words if  len(word)>=4]\n",
    "        #print(words)\n",
    "        \n",
    "        stopwords_en_with_punct=stopwords_en.union(set(punctuation))\n",
    "        words=[word for word in words if word not in stopwords_en_with_punct ]\n",
    "        words=[word for word in words if word not in self.excluded_words ]\n",
    "        \n",
    "        return words\n",
    "    \n",
    "    def stem(self,tokens):\n",
    "        stopwords_en = set(stopwords.words('english'))\n",
    "        stemmer=PorterStemmer()\n",
    "        stemmize_words=[]\n",
    "        for word in tokens:\n",
    "            stem = stemmer.stem(word)\n",
    "            if stem not in stopwords_en and  stem not in self.excluded_words and len(stem)>=4:\n",
    "                stemmize_words.append(stem)\n",
    "        return stemmize_words\n",
    "        \n",
    "    def lemmatize(self,tokens):\n",
    "        lemmatize_words=[]\n",
    "        lemmatizer=WordNetLemmatizer()\n",
    "        for word in tokens:\n",
    "            lemmatize_words.append(lemmatizer.lemmatize(word))\n",
    "        return lemmatize_words\n",
    "    \n",
    "    def PosTag(self,tokens):\n",
    "        tagged_words=nltk.pos_tag(tokens)\n",
    "        return tagged_words\n",
    "\n",
    "        \n",
    "    def ner(self,tagged_words):\n",
    "        chunk_words=nltk.ne_chunk(tagged_words, binary=True)\n",
    "        entity_names=[]\n",
    "        for tree in chunk_words.subtrees():\n",
    "            #print(tree)\n",
    "            entity_names.extend(self.extract_entity(tree))\n",
    "        #print(entity_names)\n",
    "        return entity_names\n",
    "    \n",
    "    def extract_entity(self,t):\n",
    "        entity_names=[]\n",
    "        if hasattr(t,'label') and t.label():\n",
    "            if t.label()=='S':\n",
    "            \n",
    "               for child in t:\n",
    "                   # if child[1]=='JJS' or child[1]=='JJR' or child[1]=='JJ' or child[1]=='NN':\n",
    "                        entity_names.append(''.join(child[0]))\n",
    "                   # else:\n",
    "                      #  for child in t:\n",
    "                          #  entity_names.extend(self.extract_entity(child))\n",
    "            else:\n",
    "                for child in t:\n",
    "                    entity_names.extend(extract_entity(child))\n",
    "        return entity_names\n",
    "    \n",
    "    def build(self):\n",
    "        models = []\n",
    "        data=self.data.values.reshape(-1,1)\n",
    "        #print(self.data.shape)\n",
    "        for i in range(data.shape[0]):\n",
    "            sent=data[i]\n",
    "            tokens=self.tokenize(sent[0])\n",
    "            \n",
    "            tokens=self.stem(tokens)\n",
    "            \n",
    "            tokens=self.lemmatize(tokens)\n",
    "           # tokens= ' '.join(dict.fromkeys(str(tokens).split()))\n",
    "\n",
    "            tagged_words=self.PosTag(tokens)\n",
    "            #print(tagged_words)\n",
    "            entities = self.ner(tagged_words)\n",
    "            model = ''\n",
    "            for token in entities:\n",
    "                model = model + ' ' + token\n",
    "            \n",
    "            models.append(model)\n",
    "            \n",
    "        return models\n",
    "    "
   ]
  },
  {
   "cell_type": "code",
   "execution_count": null,
   "metadata": {},
   "outputs": [],
   "source": []
  },
  {
   "cell_type": "code",
   "execution_count": 41,
   "metadata": {},
   "outputs": [],
   "source": [
    "# training dataset: \n",
    "training_file = 'HousePrice_Train.csv'\n",
    "dftrain=pd.read_csv(training_file)\n",
    "# test dataset: \n",
    "testing_file = 'HousePrice_Test.csv'\n",
    "dftest=pd.read_csv(testing_file)\n"
   ]
  },
  {
   "cell_type": "code",
   "execution_count": 77,
   "metadata": {},
   "outputs": [
    {
     "name": "stdout",
     "output_type": "stream",
     "text": [
      "Index(['Index', 'ID', 'Location', 'Num_Bathrooms', 'Num_Beds', 'BER_class',\n",
      "       'Description', 'Services', 'Features', 'Latitude', 'Longitude', 'Type',\n",
      "       'Surface', 'Price'],\n",
      "      dtype='object')\n"
     ]
    },
    {
     "data": {
      "text/html": [
       "<div>\n",
       "<style scoped>\n",
       "    .dataframe tbody tr th:only-of-type {\n",
       "        vertical-align: middle;\n",
       "    }\n",
       "\n",
       "    .dataframe tbody tr th {\n",
       "        vertical-align: top;\n",
       "    }\n",
       "\n",
       "    .dataframe thead th {\n",
       "        text-align: right;\n",
       "    }\n",
       "</style>\n",
       "<table border=\"1\" class=\"dataframe\">\n",
       "  <thead>\n",
       "    <tr style=\"text-align: right;\">\n",
       "      <th></th>\n",
       "      <th>Index</th>\n",
       "      <th>ID</th>\n",
       "      <th>Location</th>\n",
       "      <th>Num_Bathrooms</th>\n",
       "      <th>Num_Beds</th>\n",
       "      <th>BER_class</th>\n",
       "      <th>Description</th>\n",
       "      <th>Services</th>\n",
       "      <th>Features</th>\n",
       "      <th>Latitude</th>\n",
       "      <th>Longitude</th>\n",
       "      <th>Type</th>\n",
       "      <th>Surface</th>\n",
       "      <th>Price</th>\n",
       "    </tr>\n",
       "  </thead>\n",
       "  <tbody>\n",
       "    <tr>\n",
       "      <th>0</th>\n",
       "      <td>1</td>\n",
       "      <td>12409116</td>\n",
       "      <td>Ongar</td>\n",
       "      <td>2</td>\n",
       "      <td>2</td>\n",
       "      <td>C3</td>\n",
       "      <td>DNG are delighted to present to the market no....</td>\n",
       "      <td>NaN</td>\n",
       "      <td>None</td>\n",
       "      <td>53.396659</td>\n",
       "      <td>-6.438791</td>\n",
       "      <td>apartment</td>\n",
       "      <td>67.00</td>\n",
       "      <td>195000</td>\n",
       "    </tr>\n",
       "    <tr>\n",
       "      <th>1</th>\n",
       "      <td>2</td>\n",
       "      <td>12320330</td>\n",
       "      <td>North Strand</td>\n",
       "      <td>1</td>\n",
       "      <td>2</td>\n",
       "      <td>D1</td>\n",
       "      <td>13 Northbrook Terrace is a charming red brick ...</td>\n",
       "      <td>NaN</td>\n",
       "      <td>Bight and Spacious interior\\nNumerous original...</td>\n",
       "      <td>53.357129</td>\n",
       "      <td>-6.239779</td>\n",
       "      <td>terraced</td>\n",
       "      <td>95.97</td>\n",
       "      <td>425000</td>\n",
       "    </tr>\n",
       "    <tr>\n",
       "      <th>2</th>\n",
       "      <td>3</td>\n",
       "      <td>12405953</td>\n",
       "      <td>Stepaside</td>\n",
       "      <td>3</td>\n",
       "      <td>3</td>\n",
       "      <td>A3</td>\n",
       "      <td>Welcome to No. 6 Cotter Close, an immaculately...</td>\n",
       "      <td>NaN</td>\n",
       "      <td>Special Features\\nLarge rear garden\\nGenerous ...</td>\n",
       "      <td>53.266468</td>\n",
       "      <td>-6.222771</td>\n",
       "      <td>semi-detached</td>\n",
       "      <td>107.00</td>\n",
       "      <td>535000</td>\n",
       "    </tr>\n",
       "    <tr>\n",
       "      <th>3</th>\n",
       "      <td>4</td>\n",
       "      <td>12202582</td>\n",
       "      <td>Cabinteely</td>\n",
       "      <td>1</td>\n",
       "      <td>3</td>\n",
       "      <td>E1</td>\n",
       "      <td>Welcome to 3 Sycamore Walk!\\n\\r\\nEnjoying a pr...</td>\n",
       "      <td>NaN</td>\n",
       "      <td>Wonderful 3 bed detached bungalow.     \\nAccom...</td>\n",
       "      <td>53.261600</td>\n",
       "      <td>-6.166738</td>\n",
       "      <td>detached</td>\n",
       "      <td>81.00</td>\n",
       "      <td>499000</td>\n",
       "    </tr>\n",
       "    <tr>\n",
       "      <th>4</th>\n",
       "      <td>5</td>\n",
       "      <td>12299336</td>\n",
       "      <td>Lusk</td>\n",
       "      <td>3</td>\n",
       "      <td>4</td>\n",
       "      <td>D1</td>\n",
       "      <td>'Four Seasons' comes to the market as a wonder...</td>\n",
       "      <td>NaN</td>\n",
       "      <td>Detached Property      \\nDouble Glazed Windows...</td>\n",
       "      <td>53.550731</td>\n",
       "      <td>-6.121415</td>\n",
       "      <td>detached</td>\n",
       "      <td>153.00</td>\n",
       "      <td>510000</td>\n",
       "    </tr>\n",
       "  </tbody>\n",
       "</table>\n",
       "</div>"
      ],
      "text/plain": [
       "   Index        ID      Location  Num_Bathrooms  Num_Beds BER_class  \\\n",
       "0      1  12409116         Ongar              2         2        C3   \n",
       "1      2  12320330  North Strand              1         2        D1   \n",
       "2      3  12405953     Stepaside              3         3        A3   \n",
       "3      4  12202582    Cabinteely              1         3        E1   \n",
       "4      5  12299336          Lusk              3         4        D1   \n",
       "\n",
       "                                         Description Services  \\\n",
       "0  DNG are delighted to present to the market no....      NaN   \n",
       "1  13 Northbrook Terrace is a charming red brick ...      NaN   \n",
       "2  Welcome to No. 6 Cotter Close, an immaculately...      NaN   \n",
       "3  Welcome to 3 Sycamore Walk!\\n\\r\\nEnjoying a pr...      NaN   \n",
       "4  'Four Seasons' comes to the market as a wonder...      NaN   \n",
       "\n",
       "                                            Features   Latitude  Longitude  \\\n",
       "0                                               None  53.396659  -6.438791   \n",
       "1  Bight and Spacious interior\\nNumerous original...  53.357129  -6.239779   \n",
       "2  Special Features\\nLarge rear garden\\nGenerous ...  53.266468  -6.222771   \n",
       "3  Wonderful 3 bed detached bungalow.     \\nAccom...  53.261600  -6.166738   \n",
       "4  Detached Property      \\nDouble Glazed Windows...  53.550731  -6.121415   \n",
       "\n",
       "            Type  Surface   Price  \n",
       "0      apartment    67.00  195000  \n",
       "1       terraced    95.97  425000  \n",
       "2  semi-detached   107.00  535000  \n",
       "3       detached    81.00  499000  \n",
       "4       detached   153.00  510000  "
      ]
     },
     "execution_count": 77,
     "metadata": {},
     "output_type": "execute_result"
    }
   ],
   "source": [
    "print(dftrain.columns)\n",
    "dftrain.head(5)"
   ]
  },
  {
   "cell_type": "markdown",
   "metadata": {},
   "source": [
    "EDA"
   ]
  },
  {
   "cell_type": "code",
   "execution_count": 42,
   "metadata": {},
   "outputs": [],
   "source": [
    "def outliners(feature):\n",
    "    fig = plt.figure(figsize=(10,4))\n",
    "\n",
    "    ax = fig.add_subplot(1, 2, 1)\n",
    "    ax.set_title(\"Boxplot of \" + feature)\n",
    "    ax.set_xlabel(feature)\n",
    "    ax.set_ylabel('Number of Applicants')\n",
    "    dftrain.boxplot(column=[feature])\n",
    "\n",
    "    plt.show()"
   ]
  },
  {
   "cell_type": "code",
   "execution_count": 43,
   "metadata": {},
   "outputs": [
    {
     "name": "stdout",
     "output_type": "stream",
     "text": [
      "0       extraouturban\n",
      "1               urban\n",
      "2            outurban\n",
      "3       extraouturban\n",
      "4              farest\n",
      "            ...      \n",
      "1633         outurban\n",
      "1634         outurban\n",
      "1635    extraouturban\n",
      "1636            urban\n",
      "1637    extraouturban\n",
      "Name: Distance, Length: 1638, dtype: object\n"
     ]
    }
   ],
   "source": [
    "\n",
    "coordinates = [dftrain.Latitude,dftrain.Longitude]\n",
    "coordinates = pd.DataFrame(np.array(coordinates).T).add_prefix('C')\n",
    "distances=np.ones(dftrain.Latitude.shape)\n",
    "dublin_coordinate =[53.3498053,-6.2603097]\n",
    "for i in range(coordinates.C0.shape[0]) :\n",
    "    coord=[coordinates.C0[i], coordinates.C1[i]]\n",
    "    d = distance(dublin_coordinate, np.array(coord))\n",
    "    distances[i]=d\n",
    "    #if d>25:\n",
    "\n",
    "dftrain[\"Distances\"] = pd.DataFrame(np.array(distances))    \n",
    "dftrain[\"Distance\"] = dftrain[\"Distances\"].apply(distanceEncoder)\n",
    "print(dftrain[\"Distance\"])\n"
   ]
  },
  {
   "cell_type": "code",
   "execution_count": 731,
   "metadata": {},
   "outputs": [
    {
     "data": {
      "image/png": "[encoded data removed]",
      "text/plain": [
       "<Figure size 720x288 with 1 Axes>"
      ]
     },
     "metadata": {
      "needs_background": "light"
     },
     "output_type": "display_data"
    }
   ],
   "source": [
    "outliners('Distances')"
   ]
  },
  {
   "cell_type": "code",
   "execution_count": 753,
   "metadata": {},
   "outputs": [],
   "source": [
    "#dftrain=dftrain[dftrain[\"Distances\"]<50]"
   ]
  },
  {
   "cell_type": "code",
   "execution_count": 755,
   "metadata": {},
   "outputs": [],
   "source": [
    "\n",
    "#dftrain=dftrain[dftrain['Num_Bathrooms'] < 10]\n",
    "\n",
    "\n",
    "#dftrain=dftrain[dftrain['Num_Beds'] < 10]\n",
    "\n",
    "\n",
    "#dftrain=dftrain[dftrain['Surface'] < 50000]"
   ]
  },
  {
   "cell_type": "code",
   "execution_count": 44,
   "metadata": {},
   "outputs": [],
   "source": [
    "for i in range(dftrain.Description.values.shape[0]):\n",
    "    dftrain.Description.values[i]=' '.join(dict.fromkeys(dftrain.Description.values[i].split()))\n",
    "    #print (dftrain.Description.values[i])\n",
    "#dftrain.Description.values = dftrain.Description.values' '.join(dict.fromkeys(string.split())))"
   ]
  },
  {
   "cell_type": "code",
   "execution_count": 45,
   "metadata": {},
   "outputs": [],
   "source": [
    "\n",
    "dftrain.BER_class = dftrain.BER_class.replace({'A1':'excelentenergy','A2':'excelentenergy','A3':'excelentenergy'})\n",
    "dftrain.BER_class = dftrain.BER_class.replace({'B1':'goodenergy','B2':'goodenergy','B3':'goodenergy'})\n",
    "dftrain.BER_class = dftrain.BER_class.replace({'C1':'midiumenergy','C2':'midiumenergy','C3':'midiumenergy'})\n",
    "dftrain.BER_class = dftrain.BER_class.replace({'D1':'lowenergy','D2':'lowenergy','D3':'lowenergy'})\n",
    "dftrain.BER_class = dftrain.BER_class.replace({'E1':'lowerenergy','E2':'lowerenergy','E3':'lowerenergy'})\n",
    "dftrain.BER_class = dftrain.BER_class.replace({'F':'badenergy','G':'badenergy','SINo666of2006exempt':'badenergy',np.nan:'badenergy'})\n",
    "dftrain.Num_Beds = dftrain.Num_Beds.replace({1:'verysmall',2:'midiumsmall',3:'midiumhouse',4:'largehouse'})\n",
    "dftrain.Num_Beds = dftrain.Num_Beds.replace({5:'extralarge',6:'extralarge',7:'extralarge',8:'extralarge'})\n",
    "dftrain.Num_Beds = dftrain.Num_Beds.replace({9:'extralarge',15:'extralarge',27:'extralarge'})\n"
   ]
  },
  {
   "cell_type": "code",
   "execution_count": 46,
   "metadata": {},
   "outputs": [],
   "source": [
    "dftrain[\"Description2\"] = dftrain.Description.str.cat(dftrain.Num_Beds, sep=\" \").str.cat(dftrain.BER_class, sep=\" \")#.str.cat(dftrain.Distance, sep=\" \")\n",
    "#dftrain[\"Description2\"] = dftrain.Num_Beds.str.cat(dftrain.BER_class, sep=\" \").str.cat(dftrain.Distance, sep=\" \")\n",
    "dftrain[\"Description2\"] = dftrain[\"Description2\"].str.cat(dftrain.Type, sep=\" \")"
   ]
  },
  {
   "cell_type": "code",
   "execution_count": 384,
   "metadata": {},
   "outputs": [
    {
     "name": "stdout",
     "output_type": "stream",
     "text": [
      "0       DNG are delighted to present the market no. 5 ...\n",
      "1       13 Northbrook Terrace is a charming red brick ...\n",
      "2       Welcome to No. 6 Cotter Close, an immaculately...\n",
      "3       Welcome to 3 Sycamore Walk! Enjoying a premier...\n",
      "4       'Four Seasons' comes to the market as a wonder...\n",
      "                              ...                        \n",
      "1633    Built in c.1930 38 Stradbrook Road is a deligh...\n",
      "1634    An impressive three-story family home superbly...\n",
      "1635    DNG Lucan's leading estate agents are delighte...\n",
      "1636    Holyrood Castle is a most distinctive 19th cen...\n",
      "1637    A superb opportunity awaits to acquire this be...\n",
      "Name: Description2, Length: 1638, dtype: object\n"
     ]
    }
   ],
   "source": [
    "print(dftrain.Description2)"
   ]
  },
  {
   "cell_type": "code",
   "execution_count": null,
   "metadata": {},
   "outputs": [],
   "source": [
    "\n"
   ]
  },
  {
   "cell_type": "code",
   "execution_count": 48,
   "metadata": {},
   "outputs": [],
   "source": [
    "from sklearn.model_selection import train_test_split\n",
    "y=dftrain.Price\n",
    "X=dftrain\n",
    "X_train, X_test, y_train, y_test = train_test_split(X, y, test_size=0.2)"
   ]
  },
  {
   "cell_type": "code",
   "execution_count": null,
   "metadata": {},
   "outputs": [],
   "source": []
  },
  {
   "cell_type": "code",
   "execution_count": 581,
   "metadata": {},
   "outputs": [
    {
     "data": {
      "text/plain": [
       "Index               0\n",
       "ID                  0\n",
       "Location            0\n",
       "Num_Bathrooms       0\n",
       "Num_Beds            0\n",
       "BER_class           0\n",
       "Description         0\n",
       "Services         1061\n",
       "Features            0\n",
       "Latitude            0\n",
       "Longitude           0\n",
       "Type                0\n",
       "Surface             0\n",
       "Price               0\n",
       "dtype: int64"
      ]
     },
     "execution_count": 581,
     "metadata": {},
     "output_type": "execute_result"
    }
   ],
   "source": [
    "dftrain.isna().sum()"
   ]
  },
  {
   "cell_type": "code",
   "execution_count": 49,
   "metadata": {},
   "outputs": [],
   "source": [
    "excluded_words=['living','bedroom','Kitchen','room','bathroom','accommod',' entranc','hall','excel','delight','offer','purchas','includ','sale','agent','minut','owner','highli','four','approx','proport','sport','point','back','rear','club']\n",
    "nlp = NlpPipeline (X_train.Description2,excluded_words)\n",
    "data = nlp.build()\n",
    "data_df = pd.DataFrame(np.array(data)).add_prefix('C')\n",
    "\n"
   ]
  },
  {
   "cell_type": "code",
   "execution_count": 50,
   "metadata": {},
   "outputs": [
    {
     "name": "stdout",
     "output_type": "stream",
     "text": [
      "(1310, 1)\n",
      "(1310, 1000)\n"
     ]
    }
   ],
   "source": [
    "\n",
    "print(data_df.shape)\n",
    "basicvectorizer = CountVectorizer(ngram_range=(1,1),max_features=1000)\n",
    "basictrain = basicvectorizer.fit_transform(data_df.C0)\n",
    "print(basictrain.shape)"
   ]
  },
  {
   "cell_type": "code",
   "execution_count": 434,
   "metadata": {},
   "outputs": [],
   "source": [
    "#print(basicvectorizer.vocabulary_)"
   ]
  },
  {
   "cell_type": "code",
   "execution_count": 17,
   "metadata": {},
   "outputs": [],
   "source": [
    "def calculate_mean_square_error(actual, pred): \n",
    "    actual, pred = np.array(actual), np.array(pred)\n",
    "    return np.sqrt(np.mean(np.square((actual - pred) / actual))) * 100"
   ]
  },
  {
   "cell_type": "code",
   "execution_count": 51,
   "metadata": {},
   "outputs": [
    {
     "name": "stdout",
     "output_type": "stream",
     "text": [
      "rmspe: 0.0 %\n",
      "accuracy: 100.0 %\n",
      "accuracy r2: 100.0 %\n"
     ]
    }
   ],
   "source": [
    "\n",
    "basicmodel = svm.LinearSVC(C=0.1, class_weight='balanced', multi_class='ovr')\n",
    "basicmodel = basicmodel.fit(basictrain, y_train)\n",
    "basictrain = basicvectorizer.transform(data_df.C0)\n",
    "predictions_train = basicmodel.predict(basictrain)\n",
    "print ('rmspe:',calculate_mean_square_error(np.array(y_train), np.array(predictions_train)),'%')\n",
    "print ('accuracy:',100-calculate_mean_square_error(np.array(y_train), np.array(predictions_train)),'%')\n",
    "print ('accuracy r2:',r2_score(y_train, predictions_train)*100, '%')"
   ]
  },
  {
   "cell_type": "code",
   "execution_count": 52,
   "metadata": {},
   "outputs": [
    {
     "name": "stdout",
     "output_type": "stream",
     "text": [
      "(328, 1)\n",
      "(328,)\n"
     ]
    }
   ],
   "source": [
    "nlp2 = NlpPipeline (X_test.Description2,excluded_words)\n",
    "data2 = nlp2.build()\n",
    "data_df2 = pd.DataFrame(np.array(data2)).add_prefix('C')\n",
    "\n",
    "print(data_df2.shape)\n",
    "print(X_test.Description2.shape)\n"
   ]
  },
  {
   "cell_type": "code",
   "execution_count": 53,
   "metadata": {},
   "outputs": [],
   "source": [
    "\n",
    "basictest = basicvectorizer.transform(data_df2.C0)\n",
    "predictions = basicmodel.predict(basictest)\n",
    "#print (classification_report(y_test, predictions))\n",
    "#print (accuracy_score(y_test, predictions))\n"
   ]
  },
  {
   "cell_type": "code",
   "execution_count": null,
   "metadata": {},
   "outputs": [],
   "source": []
  },
  {
   "cell_type": "code",
   "execution_count": 54,
   "metadata": {},
   "outputs": [
    {
     "name": "stdout",
     "output_type": "stream",
     "text": [
      "rmspe: 40.97679486856175 %\n",
      "accuracy: 59.02320513143825 %\n",
      "0.22990844370028052\n",
      "1.0\n"
     ]
    }
   ],
   "source": [
    "from sklearn.metrics import r2_score\n",
    "#print(np.array(predictions))\n",
    "#print (accuracy_score(y_test, predictions))\n",
    "print ('rmspe:',calculate_mean_square_error(np.array(y_test), np.array(predictions)),'%')\n",
    "print ('accuracy:',100-calculate_mean_square_error(np.array(y_test), np.array(predictions)),'%')\n",
    "#print(np.array([y_test,predictions]).T)\n",
    "print (r2_score(y_test, predictions))\n",
    "print (r2_score(y_train, predictions_train))"
   ]
  },
  {
   "cell_type": "code",
   "execution_count": 513,
   "metadata": {},
   "outputs": [
    {
     "data": {
      "text/plain": [
       "<matplotlib.axes._subplots.AxesSubplot at 0x1865e96b460>"
      ]
     },
     "execution_count": 513,
     "metadata": {},
     "output_type": "execute_result"
    },
    {
     "data": {
      "image/png": "[encoded data removed]",
      "text/plain": [
       "<Figure size 432x288 with 1 Axes>"
      ]
     },
     "metadata": {
      "needs_background": "light"
     },
     "output_type": "display_data"
    }
   ],
   "source": [
    "import seaborn as sns\n",
    "sns.swarmplot(x=predictions_train,y=y_train)"
   ]
  },
  {
   "cell_type": "code",
   "execution_count": 514,
   "metadata": {},
   "outputs": [
    {
     "data": {
      "text/plain": [
       "<matplotlib.axes._subplots.AxesSubplot at 0x1865edd3730>"
      ]
     },
     "execution_count": 514,
     "metadata": {},
     "output_type": "execute_result"
    },
    {
     "data": {
      "image/png": "[encoded data removed]",
      "text/plain": [
       "<Figure size 432x288 with 1 Axes>"
      ]
     },
     "metadata": {
      "needs_background": "light"
     },
     "output_type": "display_data"
    }
   ],
   "source": [
    "import seaborn as sns\n",
    "sns.swarmplot(x=predictions,y=y_test)"
   ]
  },
  {
   "cell_type": "code",
   "execution_count": 341,
   "metadata": {},
   "outputs": [],
   "source": [
    "def get_classification_metric(testy, probs):\n",
    "    from sklearn.metrics import precision_recall_curve\n",
    "    precision, recall, thresholds = precision_recall_curve(testy, probs[:,1])\n",
    "    # convert to f score\n",
    "    fscore = (2 * precision * recall) / (precision + recall)\n",
    "    # locate the index of the largest f score\n",
    "    ix = np.argmax(fscore)\n",
    "    return fscore[ix]"
   ]
  },
  {
   "cell_type": "code",
   "execution_count": 804,
   "metadata": {},
   "outputs": [
    {
     "name": "stdout",
     "output_type": "stream",
     "text": [
      "[ 625000 1700000  315000 ...  230000  695000  500000]\n"
     ]
    }
   ],
   "source": [
    "from sklearn.preprocessing import MinMaxScaler , StandardScaler\n",
    "y=np.array(y_train.copy()).reshape(-1, 1)\n",
    "#Scale the y - price into 0 to 1\n",
    "#y=NormalizeData(y)\n",
    "#y_scaller = StandardScaler()\n",
    "#y=yscaler.transform(y)\n",
    "print((y.T[0]))"
   ]
  },
  {
   "cell_type": "code",
   "execution_count": 805,
   "metadata": {},
   "outputs": [
    {
     "name": "stdout",
     "output_type": "stream",
     "text": [
      "training prediction\t 1228 y\t 1228\n",
      "0.9928088060765048\n"
     ]
    }
   ],
   "source": [
    "\n",
    "\n",
    "#MNB = MultinomialNB(alpha=0.1, class_prior=None, fit_prior=True) \n",
    "rng = np.random.RandomState(20)\n",
    "\n",
    "MNB =  AdaBoostRegressor(DecisionTreeRegressor(max_depth=20),\n",
    "                           n_estimators=5000, random_state=rng)\n",
    "MNB.fit(basictrain.toarray(), (y.T[0]) ) \n",
    "\n",
    "\n",
    "#MNB = LinearSVR(random_state=0, tol=1e-5)\n",
    "# fit to data\n",
    "#print(basictrain.toarray(), ':', np.array(y))\n",
    "#MNB.fit(basictrain, np.array(y.T[0], dtype=\"|S6\") ) \n",
    "#MNB.fit(basictrain, (y.T[0]) ) \n",
    "\n",
    "#prediction_train = MNB.predict_proba(basictrain)\n",
    "prediction_train = MNB.predict(basictrain.toarray())\n",
    "preds = []\n",
    "for i in range(prediction_train.shape[0]):\n",
    "    #prob_max=np.max(prediction_train[i])\n",
    "    prob_max=prediction_train[i]\n",
    "    preds.append(prob_max)\n",
    "#preds = np.array(preds).reshape(1,-1)\n",
    "ys = []\n",
    "for i in range(y.shape[0]):\n",
    "    ys.append(y[i])\n",
    "\n",
    "print('training prediction\\t', len(preds),'y\\t', len(ys))\n",
    "print (r2_score(np.array(ys).astype(np.float64),np.array(preds).astype(np.float64)))\n",
    "#print(preds)"
   ]
  },
  {
   "cell_type": "code",
   "execution_count": 579,
   "metadata": {},
   "outputs": [],
   "source": [
    "def NormalizeData(data):\n",
    "    return (data - np.min(data)) / (np.max(data) - np.min(data))"
   ]
  },
  {
   "cell_type": "code",
   "execution_count": 810,
   "metadata": {},
   "outputs": [
    {
     "name": "stdout",
     "output_type": "stream",
     "text": [
      "(410,)\n"
     ]
    }
   ],
   "source": [
    "y_t=np.array(y_test.copy()).reshape(-1, 1)\n",
    "#Scale the y - price into 0 to 1\n",
    "#y_t=NormalizeData(y_t)\n",
    "#y_scaller = MinMaxScaler()\n",
    "#y_t=yscaler.fit_transform(y_t)\n",
    "#print((y_t.T[0]))\n",
    "print(y_test.shape)"
   ]
  },
  {
   "cell_type": "code",
   "execution_count": 812,
   "metadata": {},
   "outputs": [
    {
     "name": "stdout",
     "output_type": "stream",
     "text": [
      "test prediction\t 410 y\t 410\n",
      "0.4990634375863693\n"
     ]
    }
   ],
   "source": [
    "#prediction_train = MNB.predict_proba(basictrain)\n",
    "prediction_test = MNB.predict(basictest.toarray())\n",
    "preds_test = []\n",
    "for i in range(prediction_test.shape[0]):\n",
    "    #prob_max=np.max(prediction_train[i])\n",
    "    prob_max=prediction_test[i]\n",
    "    preds_test.append(prob_max)\n",
    "#preds = np.array(preds).reshape(1,-1)\n",
    "yts = []\n",
    "for i in range(y_t.shape[0]):\n",
    "    yts.append(y_t[i])\n",
    "#preds_test = NormalizeData(np.array(preds_test).astype(np.float64))\n",
    "print('test prediction\\t', len(preds_test),'y\\t', len(y_test))\n",
    "print (r2_score(yts,np.array(preds_test).astype(np.float64)))\n",
    "#print (get_classification_metric(yts,preds_test))\n",
    "#print(preds_test, yts)"
   ]
  },
  {
   "cell_type": "code",
   "execution_count": 749,
   "metadata": {},
   "outputs": [
    {
     "data": {
      "text/plain": [
       "<matplotlib.axes._subplots.AxesSubplot at 0x1865daeb0d0>"
      ]
     },
     "execution_count": 749,
     "metadata": {},
     "output_type": "execute_result"
    },
    {
     "data": {
      "image/png": "[encoded data removed]",
      "text/plain": [
       "<Figure size 432x288 with 1 Axes>"
      ]
     },
     "metadata": {
      "needs_background": "light"
     },
     "output_type": "display_data"
    }
   ],
   "source": [
    "import seaborn as sns\n",
    "sns.swarmplot(x=preds_test,y=yts)\n"
   ]
  },
  {
   "cell_type": "code",
   "execution_count": 775,
   "metadata": {},
   "outputs": [
    {
     "data": {
      "text/plain": [
       "<matplotlib.axes._subplots.AxesSubplot at 0x1866000b0d0>"
      ]
     },
     "execution_count": 775,
     "metadata": {},
     "output_type": "execute_result"
    },
    {
     "data": {
      "image/png": "[encoded data removed]",
      "text/plain": [
       "<Figure size 432x288 with 1 Axes>"
      ]
     },
     "metadata": {
      "needs_background": "light"
     },
     "output_type": "display_data"
    }
   ],
   "source": [
    "sns.scatterplot(x=preds_test,y=yts)"
   ]
  },
  {
   "cell_type": "code",
   "execution_count": 55,
   "metadata": {},
   "outputs": [
    {
     "name": "stdout",
     "output_type": "stream",
     "text": [
      "0.9982027846707807\n"
     ]
    }
   ],
   "source": [
    "from sklearn.ensemble import BaggingRegressor\n",
    "from sklearn.tree import ExtraTreeRegressor\n",
    "extra_tree = ExtraTreeRegressor(random_state=0)\n",
    "reg = AdaBoostRegressor(extra_tree,n_estimators=200, random_state=0, learning_rate=0.8).fit(basictrain.toarray(), y_train)\n",
    "pred_b = reg.predict(basictrain.toarray())\n",
    "print (r2_score(y_train, pred_b))\n"
   ]
  },
  {
   "cell_type": "code",
   "execution_count": 58,
   "metadata": {},
   "outputs": [
    {
     "name": "stdout",
     "output_type": "stream",
     "text": [
      "0.6968081649370715\n",
      "MAE =  126558.68902439025\n",
      "MAPE =  0.22577267919806215\n"
     ]
    }
   ],
   "source": [
    "pred_t = reg.predict(basictest.toarray())\n",
    "print (r2_score(y_test, pred_t))\n",
    "print(\"MAE = \",(np.mean(abs(pred_t - y_test))))\n",
    "print(\"MAPE = \",(np.mean(abs(pred_t - y_test) / y_test)))"
   ]
  },
  {
   "cell_type": "code",
   "execution_count": 57,
   "metadata": {},
   "outputs": [
    {
     "data": {
      "text/plain": [
       "<matplotlib.axes._subplots.AxesSubplot at 0x1c407963910>"
      ]
     },
     "execution_count": 57,
     "metadata": {},
     "output_type": "execute_result"
    },
    {
     "data": {
      "image/png": "[encoded data removed]",
      "text/plain": [
       "<Figure size 432x288 with 1 Axes>"
      ]
     },
     "metadata": {
      "needs_background": "light"
     },
     "output_type": "display_data"
    }
   ],
   "source": [
    "import seaborn as sns\n",
    "sns.swarmplot(x=pred_t,y=y_test)"
   ]
  },
  {
   "cell_type": "code",
   "execution_count": 340,
   "metadata": {},
   "outputs": [],
   "source": [
    "def get_classification_metric(testy, probs):\n",
    "    from sklearn.metrics import precision_recall_curve\n",
    "    precision, recall, thresholds = precision_recall_curve(testy, probs[:,1])\n",
    "    # convert to f score\n",
    "    fscore = (2 * precision * recall) / (precision + recall)\n",
    "    # locate the index of the largest f score\n",
    "    ix = np.argmax(fscore)\n",
    "    return fscore[ix]"
   ]
  }
 ],
 "metadata": {
  "kernelspec": {
   "display_name": "Python 3",
   "language": "python",
   "name": "python3"
  },
  "language_info": {
   "codemirror_mode": {
    "name": "ipython",
    "version": 3
   },
   "file_extension": ".py",
   "mimetype": "text/x-python",
   "name": "python",
   "nbconvert_exporter": "python",
   "pygments_lexer": "ipython3",
   "version": "3.8.3"
  }
 },
 "nbformat": 4,
 "nbformat_minor": 4
}
